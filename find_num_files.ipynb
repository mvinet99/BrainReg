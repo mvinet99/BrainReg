{
 "cells": [
  {
   "cell_type": "code",
   "execution_count": 31,
   "id": "40b0aa4d",
   "metadata": {},
   "outputs": [],
   "source": [
    "# Import dependencies\n",
    "import os\n",
    "import glob"
   ]
  },
  {
   "cell_type": "code",
   "execution_count": 111,
   "id": "94786ffe",
   "metadata": {},
   "outputs": [],
   "source": [
    "# Create list of subfolders\n",
    "subfolders = next(os.walk(os.path.join('data')))[1]\n",
    "\n",
    "# Initialize integer variables\n",
    "num_fluoro = int()\n",
    "miss_fluoro = list()\n",
    "num_postop = int()\n",
    "miss_postop = list()\n",
    "num_preop = int()\n",
    "miss_preop = list()\n",
    "num_T1 = int()\n",
    "miss_T1 = list()\n",
    "num_hull = int()\n",
    "miss_hull = list()\n",
    "num_align = int()\n",
    "miss_align = list()\n",
    "num_cam = int()\n",
    "miss_cam = list()\n",
    "num_ele = int()\n",
    "miss_ele = list()\n",
    "num_tips = int()\n",
    "miss_tips = list()\n",
    "\n",
    "# Find number of each filetype for all patients\n",
    "for i in range(len(subfolders)):\n",
    "    \n",
    "    # Count fluoroscopy files\n",
    "    count_fluoro = len(glob.glob1(os.path.join('data/' + subfolders[i]), \"*.tif\"))\n",
    "    if count_fluoro >= 1:\n",
    "        num_fluoro = num_fluoro + 1\n",
    "    if count_fluoro == 0:\n",
    "        miss_fluoro.append(subfolders[i])\n",
    "        \n",
    "    # Count Postop CT files\n",
    "    \n",
    "    count_postop = len(glob.glob1(os.path.join('data/' + subfolders[i]), \"*post*\"))\n",
    "    if count_postop >= 1:\n",
    "        num_postop = num_postop + 1\n",
    "    if count_postop == 0:\n",
    "        miss_postop.append(subfolders[i])\n",
    "    \n",
    "    # Count Preop CT files\n",
    "    \n",
    "    count_preop = len(glob.glob1(os.path.join('data/' + subfolders[i]), \"*pre*\"))\n",
    "    if count_preop >= 1:\n",
    "        num_preop = num_preop + 1\n",
    "    if count_preop == 0:\n",
    "        miss_preop.append(subfolders[i])\n",
    "    \n",
    "    # Count T1 MRI files\n",
    "    \n",
    "    count_T1 = len(glob.glob1(os.path.join('data/' + subfolders[i]), \"T1.nii\"))\n",
    "    if count_T1 >= 1:\n",
    "        num_T1 = num_T1 + 1\n",
    "    if count_T1 == 0:\n",
    "        miss_T1.append(subfolders[i])\n",
    "        \n",
    "    # Count MRI hull.mat files\n",
    "    \n",
    "    count_hull = len(glob.glob1(os.path.join('data/' + subfolders[i]), \"*hull*\"))\n",
    "    if count_hull >= 1:\n",
    "        num_hull = num_hull + 1\n",
    "    if count_hull == 0:\n",
    "        miss_hull.append(subfolders[i])\n",
    "        \n",
    "    # Search subfolders for this patient\n",
    "    subfolders2 = next(os.walk(os.path.join('data/' + subfolders[i])))[1]\n",
    "    \n",
    "    sub_align = int()\n",
    "    sub_cam =int()\n",
    "    sub_ele = int()\n",
    "    sub_tips = int()\n",
    "    for j in range(len(subfolders2)):\n",
    "    \n",
    "        # Count fluoroscopy alignment files\n",
    "        count_align = len(glob.glob1(os.path.join('data/' + subfolders[i] + '/' + subfolders2[j]), \"*ment*\"))\n",
    "        if count_align >= 1:\n",
    "            sub_align = sub_align + 1\n",
    "        \n",
    "        # Count camera position files\n",
    "        count_cam = len(glob.glob1(os.path.join('data/' + subfolders[i] + '/' + subfolders2[j]), \"*cam*\"))\n",
    "        if count_cam >= 1:\n",
    "            sub_cam = sub_cam + 1\n",
    "            \n",
    "        # Count electrode locations files\n",
    "        count_ele = len(glob.glob1(os.path.join('data/' + subfolders[i] + '/' + subfolders2[j]), \"*locs*\"))\n",
    "        count_ele = count_ele + len(glob.glob1(os.path.join('data/' + subfolders[i] + '/' + subfolders2[j]), \"*coordinates*\"))\n",
    "        if count_ele >= 1:\n",
    "            sub_ele = sub_ele + 1\n",
    "        \n",
    "        # Count pin tips locations files\n",
    "        count_tips = len(glob.glob1(os.path.join('data/' + subfolders[i] + '/' + subfolders2[j]), \"*ips*\"))\n",
    "        if count_tips >= 1:\n",
    "            sub_tips = sub_tips + 1\n",
    "    \n",
    "    # Max of 1 file type for each patient\n",
    "    if sub_align >= 1:\n",
    "        num_align = num_align + 1\n",
    "    if sub_align == 0:\n",
    "        miss_align.append(subfolders[i])\n",
    "    if sub_cam >= 1:\n",
    "        num_cam = num_cam + 1\n",
    "    if sub_cam == 0:\n",
    "        miss_cam.append(subfolders[i])\n",
    "    if sub_ele >= 1:\n",
    "        num_ele = num_ele + 1\n",
    "    if sub_ele == 0:\n",
    "        miss_ele.append(subfolders[i])\n",
    "    if sub_tips >= 1:\n",
    "        num_tips = num_tips + 1\n",
    "    if sub_tips == 0:\n",
    "        miss_tips.append(subfolders[i])\n"
   ]
  },
  {
   "cell_type": "code",
   "execution_count": 114,
   "id": "b5cb913d",
   "metadata": {},
   "outputs": [
    {
     "name": "stdout",
     "output_type": "stream",
     "text": [
      "Number of fluoro images: 83 , Patients missing this file type: ['DBS_bS21', 'DBS_bT15', 'DBS_rS02']\n"
     ]
    }
   ],
   "source": [
    "print('Number of fluoro images:', num_fluoro, ', Patients missing this file type:', miss_fluoro)"
   ]
  },
  {
   "cell_type": "code",
   "execution_count": 115,
   "id": "f36cac5c",
   "metadata": {},
   "outputs": [
    {
     "name": "stdout",
     "output_type": "stream",
     "text": [
      "Number of postop images: 76 , Patients missing this file type: ['DBS_bG02', 'DBS_bG06', 'DBS_bG09', 'DBS_bG12', 'DBS_bG13', 'DBS_bG27', 'DBS_bG38', 'DBS_bG74', 'DBS_bS18', 'DBS_bT08']\n"
     ]
    }
   ],
   "source": [
    "print('Number of postop images:', num_postop, ', Patients missing this file type:', miss_postop)"
   ]
  },
  {
   "cell_type": "code",
   "execution_count": 116,
   "id": "70dbd18b",
   "metadata": {},
   "outputs": [
    {
     "name": "stdout",
     "output_type": "stream",
     "text": [
      "Number of preop images: 79 , Patients missing this file type: ['DBS_bG71', 'DBS_bG72', 'DBS_bG74', 'DBS_bS18', 'DBS_bS21', 'DBS_bT15', 'DBS_rS02']\n"
     ]
    }
   ],
   "source": [
    "print('Number of preop images:', num_preop, ', Patients missing this file type:', miss_preop)"
   ]
  },
  {
   "cell_type": "code",
   "execution_count": 117,
   "id": "0d98b29c",
   "metadata": {},
   "outputs": [
    {
     "name": "stdout",
     "output_type": "stream",
     "text": [
      "Number of T1 files: 44 , Patients missing this file type: ['DBS_bG01', 'DBS_bG02', 'DBS_bG03', 'DBS_bG06', 'DBS_bG09', 'DBS_bG10', 'DBS_bG12', 'DBS_bG13', 'DBS_bG17', 'DBS_bG18', 'DBS_bG19', 'DBS_bG20', 'DBS_bG21', 'DBS_bG22', 'DBS_bG25', 'DBS_bG26', 'DBS_bG27', 'DBS_bG28', 'DBS_bG29', 'DBS_bG30', 'DBS_bG38', 'DBS_bG53', 'DBS_bG54', 'DBS_bG56', 'DBS_bG57', 'DBS_bG59', 'DBS_bG61', 'DBS_bG62', 'DBS_bG63', 'DBS_bG64', 'DBS_bG65', 'DBS_bG66', 'DBS_bG67', 'DBS_bG68', 'DBS_bG69', 'DBS_bG70', 'DBS_bG74', 'DBS_bG75', 'DBS_bG76', 'DBS_bS02', 'DBS_bS18', 'DBS_bT14']\n"
     ]
    }
   ],
   "source": [
    "print('Number of T1 files:', num_T1, ', Patients missing this file type:', miss_T1)"
   ]
  },
  {
   "cell_type": "code",
   "execution_count": 118,
   "id": "ed819644",
   "metadata": {},
   "outputs": [
    {
     "name": "stdout",
     "output_type": "stream",
     "text": [
      "Number of hull.mat files: 82 , Patients missing this file type: ['DBS_bS06', 'DBS_bS21', 'DBS_bT15', 'DBS_rS02']\n"
     ]
    }
   ],
   "source": [
    "print('Number of hull.mat files:', num_hull, ', Patients missing this file type:', miss_hull)"
   ]
  },
  {
   "cell_type": "code",
   "execution_count": 119,
   "id": "52773c43",
   "metadata": {},
   "outputs": [
    {
     "name": "stdout",
     "output_type": "stream",
     "text": [
      "Number of alignment files: 26 , Patients missing this file type: ['DBS_bG01', 'DBS_bG02', 'DBS_bG03', 'DBS_bG06', 'DBS_bG09', 'DBS_bG10', 'DBS_bG12', 'DBS_bG13', 'DBS_bG17', 'DBS_bG18', 'DBS_bG19', 'DBS_bG20', 'DBS_bG21', 'DBS_bG22', 'DBS_bG25', 'DBS_bG26', 'DBS_bG27', 'DBS_bG28', 'DBS_bG29', 'DBS_bG30', 'DBS_bG38', 'DBS_bG53', 'DBS_bG54', 'DBS_bG56', 'DBS_bG57', 'DBS_bG59', 'DBS_bG61', 'DBS_bG62', 'DBS_bG63', 'DBS_bG64', 'DBS_bG65', 'DBS_bG66', 'DBS_bG67', 'DBS_bG68', 'DBS_bG69', 'DBS_bG70', 'DBS_bG71', 'DBS_bG72', 'DBS_bG73', 'DBS_bG74', 'DBS_bG75', 'DBS_bS02', 'DBS_bS05', 'DBS_bS16', 'DBS_bS18', 'DBS_bS19', 'DBS_bS20', 'DBS_bS21', 'DBS_bT05', 'DBS_bT07', 'DBS_bT15', 'DBS_IG01', 'DBS_IS01', 'DBS_IS04', 'DBS_IS05', 'DBS_IS06', 'DBS_IT03', 'DBS_rG02', 'DBS_rS02', 'DBS_rT02']\n"
     ]
    }
   ],
   "source": [
    "print('Number of alignment files:', num_align, ', Patients missing this file type:', miss_align)"
   ]
  },
  {
   "cell_type": "code",
   "execution_count": 120,
   "id": "f25864de",
   "metadata": {},
   "outputs": [
    {
     "name": "stdout",
     "output_type": "stream",
     "text": [
      "Number of camera position files: 45 , Patients missing this file type: ['DBS_bG17', 'DBS_bG27', 'DBS_bG29', 'DBS_bG30', 'DBS_bG38', 'DBS_bG53', 'DBS_bG54', 'DBS_bG56', 'DBS_bG59', 'DBS_bG62', 'DBS_bG63', 'DBS_bG64', 'DBS_bG65', 'DBS_bG72', 'DBS_bS02', 'DBS_bS05', 'DBS_bS17', 'DBS_bS18', 'DBS_bS21', 'DBS_bT01', 'DBS_bT05', 'DBS_bT07', 'DBS_bT08', 'DBS_bT15', 'DBS_IG01', 'DBS_IS01', 'DBS_IS02', 'DBS_IS04', 'DBS_IT01', 'DBS_IT02', 'DBS_IT03', 'DBS_IT04', 'DBS_IT06', 'DBS_IT07', 'DBS_IT08', 'DBS_IT09', 'DBS_rG01', 'DBS_rG02', 'DBS_rS02', 'DBS_rT01', 'DBS_rT02']\n"
     ]
    }
   ],
   "source": [
    "print('Number of camera position files:', num_cam, ', Patients missing this file type:', miss_cam)"
   ]
  },
  {
   "cell_type": "code",
   "execution_count": 121,
   "id": "72b5e0f5",
   "metadata": {},
   "outputs": [
    {
     "name": "stdout",
     "output_type": "stream",
     "text": [
      "Number of electrode locations files: 74 , Patients missing this file type: ['DBS_bG30', 'DBS_bS02', 'DBS_bS05', 'DBS_bS21', 'DBS_bT05', 'DBS_bT07', 'DBS_bT15', 'DBS_IG01', 'DBS_IT03', 'DBS_rG02', 'DBS_rS02', 'DBS_rT02']\n"
     ]
    }
   ],
   "source": [
    "print('Number of electrode locations files:', num_ele, ', Patients missing this file type:', miss_ele)"
   ]
  },
  {
   "cell_type": "code",
   "execution_count": 122,
   "id": "a2f5a739",
   "metadata": {},
   "outputs": [
    {
     "name": "stdout",
     "output_type": "stream",
     "text": [
      "Number of pin tips locations files: 74 , Patients missing this file type: ['DBS_bG30', 'DBS_bS02', 'DBS_bS05', 'DBS_bS21', 'DBS_bT05', 'DBS_bT07', 'DBS_bT15', 'DBS_IG01', 'DBS_IT03', 'DBS_rG02', 'DBS_rS02', 'DBS_rT02']\n"
     ]
    }
   ],
   "source": [
    "print('Number of pin tips locations files:', num_tips, ', Patients missing this file type:', miss_tips)"
   ]
  },
  {
   "cell_type": "code",
   "execution_count": null,
   "id": "63868e3a",
   "metadata": {},
   "outputs": [],
   "source": []
  }
 ],
 "metadata": {
  "kernelspec": {
   "display_name": "Python 3 (ipykernel)",
   "language": "python",
   "name": "python3"
  },
  "language_info": {
   "codemirror_mode": {
    "name": "ipython",
    "version": 3
   },
   "file_extension": ".py",
   "mimetype": "text/x-python",
   "name": "python",
   "nbconvert_exporter": "python",
   "pygments_lexer": "ipython3",
   "version": "3.9.12"
  }
 },
 "nbformat": 4,
 "nbformat_minor": 5
}
