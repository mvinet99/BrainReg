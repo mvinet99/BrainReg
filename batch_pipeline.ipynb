{
 "cells": [
  {
   "cell_type": "markdown",
   "id": "de2ecf1c",
   "metadata": {},
   "source": [
    "# Batch mode script to call and run the pipeline"
   ]
  },
  {
   "cell_type": "code",
   "execution_count": null,
   "id": "1f60eead",
   "metadata": {},
   "outputs": [],
   "source": [
    "# Install ipywidgets,ipyevents, circlefit and mayavi\n",
    "!pip install ipywidgets\n",
    "!pip install ipyevents \n",
    "!pip install mayavi\n",
    "!pip install circle-fit"
   ]
  },
  {
   "cell_type": "code",
   "execution_count": null,
   "id": "5342adde",
   "metadata": {},
   "outputs": [],
   "source": [
    "# Import dependencies\n",
    "import nibabel as nib\n",
    "import numpy as np\n",
    "import cv2\n",
    "import scipy.io\n",
    "import os\n",
    "import imageio\n",
    "import circle_fit as cf\n",
    "from utils import euclidean_distance_coords\n",
    "from tabulate import tabulate\n",
    "\n",
    "# Create list of subfolders - names of patient files to run the batch mode on\n",
    "subfolders = next(os.walk(os.path.join('data')))[1]\n",
    "subfolders = ['DBS_bG56', 'DBS_bG64', 'DBS_bT20']\n",
    "print(subfolders)"
   ]
  },
  {
   "cell_type": "code",
   "execution_count": null,
   "id": "5d77d4a0",
   "metadata": {},
   "outputs": [],
   "source": [
    "# Load data, execute pipeline, and display outputs in batch for each inputted patient file name\n",
    "data = []\n",
    "for i in range(len(subfolders)):\n",
    "\n",
    "    # Load patient data\n",
    "    SAMPLE_NAME = subfolders[i]\n",
    "    HULL_FILE_NAME = os.path.join('data/' + SAMPLE_NAME,\"hull_rh.mat\")\n",
    "    PRECT_FILE_NAME = os.path.join('data/' + SAMPLE_NAME,\"preop_ct.nii\")\n",
    "    POSTCT_FILE_NAME = os.path.join('data/' + SAMPLE_NAME,\"postop_ct.nii\")\n",
    "    FLUORO_FILE_NAME = os.path.join('data/' + SAMPLE_NAME,\"fluoro.tif\")\n",
    "\n",
    "    # read .mat File\n",
    "    hull = scipy.io.loadmat(HULL_FILE_NAME)\n",
    "    points_hull=np.array(hull['mask_indices'])\n",
    "\n",
    "    #read pre op CT\n",
    "    prect = nib.load(PRECT_FILE_NAME)\n",
    "    prect_data = np.nan_to_num(np.array(prect.get_fdata()))\n",
    "    Tmatrix = np.transpose(prect.affine)\n",
    "\n",
    "    #read post op CT\n",
    "    postct = nib.load(POSTCT_FILE_NAME)\n",
    "    postct_data = np.nan_to_num(np.array(postct.get_fdata()))\n",
    "\n",
    "    # fourth channel is infrared\n",
    "    fluoro = imageio.imread(FLUORO_FILE_NAME)\n",
    "    fluoro = cv2.cvtColor(fluoro, cv2.COLOR_BGR2GRAY)\n",
    "\n",
    "    #Call main script to run all component scripts for this patient and display results to user\n",
    "    %run Pipeline.ipynb\n",
    "    \n",
    "    #Load ground truth coordinates\n",
    "    gt_dict = scipy.io.loadmat(os.path.join('data/' + SAMPLE_NAME + \"/electrode_locations/electrode_locs.mat\"))\n",
    "    gt = gt_dict['CortElecLoc']\n",
    "    gt = np.concatenate(gt,axis=0)\n",
    "    new_gt = []\n",
    "    for i in range (len(gt)):\n",
    "        new = np.concatenate(gt[i],axis = 0)\n",
    "        new_gt.append(new)\n",
    "    new_gt = np.array(new_gt)\n",
    "    new_gt = new_gt[0:len(predictions),:]\n",
    "    \n",
    "    #Append results from this patient\n",
    "    data.append(SAMPLE_NAME)\n",
    "    data.append(predictions)\n",
    "    data.append(new_gt)\n",
    "    data.append(np.mean(np.abs(new_gt - predictions)))\n",
    "    data.append(euclidean_distance_coords(predictions, new_gt))\n",
    "    \n",
    "    #Display values of predicted and ground truth electrode coordinates\n",
    "    print('The predicted ECoG (x,y,z) coordinates are')\n",
    "    print(predictions)\n",
    "    print('and the ground truth ECoG (x,y,z) coordinates are')\n",
    "    print(new_gt)\n",
    "    print('for patient')\n",
    "    print(SAMPLE_NAME)\n",
    "\n",
    "data = list(data)"
   ]
  },
  {
   "cell_type": "markdown",
   "id": "7198e961",
   "metadata": {},
   "source": [
    "CT segmentation visualization 2"
   ]
  },
  {
   "cell_type": "markdown",
   "id": "76564bb4",
   "metadata": {},
   "source": [
    "###  DBS_bG56"
   ]
  },
  {
   "cell_type": "code",
   "execution_count": 18,
   "id": "c2463b40",
   "metadata": {},
   "outputs": [
    {
     "data": {
      "text/html": [
       "<img src=\"https://drive.google.com/uc?export=view&id=1H6GJcnixafTReEyp2a3ILdQ2NoY-ybgF\"/>"
      ],
      "text/plain": [
       "<IPython.core.display.Image object>"
      ]
     },
     "execution_count": 18,
     "metadata": {},
     "output_type": "execute_result"
    }
   ],
   "source": [
    "from IPython.display import Image\n",
    "Image(url=\"https://drive.google.com/uc?export=view&id=1H6GJcnixafTReEyp2a3ILdQ2NoY-ybgF\")"
   ]
  },
  {
   "cell_type": "markdown",
   "id": "c41b5f33",
   "metadata": {},
   "source": [
    "###  DBS_bG64"
   ]
  },
  {
   "cell_type": "code",
   "execution_count": 19,
   "id": "cfa30f73",
   "metadata": {},
   "outputs": [
    {
     "data": {
      "text/html": [
       "<img src=\"https://drive.google.com/uc?export=view&id=1BoxHu9nhSoy0TfDrxOMO6rIv4rezNuOR\"/>"
      ],
      "text/plain": [
       "<IPython.core.display.Image object>"
      ]
     },
     "execution_count": 19,
     "metadata": {},
     "output_type": "execute_result"
    }
   ],
   "source": [
    "Image(url=\"https://drive.google.com/uc?export=view&id=1BoxHu9nhSoy0TfDrxOMO6rIv4rezNuOR\")"
   ]
  },
  {
   "cell_type": "markdown",
   "id": "737463d2",
   "metadata": {},
   "source": [
    "### DBSbT20"
   ]
  },
  {
   "cell_type": "code",
   "execution_count": 20,
   "id": "b99e7357",
   "metadata": {},
   "outputs": [
    {
     "data": {
      "text/html": [
       "<img src=\"https://drive.google.com/uc?export=view&id=10P3szX3SlnQ9UOII6OjdYEfI_Tsp4mru\"/>"
      ],
      "text/plain": [
       "<IPython.core.display.Image object>"
      ]
     },
     "execution_count": 20,
     "metadata": {},
     "output_type": "execute_result"
    }
   ],
   "source": [
    "Image(url=\"https://drive.google.com/uc?export=view&id=10P3szX3SlnQ9UOII6OjdYEfI_Tsp4mru\")"
   ]
  },
  {
   "cell_type": "code",
   "execution_count": null,
   "id": "3462b114",
   "metadata": {},
   "outputs": [],
   "source": [
    "# Print results of batch to a table\n",
    "patients = [data[0], data[5], data[10]]\n",
    "predict = [data[1], data[6], data[11]]\n",
    "ground = [data[2], data[7], data[12]]\n",
    "MAE = [data[3], data[8], data[13]]\n",
    "EucDist = [data[4], data[9], data[14]]\n",
    "\n",
    "table = zip(patients,predict,ground,MAE,EucDist)\n",
    "\n",
    "headers=[\"Patient\", \"Predicted\", \"Ground Truth\", \"Mean Absolute Error\", \"Euclidean Distance\"]\n",
    "\n",
    "print(tabulate(table,headers))"
   ]
  },
  {
   "cell_type": "code",
   "execution_count": null,
   "id": "79e932ea",
   "metadata": {},
   "outputs": [],
   "source": []
  }
 ],
 "metadata": {
  "kernelspec": {
   "display_name": "Python 3",
   "language": "python",
   "name": "python3"
  },
  "language_info": {
   "codemirror_mode": {
    "name": "ipython",
    "version": 3
   },
   "file_extension": ".py",
   "mimetype": "text/x-python",
   "name": "python",
   "nbconvert_exporter": "python",
   "pygments_lexer": "ipython3",
   "version": "3.8.10"
  }
 },
 "nbformat": 4,
 "nbformat_minor": 5
}
