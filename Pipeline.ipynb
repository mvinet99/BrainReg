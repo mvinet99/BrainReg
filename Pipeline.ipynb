{
 "cells": [
  {
   "cell_type": "markdown",
   "id": "4d23bfc9",
   "metadata": {},
   "source": [
    "# FULL PIPELINE\n"
   ]
  },
  {
   "cell_type": "markdown",
   "id": "d6bdfdc2",
   "metadata": {},
   "source": [
    "This notebook will merge four steps:\n",
    "\n",
    "1 -  segment electrodes from fluoroscopy return coordinates\n",
    "\n",
    "2 - segment electodes from CT return coordinates\n",
    "\n",
    "3 -  map CT to 2D\n",
    "\n",
    "4 -  map coordinates back to 3D\n",
    "\n",
    "For now, we will demonstrate the full pipeline on DBS_bT20 data sample"
   ]
  },
  {
   "cell_type": "markdown",
   "id": "c6a23201",
   "metadata": {},
   "source": [
    "## READ ALL THE DATA"
   ]
  },
  {
   "cell_type": "code",
   "execution_count": null,
   "id": "abf2e801",
   "metadata": {},
   "outputs": [
    {
     "name": "stdout",
     "output_type": "stream",
     "text": [
      "Requirement already satisfied: ipywidgets in c:\\programdata\\anaconda3\\lib\\site-packages (7.6.5)\n",
      "Requirement already satisfied: nbformat>=4.2.0 in c:\\programdata\\anaconda3\\lib\\site-packages (from ipywidgets) (5.3.0)\n",
      "Requirement already satisfied: widgetsnbextension~=3.5.0 in c:\\programdata\\anaconda3\\lib\\site-packages (from ipywidgets) (3.5.2)\n",
      "Requirement already satisfied: traitlets>=4.3.1 in c:\\programdata\\anaconda3\\lib\\site-packages (from ipywidgets) (5.1.1)\n",
      "Requirement already satisfied: jupyterlab-widgets>=1.0.0 in c:\\programdata\\anaconda3\\lib\\site-packages (from ipywidgets) (1.0.0)\n",
      "Requirement already satisfied: ipykernel>=4.5.1 in c:\\programdata\\anaconda3\\lib\\site-packages (from ipywidgets) (6.9.1)\n",
      "Requirement already satisfied: ipython>=4.0.0 in c:\\programdata\\anaconda3\\lib\\site-packages (from ipywidgets) (8.2.0)\n",
      "Requirement already satisfied: ipython-genutils~=0.2.0 in c:\\programdata\\anaconda3\\lib\\site-packages (from ipywidgets) (0.2.0)\n",
      "Requirement already satisfied: matplotlib-inline<0.2.0,>=0.1.0 in c:\\programdata\\anaconda3\\lib\\site-packages (from ipykernel>=4.5.1->ipywidgets) (0.1.2)\n",
      "Requirement already satisfied: nest-asyncio in c:\\programdata\\anaconda3\\lib\\site-packages (from ipykernel>=4.5.1->ipywidgets) (1.5.5)\n",
      "Requirement already satisfied: tornado<7.0,>=4.2 in c:\\programdata\\anaconda3\\lib\\site-packages (from ipykernel>=4.5.1->ipywidgets) (6.1)\n",
      "Requirement already satisfied: jupyter-client<8.0 in c:\\programdata\\anaconda3\\lib\\site-packages (from ipykernel>=4.5.1->ipywidgets) (6.1.12)\n",
      "Requirement already satisfied: debugpy<2.0,>=1.0.0 in c:\\programdata\\anaconda3\\lib\\site-packages (from ipykernel>=4.5.1->ipywidgets) (1.5.1)\n",
      "Requirement already satisfied: backcall in c:\\programdata\\anaconda3\\lib\\site-packages (from ipython>=4.0.0->ipywidgets) (0.2.0)\n",
      "Requirement already satisfied: pickleshare in c:\\programdata\\anaconda3\\lib\\site-packages (from ipython>=4.0.0->ipywidgets) (0.7.5)\n",
      "Requirement already satisfied: decorator in c:\\programdata\\anaconda3\\lib\\site-packages (from ipython>=4.0.0->ipywidgets) (5.1.1)\n",
      "Requirement already satisfied: colorama in c:\\programdata\\anaconda3\\lib\\site-packages (from ipython>=4.0.0->ipywidgets) (0.4.4)\n",
      "Requirement already satisfied: pygments>=2.4.0 in c:\\programdata\\anaconda3\\lib\\site-packages (from ipython>=4.0.0->ipywidgets) (2.11.2)\n",
      "Requirement already satisfied: jedi>=0.16 in c:\\programdata\\anaconda3\\lib\\site-packages (from ipython>=4.0.0->ipywidgets) (0.18.1)\n",
      "Requirement already satisfied: prompt-toolkit!=3.0.0,!=3.0.1,<3.1.0,>=2.0.0 in c:\\programdata\\anaconda3\\lib\\site-packages (from ipython>=4.0.0->ipywidgets) (3.0.20)\n",
      "Requirement already satisfied: setuptools>=18.5 in c:\\programdata\\anaconda3\\lib\\site-packages (from ipython>=4.0.0->ipywidgets) (61.2.0)\n",
      "Requirement already satisfied: stack-data in c:\\programdata\\anaconda3\\lib\\site-packages (from ipython>=4.0.0->ipywidgets) (0.2.0)\n",
      "Requirement already satisfied: parso<0.9.0,>=0.8.0 in c:\\programdata\\anaconda3\\lib\\site-packages (from jedi>=0.16->ipython>=4.0.0->ipywidgets) (0.8.3)\n",
      "Requirement already satisfied: pyzmq>=13 in c:\\programdata\\anaconda3\\lib\\site-packages (from jupyter-client<8.0->ipykernel>=4.5.1->ipywidgets) (22.3.0)\n",
      "Requirement already satisfied: python-dateutil>=2.1 in c:\\programdata\\anaconda3\\lib\\site-packages (from jupyter-client<8.0->ipykernel>=4.5.1->ipywidgets) (2.8.2)\n",
      "Requirement already satisfied: jupyter-core>=4.6.0 in c:\\programdata\\anaconda3\\lib\\site-packages (from jupyter-client<8.0->ipykernel>=4.5.1->ipywidgets) (4.9.2)\n",
      "Requirement already satisfied: pywin32>=1.0 in c:\\programdata\\anaconda3\\lib\\site-packages (from jupyter-core>=4.6.0->jupyter-client<8.0->ipykernel>=4.5.1->ipywidgets) (302)\n",
      "Requirement already satisfied: jsonschema>=2.6 in c:\\programdata\\anaconda3\\lib\\site-packages (from nbformat>=4.2.0->ipywidgets) (4.4.0)\n",
      "Requirement already satisfied: fastjsonschema in c:\\programdata\\anaconda3\\lib\\site-packages (from nbformat>=4.2.0->ipywidgets) (2.15.1)\n",
      "Requirement already satisfied: attrs>=17.4.0 in c:\\programdata\\anaconda3\\lib\\site-packages (from jsonschema>=2.6->nbformat>=4.2.0->ipywidgets) (21.4.0)\n",
      "Requirement already satisfied: pyrsistent!=0.17.0,!=0.17.1,!=0.17.2,>=0.14.0 in c:\\programdata\\anaconda3\\lib\\site-packages (from jsonschema>=2.6->nbformat>=4.2.0->ipywidgets) (0.18.0)\n",
      "Requirement already satisfied: wcwidth in c:\\programdata\\anaconda3\\lib\\site-packages (from prompt-toolkit!=3.0.0,!=3.0.1,<3.1.0,>=2.0.0->ipython>=4.0.0->ipywidgets) (0.2.5)\n",
      "Requirement already satisfied: six>=1.5 in c:\\programdata\\anaconda3\\lib\\site-packages (from python-dateutil>=2.1->jupyter-client<8.0->ipykernel>=4.5.1->ipywidgets) (1.16.0)\n",
      "Requirement already satisfied: notebook>=4.4.1 in c:\\programdata\\anaconda3\\lib\\site-packages (from widgetsnbextension~=3.5.0->ipywidgets) (6.4.8)\n",
      "Requirement already satisfied: argon2-cffi in c:\\programdata\\anaconda3\\lib\\site-packages (from notebook>=4.4.1->widgetsnbextension~=3.5.0->ipywidgets) (21.3.0)\n",
      "Requirement already satisfied: prometheus-client in c:\\programdata\\anaconda3\\lib\\site-packages (from notebook>=4.4.1->widgetsnbextension~=3.5.0->ipywidgets) (0.13.1)\n",
      "Requirement already satisfied: jinja2 in c:\\programdata\\anaconda3\\lib\\site-packages (from notebook>=4.4.1->widgetsnbextension~=3.5.0->ipywidgets) (2.11.3)\n",
      "Requirement already satisfied: nbconvert in c:\\programdata\\anaconda3\\lib\\site-packages (from notebook>=4.4.1->widgetsnbextension~=3.5.0->ipywidgets) (6.4.4)\n",
      "Requirement already satisfied: terminado>=0.8.3 in c:\\programdata\\anaconda3\\lib\\site-packages (from notebook>=4.4.1->widgetsnbextension~=3.5.0->ipywidgets) (0.13.1)\n",
      "Requirement already satisfied: Send2Trash>=1.8.0 in c:\\programdata\\anaconda3\\lib\\site-packages (from notebook>=4.4.1->widgetsnbextension~=3.5.0->ipywidgets) (1.8.0)\n",
      "Requirement already satisfied: pywinpty>=1.1.0 in c:\\programdata\\anaconda3\\lib\\site-packages (from terminado>=0.8.3->notebook>=4.4.1->widgetsnbextension~=3.5.0->ipywidgets) (2.0.2)\n",
      "Requirement already satisfied: argon2-cffi-bindings in c:\\programdata\\anaconda3\\lib\\site-packages (from argon2-cffi->notebook>=4.4.1->widgetsnbextension~=3.5.0->ipywidgets) (21.2.0)\n",
      "Requirement already satisfied: cffi>=1.0.1 in c:\\programdata\\anaconda3\\lib\\site-packages (from argon2-cffi-bindings->argon2-cffi->notebook>=4.4.1->widgetsnbextension~=3.5.0->ipywidgets) (1.15.0)\n",
      "Requirement already satisfied: pycparser in c:\\programdata\\anaconda3\\lib\\site-packages (from cffi>=1.0.1->argon2-cffi-bindings->argon2-cffi->notebook>=4.4.1->widgetsnbextension~=3.5.0->ipywidgets) (2.21)\n",
      "Requirement already satisfied: MarkupSafe>=0.23 in c:\\programdata\\anaconda3\\lib\\site-packages (from jinja2->notebook>=4.4.1->widgetsnbextension~=3.5.0->ipywidgets) (2.0.1)\n",
      "Requirement already satisfied: nbclient<0.6.0,>=0.5.0 in c:\\programdata\\anaconda3\\lib\\site-packages (from nbconvert->notebook>=4.4.1->widgetsnbextension~=3.5.0->ipywidgets) (0.5.13)\n",
      "Requirement already satisfied: entrypoints>=0.2.2 in c:\\programdata\\anaconda3\\lib\\site-packages (from nbconvert->notebook>=4.4.1->widgetsnbextension~=3.5.0->ipywidgets) (0.4)\n",
      "Requirement already satisfied: bleach in c:\\programdata\\anaconda3\\lib\\site-packages (from nbconvert->notebook>=4.4.1->widgetsnbextension~=3.5.0->ipywidgets) (4.1.0)\n",
      "Requirement already satisfied: testpath in c:\\programdata\\anaconda3\\lib\\site-packages (from nbconvert->notebook>=4.4.1->widgetsnbextension~=3.5.0->ipywidgets) (0.5.0)\n",
      "Requirement already satisfied: defusedxml in c:\\programdata\\anaconda3\\lib\\site-packages (from nbconvert->notebook>=4.4.1->widgetsnbextension~=3.5.0->ipywidgets) (0.7.1)\n",
      "Requirement already satisfied: beautifulsoup4 in c:\\programdata\\anaconda3\\lib\\site-packages (from nbconvert->notebook>=4.4.1->widgetsnbextension~=3.5.0->ipywidgets) (4.11.1)\n",
      "Requirement already satisfied: mistune<2,>=0.8.1 in c:\\programdata\\anaconda3\\lib\\site-packages (from nbconvert->notebook>=4.4.1->widgetsnbextension~=3.5.0->ipywidgets) (0.8.4)\n",
      "Requirement already satisfied: pandocfilters>=1.4.1 in c:\\programdata\\anaconda3\\lib\\site-packages (from nbconvert->notebook>=4.4.1->widgetsnbextension~=3.5.0->ipywidgets) (1.5.0)\n",
      "Requirement already satisfied: jupyterlab-pygments in c:\\programdata\\anaconda3\\lib\\site-packages (from nbconvert->notebook>=4.4.1->widgetsnbextension~=3.5.0->ipywidgets) (0.1.2)\n",
      "Requirement already satisfied: soupsieve>1.2 in c:\\programdata\\anaconda3\\lib\\site-packages (from beautifulsoup4->nbconvert->notebook>=4.4.1->widgetsnbextension~=3.5.0->ipywidgets) (2.3.1)\n",
      "Requirement already satisfied: webencodings in c:\\programdata\\anaconda3\\lib\\site-packages (from bleach->nbconvert->notebook>=4.4.1->widgetsnbextension~=3.5.0->ipywidgets) (0.5.1)\n",
      "Requirement already satisfied: packaging in c:\\programdata\\anaconda3\\lib\\site-packages (from bleach->nbconvert->notebook>=4.4.1->widgetsnbextension~=3.5.0->ipywidgets) (21.3)\n",
      "Requirement already satisfied: pyparsing!=3.0.5,>=2.0.2 in c:\\programdata\\anaconda3\\lib\\site-packages (from packaging->bleach->nbconvert->notebook>=4.4.1->widgetsnbextension~=3.5.0->ipywidgets) (3.0.4)\n",
      "Requirement already satisfied: asttokens in c:\\programdata\\anaconda3\\lib\\site-packages (from stack-data->ipython>=4.0.0->ipywidgets) (2.0.5)\n",
      "Requirement already satisfied: executing in c:\\programdata\\anaconda3\\lib\\site-packages (from stack-data->ipython>=4.0.0->ipywidgets) (0.8.3)\n",
      "Requirement already satisfied: pure-eval in c:\\programdata\\anaconda3\\lib\\site-packages (from stack-data->ipython>=4.0.0->ipywidgets) (0.2.2)\n"
     ]
    },
    {
     "name": "stdout",
     "output_type": "stream",
     "text": [
      "Requirement already satisfied: ipyevents in c:\\programdata\\anaconda3\\lib\\site-packages (2.0.1)\n",
      "Requirement already satisfied: ipywidgets>=7.6.0 in c:\\programdata\\anaconda3\\lib\\site-packages (from ipyevents) (7.6.5)\n",
      "Requirement already satisfied: traitlets>=4.3.1 in c:\\programdata\\anaconda3\\lib\\site-packages (from ipywidgets>=7.6.0->ipyevents) (5.1.1)\n",
      "Requirement already satisfied: ipython-genutils~=0.2.0 in c:\\programdata\\anaconda3\\lib\\site-packages (from ipywidgets>=7.6.0->ipyevents) (0.2.0)\n",
      "Requirement already satisfied: ipykernel>=4.5.1 in c:\\programdata\\anaconda3\\lib\\site-packages (from ipywidgets>=7.6.0->ipyevents) (6.9.1)\n",
      "Requirement already satisfied: jupyterlab-widgets>=1.0.0 in c:\\programdata\\anaconda3\\lib\\site-packages (from ipywidgets>=7.6.0->ipyevents) (1.0.0)\n",
      "Requirement already satisfied: widgetsnbextension~=3.5.0 in c:\\programdata\\anaconda3\\lib\\site-packages (from ipywidgets>=7.6.0->ipyevents) (3.5.2)\n",
      "Requirement already satisfied: ipython>=4.0.0 in c:\\programdata\\anaconda3\\lib\\site-packages (from ipywidgets>=7.6.0->ipyevents) (8.2.0)\n",
      "Requirement already satisfied: nbformat>=4.2.0 in c:\\programdata\\anaconda3\\lib\\site-packages (from ipywidgets>=7.6.0->ipyevents) (5.3.0)\n",
      "Requirement already satisfied: tornado<7.0,>=4.2 in c:\\programdata\\anaconda3\\lib\\site-packages (from ipykernel>=4.5.1->ipywidgets>=7.6.0->ipyevents) (6.1)\n",
      "Requirement already satisfied: debugpy<2.0,>=1.0.0 in c:\\programdata\\anaconda3\\lib\\site-packages (from ipykernel>=4.5.1->ipywidgets>=7.6.0->ipyevents) (1.5.1)\n",
      "Requirement already satisfied: matplotlib-inline<0.2.0,>=0.1.0 in c:\\programdata\\anaconda3\\lib\\site-packages (from ipykernel>=4.5.1->ipywidgets>=7.6.0->ipyevents) (0.1.2)\n",
      "Requirement already satisfied: jupyter-client<8.0 in c:\\programdata\\anaconda3\\lib\\site-packages (from ipykernel>=4.5.1->ipywidgets>=7.6.0->ipyevents) (6.1.12)\n",
      "Requirement already satisfied: nest-asyncio in c:\\programdata\\anaconda3\\lib\\site-packages (from ipykernel>=4.5.1->ipywidgets>=7.6.0->ipyevents) (1.5.5)\n",
      "Requirement already satisfied: pygments>=2.4.0 in c:\\programdata\\anaconda3\\lib\\site-packages (from ipython>=4.0.0->ipywidgets>=7.6.0->ipyevents) (2.11.2)\n",
      "Requirement already satisfied: decorator in c:\\programdata\\anaconda3\\lib\\site-packages (from ipython>=4.0.0->ipywidgets>=7.6.0->ipyevents) (5.1.1)\n",
      "Requirement already satisfied: backcall in c:\\programdata\\anaconda3\\lib\\site-packages (from ipython>=4.0.0->ipywidgets>=7.6.0->ipyevents) (0.2.0)\n",
      "Requirement already satisfied: stack-data in c:\\programdata\\anaconda3\\lib\\site-packages (from ipython>=4.0.0->ipywidgets>=7.6.0->ipyevents) (0.2.0)\n",
      "Requirement already satisfied: setuptools>=18.5 in c:\\programdata\\anaconda3\\lib\\site-packages (from ipython>=4.0.0->ipywidgets>=7.6.0->ipyevents) (61.2.0)\n",
      "Requirement already satisfied: colorama in c:\\programdata\\anaconda3\\lib\\site-packages (from ipython>=4.0.0->ipywidgets>=7.6.0->ipyevents) (0.4.4)\n",
      "Requirement already satisfied: prompt-toolkit!=3.0.0,!=3.0.1,<3.1.0,>=2.0.0 in c:\\programdata\\anaconda3\\lib\\site-packages (from ipython>=4.0.0->ipywidgets>=7.6.0->ipyevents) (3.0.20)\n",
      "Requirement already satisfied: pickleshare in c:\\programdata\\anaconda3\\lib\\site-packages (from ipython>=4.0.0->ipywidgets>=7.6.0->ipyevents) (0.7.5)\n",
      "Requirement already satisfied: jedi>=0.16 in c:\\programdata\\anaconda3\\lib\\site-packages (from ipython>=4.0.0->ipywidgets>=7.6.0->ipyevents) (0.18.1)\n",
      "Requirement already satisfied: parso<0.9.0,>=0.8.0 in c:\\programdata\\anaconda3\\lib\\site-packages (from jedi>=0.16->ipython>=4.0.0->ipywidgets>=7.6.0->ipyevents) (0.8.3)\n",
      "Requirement already satisfied: jupyter-core>=4.6.0 in c:\\programdata\\anaconda3\\lib\\site-packages (from jupyter-client<8.0->ipykernel>=4.5.1->ipywidgets>=7.6.0->ipyevents) (4.9.2)\n",
      "Requirement already satisfied: python-dateutil>=2.1 in c:\\programdata\\anaconda3\\lib\\site-packages (from jupyter-client<8.0->ipykernel>=4.5.1->ipywidgets>=7.6.0->ipyevents) (2.8.2)\n",
      "Requirement already satisfied: pyzmq>=13 in c:\\programdata\\anaconda3\\lib\\site-packages (from jupyter-client<8.0->ipykernel>=4.5.1->ipywidgets>=7.6.0->ipyevents) (22.3.0)\n",
      "Requirement already satisfied: pywin32>=1.0 in c:\\programdata\\anaconda3\\lib\\site-packages (from jupyter-core>=4.6.0->jupyter-client<8.0->ipykernel>=4.5.1->ipywidgets>=7.6.0->ipyevents) (302)\n",
      "Requirement already satisfied: jsonschema>=2.6 in c:\\programdata\\anaconda3\\lib\\site-packages (from nbformat>=4.2.0->ipywidgets>=7.6.0->ipyevents) (4.4.0)\n",
      "Requirement already satisfied: fastjsonschema in c:\\programdata\\anaconda3\\lib\\site-packages (from nbformat>=4.2.0->ipywidgets>=7.6.0->ipyevents) (2.15.1)\n",
      "Requirement already satisfied: attrs>=17.4.0 in c:\\programdata\\anaconda3\\lib\\site-packages (from jsonschema>=2.6->nbformat>=4.2.0->ipywidgets>=7.6.0->ipyevents) (21.4.0)\n",
      "Requirement already satisfied: pyrsistent!=0.17.0,!=0.17.1,!=0.17.2,>=0.14.0 in c:\\programdata\\anaconda3\\lib\\site-packages (from jsonschema>=2.6->nbformat>=4.2.0->ipywidgets>=7.6.0->ipyevents) (0.18.0)\n",
      "Requirement already satisfied: wcwidth in c:\\programdata\\anaconda3\\lib\\site-packages (from prompt-toolkit!=3.0.0,!=3.0.1,<3.1.0,>=2.0.0->ipython>=4.0.0->ipywidgets>=7.6.0->ipyevents) (0.2.5)\n",
      "Requirement already satisfied: six>=1.5 in c:\\programdata\\anaconda3\\lib\\site-packages (from python-dateutil>=2.1->jupyter-client<8.0->ipykernel>=4.5.1->ipywidgets>=7.6.0->ipyevents) (1.16.0)\n",
      "Requirement already satisfied: notebook>=4.4.1 in c:\\programdata\\anaconda3\\lib\\site-packages (from widgetsnbextension~=3.5.0->ipywidgets>=7.6.0->ipyevents) (6.4.8)\n",
      "Requirement already satisfied: prometheus-client in c:\\programdata\\anaconda3\\lib\\site-packages (from notebook>=4.4.1->widgetsnbextension~=3.5.0->ipywidgets>=7.6.0->ipyevents) (0.13.1)\n",
      "Requirement already satisfied: Send2Trash>=1.8.0 in c:\\programdata\\anaconda3\\lib\\site-packages (from notebook>=4.4.1->widgetsnbextension~=3.5.0->ipywidgets>=7.6.0->ipyevents) (1.8.0)\n",
      "Requirement already satisfied: nbconvert in c:\\programdata\\anaconda3\\lib\\site-packages (from notebook>=4.4.1->widgetsnbextension~=3.5.0->ipywidgets>=7.6.0->ipyevents) (6.4.4)\n",
      "Requirement already satisfied: terminado>=0.8.3 in c:\\programdata\\anaconda3\\lib\\site-packages (from notebook>=4.4.1->widgetsnbextension~=3.5.0->ipywidgets>=7.6.0->ipyevents) (0.13.1)\n",
      "Requirement already satisfied: argon2-cffi in c:\\programdata\\anaconda3\\lib\\site-packages (from notebook>=4.4.1->widgetsnbextension~=3.5.0->ipywidgets>=7.6.0->ipyevents) (21.3.0)\n",
      "Requirement already satisfied: jinja2 in c:\\programdata\\anaconda3\\lib\\site-packages (from notebook>=4.4.1->widgetsnbextension~=3.5.0->ipywidgets>=7.6.0->ipyevents) (2.11.3)\n",
      "Requirement already satisfied: pywinpty>=1.1.0 in c:\\programdata\\anaconda3\\lib\\site-packages (from terminado>=0.8.3->notebook>=4.4.1->widgetsnbextension~=3.5.0->ipywidgets>=7.6.0->ipyevents) (2.0.2)\n",
      "Requirement already satisfied: argon2-cffi-bindings in c:\\programdata\\anaconda3\\lib\\site-packages (from argon2-cffi->notebook>=4.4.1->widgetsnbextension~=3.5.0->ipywidgets>=7.6.0->ipyevents) (21.2.0)\n",
      "Requirement already satisfied: cffi>=1.0.1 in c:\\programdata\\anaconda3\\lib\\site-packages (from argon2-cffi-bindings->argon2-cffi->notebook>=4.4.1->widgetsnbextension~=3.5.0->ipywidgets>=7.6.0->ipyevents) (1.15.0)\n",
      "Requirement already satisfied: pycparser in c:\\programdata\\anaconda3\\lib\\site-packages (from cffi>=1.0.1->argon2-cffi-bindings->argon2-cffi->notebook>=4.4.1->widgetsnbextension~=3.5.0->ipywidgets>=7.6.0->ipyevents) (2.21)\n",
      "Requirement already satisfied: MarkupSafe>=0.23 in c:\\programdata\\anaconda3\\lib\\site-packages (from jinja2->notebook>=4.4.1->widgetsnbextension~=3.5.0->ipywidgets>=7.6.0->ipyevents) (2.0.1)\n",
      "Requirement already satisfied: bleach in c:\\programdata\\anaconda3\\lib\\site-packages (from nbconvert->notebook>=4.4.1->widgetsnbextension~=3.5.0->ipywidgets>=7.6.0->ipyevents) (4.1.0)\n",
      "Requirement already satisfied: beautifulsoup4 in c:\\programdata\\anaconda3\\lib\\site-packages (from nbconvert->notebook>=4.4.1->widgetsnbextension~=3.5.0->ipywidgets>=7.6.0->ipyevents) (4.11.1)\n",
      "Requirement already satisfied: mistune<2,>=0.8.1 in c:\\programdata\\anaconda3\\lib\\site-packages (from nbconvert->notebook>=4.4.1->widgetsnbextension~=3.5.0->ipywidgets>=7.6.0->ipyevents) (0.8.4)\n",
      "Requirement already satisfied: nbclient<0.6.0,>=0.5.0 in c:\\programdata\\anaconda3\\lib\\site-packages (from nbconvert->notebook>=4.4.1->widgetsnbextension~=3.5.0->ipywidgets>=7.6.0->ipyevents) (0.5.13)\n",
      "Requirement already satisfied: testpath in c:\\programdata\\anaconda3\\lib\\site-packages (from nbconvert->notebook>=4.4.1->widgetsnbextension~=3.5.0->ipywidgets>=7.6.0->ipyevents) (0.5.0)\n",
      "Requirement already satisfied: jupyterlab-pygments in c:\\programdata\\anaconda3\\lib\\site-packages (from nbconvert->notebook>=4.4.1->widgetsnbextension~=3.5.0->ipywidgets>=7.6.0->ipyevents) (0.1.2)\n",
      "Requirement already satisfied: pandocfilters>=1.4.1 in c:\\programdata\\anaconda3\\lib\\site-packages (from nbconvert->notebook>=4.4.1->widgetsnbextension~=3.5.0->ipywidgets>=7.6.0->ipyevents) (1.5.0)\n",
      "Requirement already satisfied: entrypoints>=0.2.2 in c:\\programdata\\anaconda3\\lib\\site-packages (from nbconvert->notebook>=4.4.1->widgetsnbextension~=3.5.0->ipywidgets>=7.6.0->ipyevents) (0.4)\n",
      "Requirement already satisfied: defusedxml in c:\\programdata\\anaconda3\\lib\\site-packages (from nbconvert->notebook>=4.4.1->widgetsnbextension~=3.5.0->ipywidgets>=7.6.0->ipyevents) (0.7.1)\n",
      "Requirement already satisfied: soupsieve>1.2 in c:\\programdata\\anaconda3\\lib\\site-packages (from beautifulsoup4->nbconvert->notebook>=4.4.1->widgetsnbextension~=3.5.0->ipywidgets>=7.6.0->ipyevents) (2.3.1)\n",
      "Requirement already satisfied: packaging in c:\\programdata\\anaconda3\\lib\\site-packages (from bleach->nbconvert->notebook>=4.4.1->widgetsnbextension~=3.5.0->ipywidgets>=7.6.0->ipyevents) (21.3)\n",
      "Requirement already satisfied: webencodings in c:\\programdata\\anaconda3\\lib\\site-packages (from bleach->nbconvert->notebook>=4.4.1->widgetsnbextension~=3.5.0->ipywidgets>=7.6.0->ipyevents) (0.5.1)\n",
      "Requirement already satisfied: pyparsing!=3.0.5,>=2.0.2 in c:\\programdata\\anaconda3\\lib\\site-packages (from packaging->bleach->nbconvert->notebook>=4.4.1->widgetsnbextension~=3.5.0->ipywidgets>=7.6.0->ipyevents) (3.0.4)\n",
      "Requirement already satisfied: asttokens in c:\\programdata\\anaconda3\\lib\\site-packages (from stack-data->ipython>=4.0.0->ipywidgets>=7.6.0->ipyevents) (2.0.5)\n",
      "Requirement already satisfied: executing in c:\\programdata\\anaconda3\\lib\\site-packages (from stack-data->ipython>=4.0.0->ipywidgets>=7.6.0->ipyevents) (0.8.3)\n",
      "Requirement already satisfied: pure-eval in c:\\programdata\\anaconda3\\lib\\site-packages (from stack-data->ipython>=4.0.0->ipywidgets>=7.6.0->ipyevents) (0.2.2)\n"
     ]
    }
   ],
   "source": [
    "# Install ipywidgets,ipyevents and mayavi\n",
    "!pip install ipywidgets\n",
    "!pip install ipyevents \n",
    "!pip install mayavi"
   ]
  },
  {
   "cell_type": "code",
   "execution_count": 1,
   "id": "c56f8496",
   "metadata": {},
   "outputs": [],
   "source": [
    "# Import dependencies\n",
    "import nibabel as nib\n",
    "import numpy as np\n",
    "import cv2\n",
    "import scipy.io\n",
    "import os\n",
    "import imageio\n",
    "import circle_fit as cf\n",
    "\n",
    "# Define file names\n",
    "SAMPLE_NAME = \"DBS_bT20\"\n",
    "HULL_FILE_NAME = os.path.join(SAMPLE_NAME,\"hull_rh.mat\")\n",
    "PRECT_FILE_NAME = os.path.join(SAMPLE_NAME,\"preop_ct.nii\")\n",
    "POSTCT_FILE_NAME = os.path.join(SAMPLE_NAME,\"postop_ct.nii\")\n",
    "FLUORO_FILE_NAME = os.path.join(SAMPLE_NAME,\"fluoro.tif\")\n",
    "\n",
    "# read .mat File\n",
    "hull = scipy.io.loadmat(HULL_FILE_NAME)\n",
    "points_hull=np.array(hull['mask_indices'])\n",
    "\n",
    "#read pre op CT\n",
    "prect = nib.load(PRECT_FILE_NAME)\n",
    "prect_data = np.nan_to_num(np.array(prect.get_fdata()))\n",
    "Tmatrix = np.transpose(prect.affine)\n",
    "\n",
    "#read post op CT\n",
    "postct = nib.load(POSTCT_FILE_NAME)\n",
    "postct_data = np.nan_to_num(np.array(postct.get_fdata()))\n",
    "\n",
    "# fourth channel is infrared\n",
    "fluoro = imageio.imread(FLUORO_FILE_NAME)\n",
    "fluoro = cv2.cvtColor(fluoro, cv2.COLOR_BGR2GRAY)"
   ]
  },
  {
   "cell_type": "markdown",
   "id": "b8d27a8b",
   "metadata": {},
   "source": [
    "## STEP 1: SEGMENT FROM FLUORO"
   ]
  },
  {
   "cell_type": "code",
   "execution_count": 2,
   "id": "3f1318aa",
   "metadata": {},
   "outputs": [
    {
     "name": "stdout",
     "output_type": "stream",
     "text": [
      "fluoro_segmentation.py successfully executed.\n"
     ]
    }
   ],
   "source": [
    "# Run first component script\n",
    "from fluoro_segmentation import fluoro_get_coordinates\n",
    "coords_dict = fluoro_get_coordinates(fluoro)"
   ]
  },
  {
   "cell_type": "code",
   "execution_count": 3,
   "id": "6597973d",
   "metadata": {},
   "outputs": [],
   "source": [
    "coords_dict['ecog'] = np.array(coords_dict['ecog'])"
   ]
  },
  {
   "cell_type": "markdown",
   "id": "ebb854a9",
   "metadata": {},
   "source": [
    "### Visual Check"
   ]
  },
  {
   "cell_type": "code",
   "execution_count": 4,
   "id": "55d2c363",
   "metadata": {},
   "outputs": [
    {
     "data": {
      "text/plain": [
       "<matplotlib.collections.PathCollection at 0x228be9c7c40>"
      ]
     },
     "execution_count": 4,
     "metadata": {},
     "output_type": "execute_result"
    },
    {
     "data": {
      "image/png": "[encoded data removed]",
      "text/plain": [
       "<Figure size 432x288 with 1 Axes>"
      ]
     },
     "metadata": {
      "needs_background": "light"
     },
     "output_type": "display_data"
    }
   ],
   "source": [
    "# Display segmented features on fluoro image\n",
    "import matplotlib.pyplot as plt\n",
    "plt.imshow(fluoro,cmap='gray')\n",
    "plt.scatter(coords_dict['ecog'][:,0], coords_dict['ecog'][:,1])\n",
    "plt.scatter(coords_dict['dbs'][0], coords_dict['dbs'][1])\n",
    "plt.scatter(coords_dict['pin'][:,0], coords_dict['pin'][:,1])"
   ]
  },
  {
   "cell_type": "markdown",
   "id": "7b9e254f",
   "metadata": {},
   "source": [
    "## STEP 2: SEGMENT FROM CT"
   ]
  },
  {
   "cell_type": "code",
   "execution_count": 5,
   "id": "a74ae614",
   "metadata": {},
   "outputs": [
    {
     "name": "stderr",
     "output_type": "stream",
     "text": [
      "C:\\Users\\Micah Vinet\\OneDrive\\Documents\\BrainReg\\BrainReg-main\\ct_segmentation.py:36: RuntimeWarning: invalid value encountered in true_divide\n",
      "  img = (img - np.min(img)) / (np.max(img) - np.min(img))\n"
     ]
    },
    {
     "name": "stdout",
     "output_type": "stream",
     "text": [
      "ct_segmentation.py successfully executed.\n"
     ]
    },
    {
     "name": "stderr",
     "output_type": "stream",
     "text": [
      "C:\\Users\\Micah Vinet\\OneDrive\\Documents\\BrainReg\\BrainReg-main\\ct_segmentation.py:79: RuntimeWarning: invalid value encountered in true_divide\n",
      "  img = (img - np.min(img)) / (np.max(img) - np.min(img))\n"
     ]
    }
   ],
   "source": [
    "# Run second component script\n",
    "from ct_segmentation import ct_get_landmarks\n",
    "coords3d_dic = ct_get_landmarks(prect_data, postct_data)\n",
    "pins_ct = coords3d_dic['pin']"
   ]
  },
  {
   "cell_type": "markdown",
   "id": "3c00feec",
   "metadata": {},
   "source": [
    "### Visual Check"
   ]
  },
  {
   "cell_type": "code",
   "execution_count": 6,
   "id": "fdeb8dca",
   "metadata": {},
   "outputs": [
    {
     "name": "stdout",
     "output_type": "stream",
     "text": [
      "Notebook initialized with ipy backend.\n"
     ]
    },
    {
     "data": {
      "application/vnd.jupyter.widget-view+json": {
       "model_id": "3632eedae6eb4b928c5d92a717ff9c9a",
       "version_major": 2,
       "version_minor": 0
      },
      "text/plain": [
       "Image(value=b'\\x89PNG\\r\\n\\x1a\\n\\x00\\x00\\x00\\rIHDR\\x00\\x00\\x01\\xf4\\x00\\x00\\x01\\xf4\\x08\\x02\\x00\\x00\\x00D\\xb4H\\xd…"
      ]
     },
     "metadata": {},
     "output_type": "display_data"
    }
   ],
   "source": [
    "# Display the segmented features on CT volume\n",
    "from mayavi import mlab\n",
    "mlab.init_notebook()\n",
    "fig = mlab.figure(bgcolor=(1, 1, 1), size=(500, 500))\n",
    "source_1 = mlab.pipeline.scalar_field(prect_data)\n",
    "surface = mlab.pipeline.iso_surface(source_1, \n",
    "                          contours=[256,], \n",
    "                          opacity=0.5, \n",
    "                          colormap = 'black-white')\n",
    "\n",
    "source_2 = mlab.pipeline.scalar_field(postct_data[:,:128,:])\n",
    "surface = mlab.pipeline.iso_surface(source_2, \n",
    "                          contours=[256,], \n",
    "                          opacity=0.8, \n",
    "                          colormap = 'black-white')\n",
    "mlab.points3d(coords3d_dic['pin'][:,0],coords3d_dic['pin'][:,1],coords3d_dic['pin'][:,2], color = (0.2,1,.2), scale_factor=10)\n",
    "mlab.points3d(coords3d_dic['lead'][:,0],coords3d_dic['lead'][:,1],coords3d_dic['lead'][:,2], color = (1,0,0), scale_factor=10)"
   ]
  },
  {
   "cell_type": "markdown",
   "id": "4e793d2e",
   "metadata": {},
   "source": [
    "## STEP 3: MAP TO 2D"
   ]
  },
  {
   "cell_type": "markdown",
   "id": "0db97586",
   "metadata": {},
   "source": [
    "When converting from pixel to 3d coordinate mayavi just centers x and y, so (1400,1200) image will have a center at (700,600) and possibly x and y switched"
   ]
  },
  {
   "cell_type": "code",
   "execution_count": 7,
   "id": "047bbf6a",
   "metadata": {},
   "outputs": [],
   "source": [
    "# Refine inputs to 3rd component function\n",
    "\n",
    "dbs = np.array([coords_dict['dbs']])\n",
    "pins2d = coords_dict['pin']\n",
    "pins_fl = np.concatenate((dbs,pins2d),axis=0)\n",
    "coords_2d = coords_dict['ecog']\n",
    "pins_ct = coords3d_dic['pin']\n"
   ]
  },
  {
   "cell_type": "code",
   "execution_count": 8,
   "id": "b79e59ff",
   "metadata": {},
   "outputs": [
    {
     "name": "stdout",
     "output_type": "stream",
     "text": [
      "fluoro_ct_alignment.py successfully executed.\n"
     ]
    }
   ],
   "source": [
    "# Run third component function\n",
    "from fluoro_ct_alignment import project_to_2d\n",
    "aligned_coords = project_to_2d(postct_data,fluoro,pins_fl,pins_ct,coords_2d)"
   ]
  },
  {
   "cell_type": "markdown",
   "id": "4221d3a9",
   "metadata": {},
   "source": [
    "### Visual Inspect"
   ]
  },
  {
   "cell_type": "code",
   "execution_count": 9,
   "id": "2aefb611",
   "metadata": {},
   "outputs": [
    {
     "name": "stdout",
     "output_type": "stream",
     "text": [
      "[[103.09123811  70.10914913]\n",
      " [102.28843788  64.47096734]\n",
      " [119.82690844  65.74241432]\n",
      " [128.82301957  71.83818654]\n",
      " [103.09321735  60.53905699]\n",
      " [106.45506942  59.60771207]\n",
      " [112.09433646  61.36665132]]\n"
     ]
    },
    {
     "data": {
      "image/png": "[encoded data removed]",
      "text/plain": [
       "<Figure size 432x288 with 1 Axes>"
      ]
     },
     "metadata": {
      "needs_background": "light"
     },
     "output_type": "display_data"
    }
   ],
   "source": [
    "# Display aligned electrode coordinates on blank image space\n",
    "plt.imshow(np.zeros([256,256]),cmap='gray')\n",
    "plt.scatter(aligned_coords[:,0],aligned_coords[:,1],color='orange')\n",
    "print(aligned_coords)"
   ]
  },
  {
   "cell_type": "markdown",
   "id": "2d33a625",
   "metadata": {},
   "source": [
    "## STEP 4: MAP TO 3D"
   ]
  },
  {
   "cell_type": "code",
   "execution_count": 10,
   "id": "1c7fff44",
   "metadata": {},
   "outputs": [
    {
     "name": "stdout",
     "output_type": "stream",
     "text": [
      "hull_projection.py executed succesfully\n",
      "[array([48, 26, 34]), array([43, 26, 40]), array([50,  9, 38]), array([55,  0, 32]), array([39, 26, 44]), array([40, 22, 45]), array([44, 17, 43])]\n"
     ]
    },
    {
     "data": {
      "text/plain": [
       "array([[48, 26, 34],\n",
       "       [43, 26, 40],\n",
       "       [50,  9, 38],\n",
       "       [55,  0, 32],\n",
       "       [39, 26, 44],\n",
       "       [40, 22, 45],\n",
       "       [44, 17, 43]])"
      ]
     },
     "execution_count": 10,
     "metadata": {},
     "output_type": "execute_result"
    }
   ],
   "source": [
    "# Run fourth component function\n",
    "from hull_projection import project_to_3d\n",
    "predictions = project_to_3d(aligned_coords, points_hull, Tmatrix)\n",
    "predictions = np.array(predictions)\n",
    "predictions"
   ]
  },
  {
   "cell_type": "markdown",
   "id": "9f2e0ee3",
   "metadata": {},
   "source": [
    "### Visual Inspect"
   ]
  },
  {
   "cell_type": "code",
   "execution_count": 11,
   "id": "6c078c35",
   "metadata": {},
   "outputs": [
    {
     "data": {
      "image/png": "[encoded data removed]",
      "text/plain": [
       "<Figure size 432x288 with 1 Axes>"
      ]
     },
     "metadata": {
      "needs_background": "light"
     },
     "output_type": "display_data"
    }
   ],
   "source": [
    "# Inspect the projected coordinates on the MRI hull\n",
    "import matplotlib.pyplot as plt\n",
    "\n",
    "fig = plt.figure()\n",
    "ax = plt.axes(projection='3d')\n",
    "ax.scatter3D(points_hull[:,0], points_hull[:,1], points_hull[:,2], cmap='green', alpha=0.2)\n",
    "ax.scatter3D(predictions[:,0], predictions[:,1], predictions[:,2], c='r',)\n",
    "ax.set_xlabel('x')\n",
    "ax.set_ylabel('y')\n",
    "ax.set_zlabel('z');"
   ]
  },
  {
   "cell_type": "markdown",
   "id": "febaa7f6",
   "metadata": {},
   "source": [
    "For a better visualization, use plotly or mayavi. Here for the sake of fast visualization we use matplotlib."
   ]
  },
  {
   "cell_type": "code",
   "execution_count": 18,
   "id": "c27c2f2b",
   "metadata": {},
   "outputs": [],
   "source": [
    "#Compare predicted coordinates with grouth truth coordinates\n",
    "gt = scipy.io.loadmat(\"DBS_bT20/electrode_locations/electrode_locs.mat\")"
   ]
  },
  {
   "cell_type": "code",
   "execution_count": 19,
   "id": "c2a1c7d9",
   "metadata": {},
   "outputs": [
    {
     "name": "stdout",
     "output_type": "stream",
     "text": [
      "The predicted ECoG (x,y,z) coordinates are\n",
      "[[48 26 34]\n",
      " [43 26 40]\n",
      " [50  9 38]\n",
      " [55  0 32]\n",
      " [39 26 44]\n",
      " [40 22 45]\n",
      " [44 17 43]]\n",
      "and the ground truth ECoG (x,y,z) coordinates are\n",
      "{'__header__': b'MATLAB 5.0 MAT-file, Platform: PCWIN64, Created on: Fri Aug 28 22:35:58 2020', '__version__': '1.0', '__globals__': [], 'CortElecLoc': array([[array([[ 48.88512421, -73.83932495,  21.71887207]]),\n",
      "        array([[ 45.88512421, -68.83932495,  28.71887207]]),\n",
      "        array([[ 44.88512421, -62.83932495,  34.71887207]]),\n",
      "        array([[ 44.88512421, -55.83932495,  40.71887207]]),\n",
      "        array([[ 45.88512421, -47.83932495,  44.71887207]]),\n",
      "        array([[ 42.88512421, -39.83932495,  47.71887207]]),\n",
      "        array([[ 39.88512421, -31.83932495,  50.71887207]]),\n",
      "        array([[ 43.88512421, -21.83932495,  51.71887207]])]],\n",
      "      dtype=object)}\n"
     ]
    }
   ],
   "source": [
    "print('The predicted ECoG (x,y,z) coordinates are')\n",
    "print(predictions)\n",
    "print('and the ground truth ECoG (x,y,z) coordinates are')\n",
    "print(gt)"
   ]
  },
  {
   "cell_type": "code",
   "execution_count": null,
   "id": "fc349eee",
   "metadata": {},
   "outputs": [],
   "source": []
  }
 ],
 "metadata": {
  "kernelspec": {
   "display_name": "Python 3 (ipykernel)",
   "language": "python",
   "name": "python3"
  },
  "language_info": {
   "codemirror_mode": {
    "name": "ipython",
    "version": 3
   },
   "file_extension": ".py",
   "mimetype": "text/x-python",
   "name": "python",
   "nbconvert_exporter": "python",
   "pygments_lexer": "ipython3",
   "version": "3.9.12"
  }
 },
 "nbformat": 4,
 "nbformat_minor": 5
}
