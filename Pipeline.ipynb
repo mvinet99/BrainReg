{
 "cells": [
  {
   "cell_type": "markdown",
   "id": "4d23bfc9",
   "metadata": {},
   "source": [
    "# FULL PIPELINE\n"
   ]
  },
  {
   "cell_type": "markdown",
   "id": "d6bdfdc2",
   "metadata": {},
   "source": [
    "This notebook will merge four steps:\n",
    "\n",
    "1 -  segment electrodes from fluoroscopy return coordinates\n",
    "\n",
    "2 - segment electodes from CT return coordinates\n",
    "\n",
    "3 -  map CT to 2D\n",
    "\n",
    "4 -  map coordinates back to 3D"
   ]
  },
  {
   "cell_type": "markdown",
   "id": "b8d27a8b",
   "metadata": {},
   "source": [
    "## STEP 1: SEGMENT FROM FLUORO"
   ]
  },
  {
   "cell_type": "code",
   "execution_count": null,
   "id": "3f1318aa",
   "metadata": {},
   "outputs": [],
   "source": [
    "# Run first component script\n",
    "from fluoro_segmentation import fluoro_get_coordinates\n",
    "coords_dict = fluoro_get_coordinates(fluoro)"
   ]
  },
  {
   "cell_type": "code",
   "execution_count": null,
   "id": "6597973d",
   "metadata": {},
   "outputs": [],
   "source": [
    "coords_dict['ecog'] = np.array(coords_dict['ecog'])"
   ]
  },
  {
   "cell_type": "markdown",
   "id": "ebb854a9",
   "metadata": {},
   "source": [
    "### Visual Check"
   ]
  },
  {
   "cell_type": "code",
   "execution_count": null,
   "id": "55d2c363",
   "metadata": {},
   "outputs": [],
   "source": [
    "# Display segmented features on fluoro image\n",
    "import matplotlib.pyplot as plt\n",
    "plt.imshow(fluoro,cmap='gray')\n",
    "plt.scatter(coords_dict['ecog'][:,0], coords_dict['ecog'][:,1])\n",
    "plt.scatter(coords_dict['dbs'][0], coords_dict['dbs'][1])\n",
    "plt.scatter(coords_dict['pin'][:,0], coords_dict['pin'][:,1])"
   ]
  },
  {
   "cell_type": "markdown",
   "id": "7b9e254f",
   "metadata": {},
   "source": [
    "## STEP 2: SEGMENT FROM CT"
   ]
  },
  {
   "cell_type": "code",
   "execution_count": null,
   "id": "a74ae614",
   "metadata": {},
   "outputs": [],
   "source": [
    "# Run second component script\n",
    "from ct_segmentation import ct_get_landmarks\n",
    "coords3d_dic = ct_get_landmarks(prect_data, postct_data)\n",
    "pins_ct = coords3d_dic['pin']"
   ]
  },
  {
   "cell_type": "markdown",
   "id": "3c00feec",
   "metadata": {},
   "source": [
    "### Visual Check"
   ]
  },
  {
   "cell_type": "code",
   "execution_count": null,
   "id": "fdeb8dca",
   "metadata": {},
   "outputs": [],
   "source": [
    "# Display the segmented features on CT volume\n",
    "from mayavi import mlab\n",
    "mlab.init_notebook()\n",
    "fig = mlab.figure(bgcolor=(1, 1, 1), size=(500, 500))\n",
    "source_1 = mlab.pipeline.scalar_field(prect_data)\n",
    "surface = mlab.pipeline.iso_surface(source_1, \n",
    "                          contours=[256,], \n",
    "                          opacity=0.5, \n",
    "                          colormap = 'black-white')\n",
    "\n",
    "source_2 = mlab.pipeline.scalar_field(postct_data[:,:128,:])\n",
    "surface = mlab.pipeline.iso_surface(source_2, \n",
    "                          contours=[256,], \n",
    "                          opacity=0.8, \n",
    "                          colormap = 'black-white')\n",
    "mlab.points3d(coords3d_dic['pin'][:,0],coords3d_dic['pin'][:,1],coords3d_dic['pin'][:,2], color = (0.2,1,.2), scale_factor=10)\n",
    "mlab.points3d(coords3d_dic['lead'][:,0],coords3d_dic['lead'][:,1],coords3d_dic['lead'][:,2], color = (1,0,0), scale_factor=10)"
   ]
  },
  {
   "cell_type": "markdown",
   "id": "4e793d2e",
   "metadata": {},
   "source": [
    "## STEP 3: MAP TO 2D"
   ]
  },
  {
   "cell_type": "markdown",
   "id": "0db97586",
   "metadata": {},
   "source": [
    "When converting from pixel to 3d coordinate mayavi just centers x and y, so (1400,1200) image will have a center at (700,600) and possibly x and y switched"
   ]
  },
  {
   "cell_type": "code",
   "execution_count": null,
   "id": "047bbf6a",
   "metadata": {},
   "outputs": [],
   "source": [
    "# Refine inputs to 3rd component function\n",
    "\n",
    "dbs = np.array([coords_dict['dbs']])\n",
    "pins2d = coords_dict['pin']\n",
    "pins_fl = np.concatenate((dbs,pins2d),axis=0)\n",
    "coords_2d = coords_dict['ecog']\n",
    "pins_ct = coords3d_dic['pin']\n",
    "print(coords_2d)"
   ]
  },
  {
   "cell_type": "code",
   "execution_count": null,
   "id": "b79e59ff",
   "metadata": {},
   "outputs": [],
   "source": [
    "# Run third component function\n",
    "from fluoro_ct_alignment import project_to_2d\n",
    "aligned_coords = project_to_2d(postct_data,fluoro,pins_fl,pins_ct,coords_2d)"
   ]
  },
  {
   "cell_type": "markdown",
   "id": "4221d3a9",
   "metadata": {},
   "source": [
    "### Visual Inspect"
   ]
  },
  {
   "cell_type": "code",
   "execution_count": null,
   "id": "2aefb611",
   "metadata": {},
   "outputs": [],
   "source": [
    "# Display aligned electrode coordinates on blank image space\n",
    "plt.imshow(np.zeros([256,256]),cmap='gray')\n",
    "plt.scatter(aligned_coords[:,0],aligned_coords[:,1],color='orange')\n",
    "print(aligned_coords)"
   ]
  },
  {
   "cell_type": "markdown",
   "id": "2d33a625",
   "metadata": {},
   "source": [
    "## STEP 4: MAP TO 3D"
   ]
  },
  {
   "cell_type": "code",
   "execution_count": null,
   "id": "1c7fff44",
   "metadata": {},
   "outputs": [],
   "source": [
    "# Run fourth component function\n",
    "from hull_projection import project_to_3d\n",
    "predictions = project_to_3d(aligned_coords, points_hull, Tmatrix)\n",
    "predictions = np.array(predictions)\n",
    "predictions"
   ]
  },
  {
   "cell_type": "markdown",
   "id": "9f2e0ee3",
   "metadata": {},
   "source": [
    "### Visual Inspect"
   ]
  },
  {
   "cell_type": "code",
   "execution_count": null,
   "id": "6c078c35",
   "metadata": {},
   "outputs": [],
   "source": [
    "# Inspect the projected coordinates on the MRI hull\n",
    "import matplotlib.pyplot as plt\n",
    "\n",
    "fig = plt.figure()\n",
    "ax = plt.axes(projection='3d')\n",
    "ax.scatter3D(points_hull[:,0], points_hull[:,1], points_hull[:,2], cmap='green', alpha=0.2)\n",
    "ax.scatter3D(predictions[:,0], predictions[:,1], predictions[:,2], c='r',)\n",
    "ax.set_xlabel('x')\n",
    "ax.set_ylabel('y')\n",
    "ax.set_zlabel('z');"
   ]
  },
  {
   "cell_type": "markdown",
   "id": "febaa7f6",
   "metadata": {},
   "source": [
    "For a better visualization, use plotly or mayavi. Here for the sake of fast visualization we use matplotlib."
   ]
  },
  {
   "cell_type": "code",
   "execution_count": null,
   "id": "fc349eee",
   "metadata": {},
   "outputs": [],
   "source": []
  }
 ],
 "metadata": {
  "kernelspec": {
   "display_name": "Python 3 (ipykernel)",
   "language": "python",
   "name": "python3"
  },
  "language_info": {
   "codemirror_mode": {
    "name": "ipython",
    "version": 3
   },
   "file_extension": ".py",
   "mimetype": "text/x-python",
   "name": "python",
   "nbconvert_exporter": "python",
   "pygments_lexer": "ipython3",
   "version": "3.9.12"
  }
 },
 "nbformat": 4,
 "nbformat_minor": 5
}
