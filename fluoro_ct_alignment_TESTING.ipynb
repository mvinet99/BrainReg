{
 "cells": [
  {
   "cell_type": "code",
   "execution_count": 1,
   "id": "1c6eb4ca",
   "metadata": {},
   "outputs": [
    {
     "name": "stdout",
     "output_type": "stream",
     "text": [
      "['DBS_bG56', 'DBS_bG64', 'DBS_bT20']\n"
     ]
    }
   ],
   "source": [
    "# Import dependencies\n",
    "import nibabel as nib\n",
    "import numpy as np\n",
    "from numpy import linalg\n",
    "import cv2\n",
    "import scipy.io\n",
    "import os\n",
    "import imageio\n",
    "from PIL import Image\n",
    "import matplotlib.pyplot as plt\n",
    "from utils import rotate\n",
    "from utils import euclidean_distance_coords\n",
    "from tabulate import tabulate\n",
    "\n",
    "# Create list of subfolders - names of patient files to run the batch mode on\n",
    "subfolders = next(os.walk(os.path.join('data')))[1]\n",
    "print(subfolders)"
   ]
  },
  {
   "cell_type": "code",
   "execution_count": 2,
   "id": "1d0c522a",
   "metadata": {},
   "outputs": [
    {
     "name": "stdout",
     "output_type": "stream",
     "text": [
      "fluoro_ct_alignment.py successfully executed.\n",
      "fluoro_ct_alignment.py successfully executed.\n",
      "fluoro_ct_alignment.py successfully executed.\n"
     ]
    }
   ],
   "source": [
    "# Load patient data and run 3rd component script for each patient. Output results to a table\n",
    "data = []\n",
    "for i in range(len(subfolders)):\n",
    "\n",
    "    # Load patient data\n",
    "    SAMPLE_NAME = subfolders[i]\n",
    "    HULL_FILE_NAME = os.path.join('data/' + SAMPLE_NAME,\"hull_rh.mat\")\n",
    "    PRECT_FILE_NAME = os.path.join('data/' + SAMPLE_NAME,\"preop_ct.nii\")\n",
    "    POSTCT_FILE_NAME = os.path.join('data/' + SAMPLE_NAME,\"postop_ct.nii\")\n",
    "    FLUORO_FILE_NAME = os.path.join('data/' + SAMPLE_NAME,\"fluoro.tif\")\n",
    "\n",
    "    # Read .mat file of mask indices\n",
    "    hull = scipy.io.loadmat(HULL_FILE_NAME)\n",
    "    points_hull=np.array(hull['mask_indices'])\n",
    "\n",
    "    # Read pre op CT\n",
    "    prect = nib.load(PRECT_FILE_NAME)\n",
    "    prect_data = np.nan_to_num(np.array(prect.get_fdata()))\n",
    "    Tmatrix = np.transpose(prect.affine)\n",
    "\n",
    "    # Read post op CT\n",
    "    postct = nib.load(POSTCT_FILE_NAME)\n",
    "    postct_data = np.nan_to_num(np.array(postct.get_fdata()))\n",
    "\n",
    "    # Read fluoroscopy image\n",
    "    fluoror = imageio.imread(FLUORO_FILE_NAME)\n",
    "    fluoro = cv2.cvtColor(fluoror, cv2.COLOR_BGR2GRAY)\n",
    "\n",
    "    #Load groud truth coordinates\n",
    "    gt_dict = scipy.io.loadmat(os.path.join(\"data/\" + SAMPLE_NAME + \"/electrode_locations/electrode_locs.mat\"))\n",
    "    gt = gt_dict['CortElecLoc']\n",
    "    gt = np.concatenate(gt,axis=0)\n",
    "    new_gt = []\n",
    "    for i in range (len(gt)):\n",
    "        new = np.concatenate(gt[i],axis = 0)\n",
    "        new_gt.append(new)\n",
    "    new_gt = np.array(new_gt)\n",
    "    new_T = np.hstack((new_gt, np.ones((new_gt.shape[0],1))))\n",
    "    Transformed = new_T @ np.linalg.inv(Tmatrix)\n",
    "    \n",
    "    aligned_coords_gt = np.delete(Transformed, obj=2, axis=1)\n",
    "    aligned_coords_gt = np.delete(aligned_coords_gt, obj=2, axis=1)\n",
    "    \n",
    "    # Define the ideal pin, DBS lead, and electrode inputs for each of the 3 patients\n",
    "    if SAMPLE_NAME == 'DBS_bG56':\n",
    "        pins_ct = np.array([[72,77,45],[73, 73, 136],[206, 152, 138],[206,155,44], [139, 71, 113], [138,110,114]])\n",
    "        pins_fl = np.array([[420, 700],[820, 590], [1200,420]])\n",
    "        coords_2d = np.array([[588,239],[637,225],[689,213],[791,196],[540,261],[739,203]])\n",
    "    if SAMPLE_NAME == 'DBS_bG64':\n",
    "        pins_ct = np.array([[91,65,45],[91, 66, 132],[212, 167, 30], [213,165,135],[142, 107, 119],[142,67,120]])\n",
    "        pins_fl = np.array([[420,590],[1250,630],[850,620]])\n",
    "        coords_2d = np.array([[916,276],[660,270],[865,267],[711,263],[814,261],[762,260],[966,289]])\n",
    "    if SAMPLE_NAME == 'DBS_bT20':\n",
    "        pins_ct = np.array([[110, 42, 138],[73, 72, 54],[73,70,139],[206, 145, 52], [147, 84, 111], [139, 66, 141]])\n",
    "        pins_fl = np.array([[542, 1019],[1399, 539], [922,805]])\n",
    "        coords_2d = np.array([[449,626],[490,575],[536,525],[587,485],[643,452],[706,430],[763,413],[830,405]])\n",
    "    \n",
    "    # Run third component function\n",
    "    from fluoro_ct_alignment import project_to_2d\n",
    "    aligned_coords = project_to_2d(postct_data,fluoro,pins_fl,pins_ct,coords_2d)\n",
    "    \n",
    "    aligned_coords_gt = aligned_coords_gt[0:len(aligned_coords),:]\n",
    "    \n",
    "    #Append results from this patient\n",
    "    data.append(SAMPLE_NAME)\n",
    "    data.append(aligned_coords)\n",
    "    data.append(aligned_coords_gt)\n",
    "    data.append(np.mean(np.abs(aligned_coords_gt - aligned_coords)))\n",
    "    data.append(euclidean_distance_coords(aligned_coords, aligned_coords_gt))\n",
    "\n",
    "data = list(data)"
   ]
  },
  {
   "cell_type": "code",
   "execution_count": 3,
   "id": "3644068a",
   "metadata": {},
   "outputs": [
    {
     "name": "stdout",
     "output_type": "stream",
     "text": [
      "Patient    Predicted                      Ground Truth                     Mean Absolute Error    Euclidean Distance\n",
      "---------  -----------------------------  -----------------------------  ---------------------  --------------------\n",
      "DBS_bG56   [[ 33.84586466  26.82350253]   [[123.83516896 104.7599179 ]                 58.8824               106.262\n",
      "            [ 49.94849624  30.31048061]    [124.78693433  96.72070848]\n",
      "            [ 68.07030075  35.20440844]    [126.78471209  88.7246648 ]\n",
      "            [105.98157895  47.53522636]    [128.68824323  80.63801526]\n",
      "            [ 21.06842105  26.868725  ]    [130.59177442  73.55033688]\n",
      "            [ 86.05150376  40.55274128]]   [133.39994806  66.36991545]]\n",
      "DBS_bG64   [[229.97150786 107.50061999]   [[160.00000763  59.        ]                 30.6322               121.599\n",
      "            [192.13506013  94.82201271]    [168.00000763  62.        ]\n",
      "            [222.6893617  102.63915799]    [176.00000763  66.        ]\n",
      "            [199.94116559  94.89528411]    [183.00000763  72.        ]\n",
      "            [215.30897317  98.67548172]    [189.00000763  77.        ]\n",
      "            [207.61628122  96.16560316]    [197.00000763  83.        ]\n",
      "            [236.97409806 113.51661779]]   [202.00000763  90.        ]]\n",
      "DBS_bT20   [[144.57065715  39.41729241]   [[203.          83.00006068]                 30.5889               114.729\n",
      "            [153.44781162  33.41008514]    [198.          76.00005692]\n",
      "            [162.76010606  28.61169325]    [192.          70.00005567]\n",
      "            [171.70042794  27.44230997]    [185.          64.00005567]\n",
      "            [180.53781477  29.09520424]    [177.          60.00005692]\n",
      "            [189.12347753  35.02197949]    [169.          57.00005317]\n",
      "            [196.63096149  41.16542052]    [161.          54.00004941]\n",
      "            [204.3809712   51.60886483]]   [151.          53.00005442]]\n"
     ]
    }
   ],
   "source": [
    "# Print results of batch to a table\n",
    "patients = [data[0], data[5], data[10]]\n",
    "predict = [data[1], data[6], data[11]]\n",
    "ground = [data[2], data[7], data[12]]\n",
    "MAE = [data[3], data[8], data[13]]\n",
    "EucDist = [data[4], data[9], data[14]]\n",
    "\n",
    "table = zip(patients,predict,ground,MAE,EucDist)\n",
    "\n",
    "headers=[\"Patient\", \"Predicted\", \"Ground Truth\", \"Mean Absolute Error\", \"Euclidean Distance\"]\n",
    "\n",
    "print(tabulate(table,headers))"
   ]
  },
  {
   "cell_type": "code",
   "execution_count": 7,
   "id": "cb4f5679",
   "metadata": {},
   "outputs": [
    {
     "name": "stdout",
     "output_type": "stream",
     "text": [
      "DBS_bG56: orange = predicted, red = ground truth\n"
     ]
    },
    {
     "data": {
      "image/png": "[encoded data removed]",
      "text/plain": [
       "<Figure size 432x288 with 1 Axes>"
      ]
     },
     "metadata": {
      "needs_background": "light"
     },
     "output_type": "display_data"
    }
   ],
   "source": [
    "# Display predicted coordinates and ground truth coordinates on blank image for DBS_bG56\n",
    "plt.imshow(np.zeros([256,256]),cmap='gray')\n",
    "cor = data[1]\n",
    "gt_cor = data[2]\n",
    "plt.scatter(cor[:,0],cor[:,1],color='orange')\n",
    "plt.scatter(gt_cor[:,0],gt_cor[:,1],color='red')\n",
    "print('DBS_bG56: orange = predicted, red = ground truth')"
   ]
  },
  {
   "cell_type": "code",
   "execution_count": 8,
   "id": "686d9ef2",
   "metadata": {},
   "outputs": [
    {
     "name": "stdout",
     "output_type": "stream",
     "text": [
      "DBS_bG64: orange = predicted, red = ground truth\n"
     ]
    },
    {
     "data": {
      "image/png": "[encoded data removed]",
      "text/plain": [
       "<Figure size 432x288 with 1 Axes>"
      ]
     },
     "metadata": {
      "needs_background": "light"
     },
     "output_type": "display_data"
    }
   ],
   "source": [
    "# Display predicted coordinates and ground truth coordinates on blank image for DBS_bG64\n",
    "plt.imshow(np.zeros([256,256]),cmap='gray')\n",
    "cor = data[6]\n",
    "gt_cor = data[7]\n",
    "plt.scatter(cor[:,0],cor[:,1],color='orange')\n",
    "plt.scatter(gt_cor[:,0],gt_cor[:,1],color='red')\n",
    "print('DBS_bG64: orange = predicted, red = ground truth')"
   ]
  },
  {
   "cell_type": "code",
   "execution_count": 9,
   "id": "1b761490",
   "metadata": {},
   "outputs": [
    {
     "name": "stdout",
     "output_type": "stream",
     "text": [
      "DBS_bT20: orange = predicted, red = ground truth\n"
     ]
    },
    {
     "data": {
      "image/png": "[encoded data removed]",
      "text/plain": [
       "<Figure size 432x288 with 1 Axes>"
      ]
     },
     "metadata": {
      "needs_background": "light"
     },
     "output_type": "display_data"
    }
   ],
   "source": [
    "# Display predicted coordinates and ground truth coordinates on blank image for DBS_bG64\n",
    "plt.imshow(np.zeros([256,256]),cmap='gray')\n",
    "cor = data[11]\n",
    "gt_cor = data[12]\n",
    "plt.scatter(cor[:,0],cor[:,1],color='orange')\n",
    "plt.scatter(gt_cor[:,0],gt_cor[:,1],color='red')\n",
    "print('DBS_bT20: orange = predicted, red = ground truth')"
   ]
  },
  {
   "cell_type": "code",
   "execution_count": null,
   "id": "a19c6ca6",
   "metadata": {},
   "outputs": [],
   "source": []
  }
 ],
 "metadata": {
  "kernelspec": {
   "display_name": "Python 3 (ipykernel)",
   "language": "python",
   "name": "python3"
  },
  "language_info": {
   "codemirror_mode": {
    "name": "ipython",
    "version": 3
   },
   "file_extension": ".py",
   "mimetype": "text/x-python",
   "name": "python",
   "nbconvert_exporter": "python",
   "pygments_lexer": "ipython3",
   "version": "3.9.12"
  }
 },
 "nbformat": 4,
 "nbformat_minor": 5
}
