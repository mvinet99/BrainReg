{
 "cells": [
  {
   "cell_type": "code",
   "execution_count": 2,
   "id": "1d0c522a",
   "metadata": {},
   "outputs": [
    {
     "name": "stdout",
     "output_type": "stream",
     "text": [
      "(256, 256, 176)\n"
     ]
    }
   ],
   "source": [
    "# Import dependencies\n",
    "import nibabel as nib\n",
    "import numpy as np\n",
    "import cv2\n",
    "import scipy.io\n",
    "import os\n",
    "import imageio\n",
    "from PIL import Image\n",
    "import matplotlib.pyplot as plt\n",
    "import circle_fit as cf\n",
    "from utils import rotate\n",
    "\n",
    "# Define file names\n",
    "SAMPLE_NAME = \"data\\DBS_bG56\"\n",
    "HULL_FILE_NAME = os.path.join(SAMPLE_NAME,\"hull_rh.mat\")\n",
    "PRECT_FILE_NAME = os.path.join(SAMPLE_NAME,\"preop_ct.nii\")\n",
    "POSTCT_FILE_NAME = os.path.join(SAMPLE_NAME,\"postop_ct.nii\")\n",
    "FLUORO_FILE_NAME = os.path.join(SAMPLE_NAME,\"fluoro.tif\")\n",
    "\n",
    "# Read .mat file of mask indices\n",
    "hull = scipy.io.loadmat(HULL_FILE_NAME)\n",
    "points_hull=np.array(hull['mask_indices'])\n",
    "\n",
    "# Read pre op CT\n",
    "prect = nib.load(PRECT_FILE_NAME)\n",
    "prect_data = np.nan_to_num(np.array(prect.get_fdata()))\n",
    "Tmatrix = np.transpose(prect.affine)\n",
    "\n",
    "# Read post op CT\n",
    "postct = nib.load(POSTCT_FILE_NAME)\n",
    "postct_data = np.nan_to_num(np.array(postct.get_fdata()))\n",
    "print(postct_data.shape)\n",
    "\n",
    "# Read fluoroscopy image\n",
    "fluoror = imageio.imread(FLUORO_FILE_NAME)\n",
    "fluoro = cv2.cvtColor(fluoror, cv2.COLOR_BGR2GRAY)"
   ]
  },
  {
   "cell_type": "code",
   "execution_count": null,
   "id": "c1cdf322",
   "metadata": {},
   "outputs": [],
   "source": [
    "# Define ideal inputs for DBS_bT20 to 3rd component function: fluoro and ct pins\n",
    "\n",
    "# Format inputs as follows: pin left, pin right, DBS lead\n",
    "\n",
    "pins_ct = np.array([[73, 73.0368, 52],[209, 147.6262207, 54], [147.276, 114, 85]])\n",
    "\n",
    "pins_fl = np.array([[542, 1019],[1399, 539], [922,805]])\n",
    "\n",
    "coords_2d = np.array([[109,626],[150,575],[196,525],[247,485],[303,452],[366,430],[423,413],[490,405]])\n",
    "\n",
    "# Define ground truth electrode coordinates for comparison\n",
    "\n",
    "aligned_coords_gt = np.array([[203,83.00006068],[198,76.00005692],[192,70.00005567],[185,64.00005567],[177,60.00005692],\n",
    "                              [169,57.00005317],[161, 54.00004941],[151,53.00005442]])"
   ]
  },
  {
   "cell_type": "code",
   "execution_count": null,
   "id": "e2f2ca93",
   "metadata": {},
   "outputs": [],
   "source": []
  },
  {
   "cell_type": "code",
   "execution_count": 3,
   "id": "1212bc5b",
   "metadata": {},
   "outputs": [
    {
     "name": "stdout",
     "output_type": "stream",
     "text": [
      "fluoro_ct_alignment.py successfully executed.\n"
     ]
    }
   ],
   "source": [
    "# Run third component function\n",
    "from fluoro_ct_alignment import project_to_2d\n",
    "aligned_coords = project_to_2d(postct_data,fluoro,pins_fl,pins_ct,coords_2d)"
   ]
  },
  {
   "cell_type": "code",
   "execution_count": 4,
   "id": "4214a8b9",
   "metadata": {},
   "outputs": [
    {
     "data": {
      "text/plain": [
       "<matplotlib.collections.PathCollection at 0x1e45070fc70>"
      ]
     },
     "execution_count": 4,
     "metadata": {},
     "output_type": "execute_result"
    },
    {
     "data": {
      "image/png": "[encoded data removed]",
      "text/plain": [
       "<Figure size 432x288 with 1 Axes>"
      ]
     },
     "metadata": {
      "needs_background": "light"
     },
     "output_type": "display_data"
    }
   ],
   "source": [
    "# Display predicted coordinates and ground truth coordinates on blank image\n",
    "plt.imshow(np.zeros([256,256]),cmap='gray')\n",
    "plt.scatter(aligned_coords[:,0],aligned_coords[:,1],color='orange')\n",
    "plt.scatter(aligned_coords_gt[:,0],aligned_coords_gt[:,1],color='red')"
   ]
  },
  {
   "cell_type": "code",
   "execution_count": 5,
   "id": "d20d7373",
   "metadata": {},
   "outputs": [
    {
     "data": {
      "text/plain": [
       "<matplotlib.collections.PathCollection at 0x1e4529b4d30>"
      ]
     },
     "execution_count": 5,
     "metadata": {},
     "output_type": "execute_result"
    },
    {
     "data": {
      "image/png": "[encoded data removed]",
      "text/plain": [
       "<Figure size 432x288 with 1 Axes>"
      ]
     },
     "metadata": {
      "needs_background": "light"
     },
     "output_type": "display_data"
    }
   ],
   "source": [
    "# Display original electrode coordinates on flouro\n",
    "plt.imshow(np.zeros([1222,1187]),cmap='gray')\n",
    "plt.scatter(coords_2d[:,0], coords_2d[:,1],color='red')"
   ]
  },
  {
   "cell_type": "code",
   "execution_count": 6,
   "id": "fbae8773",
   "metadata": {},
   "outputs": [
    {
     "data": {
      "text/plain": [
       "<matplotlib.collections.PathCollection at 0x1e451ec9d90>"
      ]
     },
     "execution_count": 6,
     "metadata": {},
     "output_type": "execute_result"
    },
    {
     "data": {
      "image/png": "[encoded data removed]",
      "text/plain": [
       "<Figure size 432x288 with 1 Axes>"
      ]
     },
     "metadata": {
      "needs_background": "light"
     },
     "output_type": "display_data"
    }
   ],
   "source": [
    "# Display predicted electrode coordinates on black image ('aligned' image)\n",
    "# For now, this black image represents the 'aligned' image space\n",
    "plt.imshow(np.zeros([256,256]))\n",
    "plt.scatter(aligned_coords[:,0], aligned_coords[:,1])"
   ]
  },
  {
   "cell_type": "code",
   "execution_count": 7,
   "id": "5d83d50c",
   "metadata": {},
   "outputs": [
    {
     "data": {
      "text/plain": [
       "<matplotlib.collections.PathCollection at 0x1e451f3c4f0>"
      ]
     },
     "execution_count": 7,
     "metadata": {},
     "output_type": "execute_result"
    },
    {
     "data": {
      "image/png": "[encoded data removed]",
      "text/plain": [
       "<Figure size 432x288 with 1 Axes>"
      ]
     },
     "metadata": {
      "needs_background": "light"
     },
     "output_type": "display_data"
    }
   ],
   "source": [
    "# Display the ground truth aligned electrode coordinates on black image\n",
    "# For now, this black image represents the 'aligned' image space\n",
    "import matplotlib.pyplot as plt\n",
    "plt.imshow(np.zeros([256,256]))\n",
    "plt.scatter(aligned_coords_gt[:,0], aligned_coords_gt[:,1])"
   ]
  },
  {
   "cell_type": "code",
   "execution_count": 8,
   "id": "c4c68127",
   "metadata": {},
   "outputs": [
    {
     "data": {
      "text/plain": [
       "21.883354572516094"
      ]
     },
     "execution_count": 8,
     "metadata": {},
     "output_type": "execute_result"
    }
   ],
   "source": [
    "# Calculate mean absolute error between predicted and ground truth sets of aligned coordinates\n",
    "MAE = np.mean(np.abs(aligned_coords_gt - aligned_coords))\n",
    "MAE"
   ]
  },
  {
   "cell_type": "code",
   "execution_count": null,
   "id": "cb4f5679",
   "metadata": {},
   "outputs": [],
   "source": []
  }
 ],
 "metadata": {
  "kernelspec": {
   "display_name": "Python 3 (ipykernel)",
   "language": "python",
   "name": "python3"
  },
  "language_info": {
   "codemirror_mode": {
    "name": "ipython",
    "version": 3
   },
   "file_extension": ".py",
   "mimetype": "text/x-python",
   "name": "python",
   "nbconvert_exporter": "python",
   "pygments_lexer": "ipython3",
   "version": "3.9.12"
  }
 },
 "nbformat": 4,
 "nbformat_minor": 5
}
