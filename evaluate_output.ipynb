{
 "cells": [
  {
   "cell_type": "code",
   "execution_count": 1,
   "id": "c92b2c06",
   "metadata": {},
   "outputs": [],
   "source": [
    "from evaluate import evaluation\n",
    "import matplotlib.pyplot as plt"
   ]
  },
  {
   "cell_type": "code",
   "execution_count": 2,
   "id": "69be30c0",
   "metadata": {},
   "outputs": [
    {
     "name": "stdout",
     "output_type": "stream",
     "text": [
      "fluoro_segmentation.py successfully executed.\n",
      "1/1 [==============================] - 0s 256ms/step\n",
      "ct_segmentation.py successfully executed.\n"
     ]
    },
    {
     "name": "stderr",
     "output_type": "stream",
     "text": [
      "C:\\Users\\Micah Vinet\\OneDrive\\Documents\\BrainReg\\ct_segmentation.py:95: RuntimeWarning: invalid value encountered in true_divide\n",
      "  img = (img - np.min(img)) / (np.max(img) - np.min(img))\n"
     ]
    },
    {
     "name": "stdout",
     "output_type": "stream",
     "text": [
      "fluoro_ct_alignment.py successfully executed.\n"
     ]
    },
    {
     "name": "stderr",
     "output_type": "stream",
     "text": [
      "C:\\Users\\Micah Vinet\\OneDrive\\Documents\\BrainReg\\utils_l\\utils.py:239: RuntimeWarning: divide by zero encountered in true_divide\n",
      "  t = (-b - W@V)/(U@V)\n"
     ]
    },
    {
     "name": "stdout",
     "output_type": "stream",
     "text": [
      "hull_projection.py executed succesfully\n",
      "[array([ 10.96020484,  21.78002896, -40.11299152]), array([ 10.0364937 ,  16.96593378, -43.72713524]), array([ 10.96398922,  26.80675198, -36.86046526]), array([ 10.20423699,  32.02324985, -33.9843434 ]), array([ 10.09402522,  37.4058068 , -31.49770168]), array([ 10.82141383,  42.92995209, -29.4118451 ]), array([ 10.5976392 ,  48.5705713 , -27.73625662]), array([ 10.05124411,  54.30202047, -26.47855394])]\n",
      "fluoro_segmentation.py successfully executed.\n",
      "1/1 [==============================] - 0s 222ms/step\n",
      "ct_segmentation.py successfully executed.\n"
     ]
    },
    {
     "name": "stderr",
     "output_type": "stream",
     "text": [
      "C:\\Users\\Micah Vinet\\OneDrive\\Documents\\BrainReg\\ct_segmentation.py:95: RuntimeWarning: invalid value encountered in true_divide\n",
      "  img = (img - np.min(img)) / (np.max(img) - np.min(img))\n"
     ]
    },
    {
     "name": "stdout",
     "output_type": "stream",
     "text": [
      "fluoro_ct_alignment.py successfully executed.\n"
     ]
    },
    {
     "name": "stderr",
     "output_type": "stream",
     "text": [
      "C:\\Users\\Micah Vinet\\OneDrive\\Documents\\BrainReg\\utils_l\\utils.py:239: RuntimeWarning: divide by zero encountered in true_divide\n",
      "  t = (-b - W@V)/(U@V)\n"
     ]
    },
    {
     "name": "stdout",
     "output_type": "stream",
     "text": [
      "hull_projection.py executed succesfully\n",
      "[array([ 10.96020484,  21.78002896, -40.11299152]), array([ 10.0364937 ,  16.96593378, -43.72713524]), array([ 10.96398922,  26.80675198, -36.86046526]), array([ 10.20423699,  32.02324985, -33.9843434 ]), array([ 10.09402522,  37.4058068 , -31.49770168]), array([ 10.82141383,  42.92995209, -29.4118451 ]), array([ 10.5976392 ,  48.5705713 , -27.73625662]), array([ 10.05124411,  54.30202047, -26.47855394])]\n",
      "fluoro_segmentation.py successfully executed.\n",
      "1/1 [==============================] - 0s 211ms/step\n",
      "ct_segmentation.py successfully executed.\n"
     ]
    },
    {
     "name": "stderr",
     "output_type": "stream",
     "text": [
      "C:\\Users\\Micah Vinet\\OneDrive\\Documents\\BrainReg\\ct_segmentation.py:95: RuntimeWarning: invalid value encountered in true_divide\n",
      "  img = (img - np.min(img)) / (np.max(img) - np.min(img))\n"
     ]
    },
    {
     "name": "stdout",
     "output_type": "stream",
     "text": [
      "fluoro_ct_alignment.py successfully executed.\n"
     ]
    },
    {
     "name": "stderr",
     "output_type": "stream",
     "text": [
      "C:\\Users\\Micah Vinet\\OneDrive\\Documents\\BrainReg\\utils_l\\utils.py:239: RuntimeWarning: divide by zero encountered in true_divide\n",
      "  t = (-b - W@V)/(U@V)\n"
     ]
    },
    {
     "name": "stdout",
     "output_type": "stream",
     "text": [
      "hull_projection.py executed succesfully\n",
      "[array([ 10.96020484,  21.78002896, -40.11299152]), array([ 10.0364937 ,  16.96593378, -43.72713524]), array([ 10.96398922,  26.80675198, -36.86046526]), array([ 10.20423699,  32.02324985, -33.9843434 ]), array([ 10.09402522,  37.4058068 , -31.49770168]), array([ 10.82141383,  42.92995209, -29.4118451 ]), array([ 10.5976392 ,  48.5705713 , -27.73625662]), array([ 10.05124411,  54.30202047, -26.47855394])]\n",
      "fluoro_segmentation.py successfully executed.\n",
      "1/1 [==============================] - 0s 211ms/step\n",
      "ct_segmentation.py successfully executed.\n"
     ]
    },
    {
     "name": "stderr",
     "output_type": "stream",
     "text": [
      "C:\\Users\\Micah Vinet\\OneDrive\\Documents\\BrainReg\\ct_segmentation.py:95: RuntimeWarning: invalid value encountered in true_divide\n",
      "  img = (img - np.min(img)) / (np.max(img) - np.min(img))\n"
     ]
    },
    {
     "name": "stdout",
     "output_type": "stream",
     "text": [
      "fluoro_ct_alignment.py successfully executed.\n"
     ]
    },
    {
     "name": "stderr",
     "output_type": "stream",
     "text": [
      "C:\\Users\\Micah Vinet\\OneDrive\\Documents\\BrainReg\\utils_l\\utils.py:239: RuntimeWarning: divide by zero encountered in true_divide\n",
      "  t = (-b - W@V)/(U@V)\n"
     ]
    },
    {
     "name": "stdout",
     "output_type": "stream",
     "text": [
      "hull_projection.py executed succesfully\n",
      "[array([ 10.96020484,  21.78002896, -40.11299152]), array([ 10.0364937 ,  16.96593378, -43.72713524]), array([ 10.96398922,  26.80675198, -36.86046526]), array([ 10.20423699,  32.02324985, -33.9843434 ]), array([ 10.09402522,  37.4058068 , -31.49770168]), array([ 10.82141383,  42.92995209, -29.4118451 ]), array([ 10.5976392 ,  48.5705713 , -27.73625662]), array([ 10.05124411,  54.30202047, -26.47855394])]\n",
      "fluoro_segmentation.py successfully executed.\n",
      "WARNING:tensorflow:5 out of the last 5 calls to <function Model.make_predict_function.<locals>.predict_function at 0x000001E280CAAAF0> triggered tf.function retracing. Tracing is expensive and the excessive number of tracings could be due to (1) creating @tf.function repeatedly in a loop, (2) passing tensors with different shapes, (3) passing Python objects instead of tensors. For (1), please define your @tf.function outside of the loop. For (2), @tf.function has reduce_retracing=True option that can avoid unnecessary retracing. For (3), please refer to https://www.tensorflow.org/guide/function#controlling_retracing and https://www.tensorflow.org/api_docs/python/tf/function for  more details.\n",
      "1/1 [==============================] - 0s 221ms/step\n",
      "ct_segmentation.py successfully executed.\n"
     ]
    },
    {
     "name": "stderr",
     "output_type": "stream",
     "text": [
      "C:\\Users\\Micah Vinet\\OneDrive\\Documents\\BrainReg\\ct_segmentation.py:95: RuntimeWarning: invalid value encountered in true_divide\n",
      "  img = (img - np.min(img)) / (np.max(img) - np.min(img))\n"
     ]
    },
    {
     "name": "stdout",
     "output_type": "stream",
     "text": [
      "fluoro_ct_alignment.py successfully executed.\n"
     ]
    },
    {
     "name": "stderr",
     "output_type": "stream",
     "text": [
      "C:\\Users\\Micah Vinet\\OneDrive\\Documents\\BrainReg\\utils_l\\utils.py:239: RuntimeWarning: divide by zero encountered in true_divide\n",
      "  t = (-b - W@V)/(U@V)\n"
     ]
    },
    {
     "name": "stdout",
     "output_type": "stream",
     "text": [
      "hull_projection.py executed succesfully\n",
      "[array([ 10.96020484,  21.78002896, -40.11299152]), array([ 10.0364937 ,  16.96593378, -43.72713524]), array([ 10.96398922,  26.80675198, -36.86046526]), array([ 10.20423699,  32.02324985, -33.9843434 ]), array([ 10.09402522,  37.4058068 , -31.49770168]), array([ 10.82141383,  42.92995209, -29.4118451 ]), array([ 10.5976392 ,  48.5705713 , -27.73625662]), array([ 10.05124411,  54.30202047, -26.47855394])]\n",
      "fluoro_segmentation.py successfully executed.\n",
      "WARNING:tensorflow:6 out of the last 6 calls to <function Model.make_predict_function.<locals>.predict_function at 0x000001E28213A550> triggered tf.function retracing. Tracing is expensive and the excessive number of tracings could be due to (1) creating @tf.function repeatedly in a loop, (2) passing tensors with different shapes, (3) passing Python objects instead of tensors. For (1), please define your @tf.function outside of the loop. For (2), @tf.function has reduce_retracing=True option that can avoid unnecessary retracing. For (3), please refer to https://www.tensorflow.org/guide/function#controlling_retracing and https://www.tensorflow.org/api_docs/python/tf/function for  more details.\n",
      "1/1 [==============================] - 0s 216ms/step\n",
      "ct_segmentation.py successfully executed.\n"
     ]
    },
    {
     "name": "stderr",
     "output_type": "stream",
     "text": [
      "C:\\Users\\Micah Vinet\\OneDrive\\Documents\\BrainReg\\ct_segmentation.py:95: RuntimeWarning: invalid value encountered in true_divide\n",
      "  img = (img - np.min(img)) / (np.max(img) - np.min(img))\n"
     ]
    },
    {
     "name": "stdout",
     "output_type": "stream",
     "text": [
      "fluoro_ct_alignment.py successfully executed.\n"
     ]
    },
    {
     "name": "stderr",
     "output_type": "stream",
     "text": [
      "C:\\Users\\Micah Vinet\\OneDrive\\Documents\\BrainReg\\utils_l\\utils.py:239: RuntimeWarning: divide by zero encountered in true_divide\n",
      "  t = (-b - W@V)/(U@V)\n"
     ]
    },
    {
     "name": "stdout",
     "output_type": "stream",
     "text": [
      "hull_projection.py executed succesfully\n",
      "[array([ 10.96020484,  21.78002896, -40.11299152]), array([ 10.0364937 ,  16.96593378, -43.72713524]), array([ 10.96398922,  26.80675198, -36.86046526]), array([ 10.20423699,  32.02324985, -33.9843434 ]), array([ 10.09402522,  37.4058068 , -31.49770168]), array([ 10.82141383,  42.92995209, -29.4118451 ]), array([ 10.5976392 ,  48.5705713 , -27.73625662]), array([ 10.05124411,  54.30202047, -26.47855394])]\n",
      "fluoro_segmentation.py successfully executed.\n",
      "1/1 [==============================] - 0s 209ms/step\n",
      "ct_segmentation.py successfully executed.\n"
     ]
    },
    {
     "name": "stderr",
     "output_type": "stream",
     "text": [
      "C:\\Users\\Micah Vinet\\OneDrive\\Documents\\BrainReg\\ct_segmentation.py:95: RuntimeWarning: invalid value encountered in true_divide\n",
      "  img = (img - np.min(img)) / (np.max(img) - np.min(img))\n"
     ]
    },
    {
     "name": "stdout",
     "output_type": "stream",
     "text": [
      "fluoro_ct_alignment.py successfully executed.\n"
     ]
    },
    {
     "name": "stderr",
     "output_type": "stream",
     "text": [
      "C:\\Users\\Micah Vinet\\OneDrive\\Documents\\BrainReg\\utils_l\\utils.py:239: RuntimeWarning: divide by zero encountered in true_divide\n",
      "  t = (-b - W@V)/(U@V)\n"
     ]
    },
    {
     "name": "stdout",
     "output_type": "stream",
     "text": [
      "hull_projection.py executed succesfully\n",
      "[array([ 10.96020484,  21.78002896, -40.11299152]), array([ 10.0364937 ,  16.96593378, -43.72713524]), array([ 10.96398922,  26.80675198, -36.86046526]), array([ 10.20423699,  32.02324985, -33.9843434 ]), array([ 10.09402522,  37.4058068 , -31.49770168]), array([ 10.82141383,  42.92995209, -29.4118451 ]), array([ 10.5976392 ,  48.5705713 , -27.73625662]), array([ 10.05124411,  54.30202047, -26.47855394])]\n",
      "fluoro_segmentation.py successfully executed.\n",
      "1/1 [==============================] - 0s 218ms/step\n",
      "ct_segmentation.py successfully executed.\n"
     ]
    },
    {
     "name": "stderr",
     "output_type": "stream",
     "text": [
      "C:\\Users\\Micah Vinet\\OneDrive\\Documents\\BrainReg\\ct_segmentation.py:95: RuntimeWarning: invalid value encountered in true_divide\n",
      "  img = (img - np.min(img)) / (np.max(img) - np.min(img))\n"
     ]
    },
    {
     "name": "stdout",
     "output_type": "stream",
     "text": [
      "fluoro_ct_alignment.py successfully executed.\n"
     ]
    },
    {
     "name": "stderr",
     "output_type": "stream",
     "text": [
      "C:\\Users\\Micah Vinet\\OneDrive\\Documents\\BrainReg\\utils_l\\utils.py:239: RuntimeWarning: divide by zero encountered in true_divide\n",
      "  t = (-b - W@V)/(U@V)\n"
     ]
    },
    {
     "name": "stdout",
     "output_type": "stream",
     "text": [
      "hull_projection.py executed succesfully\n",
      "[array([ 10.96020484,  21.78002896, -40.11299152]), array([ 10.0364937 ,  16.96593378, -43.72713524]), array([ 10.96398922,  26.80675198, -36.86046526]), array([ 10.20423699,  32.02324985, -33.9843434 ]), array([ 10.09402522,  37.4058068 , -31.49770168]), array([ 10.82141383,  42.92995209, -29.4118451 ]), array([ 10.5976392 ,  48.5705713 , -27.73625662]), array([ 10.05124411,  54.30202047, -26.47855394])]\n",
      "ACCURACY IS 111.88643681356668\n",
      "STD IS 0.0\n",
      "RAN ON FOR 8\n"
     ]
    }
   ],
   "source": [
    "acc = evaluation()"
   ]
  },
  {
   "cell_type": "code",
   "execution_count": 16,
   "id": "f84ce2a8",
   "metadata": {},
   "outputs": [
    {
     "data": {
      "text/plain": [
       "Text(0.5, 1.0, 'Euclidean Distance of Dataset')"
      ]
     },
     "execution_count": 16,
     "metadata": {},
     "output_type": "execute_result"
    },
    {
     "data": {
      "image/png": "[encoded data removed]",
      "text/plain": [
       "<Figure size 432x288 with 1 Axes>"
      ]
     },
     "metadata": {
      "needs_background": "light"
     },
     "output_type": "display_data"
    }
   ],
   "source": [
    "# Previous quarter Fluoro-CT alignment method\n",
    "acc1 = acc\n",
    "plt.figure()\n",
    "plt.hist(acc1, bins=10,range=(0,400),edgecolor = 'black')\n",
    "plt.xlabel('Euclidean Distance')\n",
    "plt.ylabel('Number of Patients')\n",
    "plt.title(\"Euclidean Distance of Dataset\")"
   ]
  },
  {
   "cell_type": "code",
   "execution_count": 5,
   "id": "27990722",
   "metadata": {},
   "outputs": [
    {
     "data": {
      "text/plain": [
       "Text(0.5, 1.0, 'Euclidean Distance of Dataset')"
      ]
     },
     "execution_count": 5,
     "metadata": {},
     "output_type": "execute_result"
    },
    {
     "data": {
      "image/png": "[encoded data removed]",
      "text/plain": [
       "<Figure size 432x288 with 1 Axes>"
      ]
     },
     "metadata": {
      "needs_background": "light"
     },
     "output_type": "display_data"
    }
   ],
   "source": [
    "# This quarter Fluoro-CT alignment method\n",
    "acc2 = acc\n",
    "plt.figure()\n",
    "plt.hist(acc2, bins=10,edgecolor = 'black')\n",
    "plt.xlabel('Euclidean Distance')\n",
    "plt.ylabel('Number of Patients')\n",
    "plt.title(\"Euclidean Distance of Dataset\")"
   ]
  },
  {
   "cell_type": "code",
   "execution_count": null,
   "id": "4b8f7d30",
   "metadata": {},
   "outputs": [],
   "source": []
  }
 ],
 "metadata": {
  "kernelspec": {
   "display_name": "Python 3 (ipykernel)",
   "language": "python",
   "name": "python3"
  },
  "language_info": {
   "codemirror_mode": {
    "name": "ipython",
    "version": 3
   },
   "file_extension": ".py",
   "mimetype": "text/x-python",
   "name": "python",
   "nbconvert_exporter": "python",
   "pygments_lexer": "ipython3",
   "version": "3.9.12"
  }
 },
 "nbformat": 4,
 "nbformat_minor": 5
}
