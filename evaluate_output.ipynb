{
 "cells": [
  {
   "cell_type": "code",
   "execution_count": 1,
   "id": "c92b2c06",
   "metadata": {},
   "outputs": [],
   "source": [
    "from evaluate import evaluation\n",
    "import matplotlib.pyplot as plt"
   ]
  },
  {
   "cell_type": "code",
   "execution_count": 2,
   "id": "69be30c0",
   "metadata": {},
   "outputs": [
    {
     "name": "stdout",
     "output_type": "stream",
     "text": [
      "local variable 'edge_coords' referenced before assignment\n",
      "DOESNT WORK FOR DBS_bS05\n",
      "[Errno 2] No such file or directory: 'data/DBS_bS06\\\\hull_rh.mat'\n",
      "DOESNT WORK FOR DBS_bS06\n",
      "No such file or no access: 'data/DBS_bG38\\postop_ct.nii'\n",
      "DOESNT WORK FOR DBS_bG38\n",
      "local variable 'edge_coords' referenced before assignment\n",
      "DOESNT WORK FOR DBS_rG02\n",
      "fluoro_segmentation.py successfully executed.\n",
      "1/1 [==============================] - 0s 262ms/step\n",
      "ct_segmentation.py successfully executed.\n"
     ]
    },
    {
     "name": "stderr",
     "output_type": "stream",
     "text": [
      "C:\\Users\\Micah Vinet\\OneDrive\\Documents\\BrainReg\\ct_segmentation.py:95: RuntimeWarning: invalid value encountered in true_divide\n",
      "  img = (img - np.min(img)) / (np.max(img) - np.min(img))\n"
     ]
    },
    {
     "name": "stdout",
     "output_type": "stream",
     "text": [
      "attempt to get argmin of an empty sequence\n",
      "DOESNT WORK FOR DBS_bG54\n",
      "[Errno 2] No such file or directory: 'data/DBS_bS21\\\\hull_rh.mat'\n",
      "DOESNT WORK FOR DBS_bS21\n",
      "[Errno 2] No such file or directory: 'data/DBS_IT03\\\\electrode_locs.npy'\n",
      "DOESNT WORK FOR DBS_IT03\n",
      "local variable 'new_electrodes' referenced before assignment\n",
      "DOESNT WORK FOR DBS_bT07\n",
      "No such file or no access: 'data/DBS_bG13\\postop_ct.nii'\n",
      "DOESNT WORK FOR DBS_bG13\n",
      "Improper input: func input vector length N=2 must not exceed func output vector length M=1\n",
      "DOESNT WORK FOR DBS_bG25\n",
      "local variable 'edge_coords' referenced before assignment\n",
      "DOESNT WORK FOR DBS_bG73\n",
      "OpenCV(4.6.0) d:\\a\\opencv-python\\opencv-python\\opencv\\modules\\imgproc\\src\\color.simd_helpers.hpp:92: error: (-2:Unspecified error) in function '__cdecl cv::impl::`anonymous-namespace'::CvtHelper<struct cv::impl::`anonymous namespace'::Set<3,4,-1>,struct cv::impl::A0xf2302844::Set<1,-1,-1>,struct cv::impl::A0xf2302844::Set<0,2,5>,2>::CvtHelper(const class cv::_InputArray &,const class cv::_OutputArray &,int)'\n",
      "> Invalid number of channels in input image:\n",
      ">     'VScn::contains(scn)'\n",
      "> where\n",
      ">     'scn' is 1\n",
      "\n",
      "DOESNT WORK FOR DBS_bG17\n",
      "local variable 'new_electrodes' referenced before assignment\n",
      "DOESNT WORK FOR DBS_bG59\n",
      "fluoro_segmentation.py successfully executed.\n",
      "1/1 [==============================] - 0s 209ms/step\n",
      "ct_segmentation.py successfully executed.\n",
      "fluoro_ct_alignment.py successfully executed.\n",
      "hull_projection.py executed succesfully\n",
      "[array([32.40903578, -2.3728004 , 53.80352029]), array([ 49.30431335, -47.33812246,  44.58333899]), array([ 47.62216314, -38.89739791,  48.16086122]), array([ 44.02636174, -30.08110102,  51.6228737 ]), array([ 36.19279052, -11.65620056,  54.14786999]), array([ 40.06457723, -20.91715851,  53.3525378 ]), array([27.7175144 ,  6.79319946, 52.38574825]), array([23.71284164, 15.75646593, 49.85722855])]\n",
      "Improper input: func input vector length N=2 must not exceed func output vector length M=1\n",
      "DOESNT WORK FOR DBS_IS01\n",
      "fluoro_segmentation.py successfully executed.\n",
      "1/1 [==============================] - 0s 211ms/step\n",
      "ct_segmentation.py successfully executed.\n",
      "fluoro_ct_alignment.py successfully executed.\n",
      "hull_projection.py executed succesfully\n",
      "[array([ 69.3007054 , -19.06443664,   7.98531866]), array([ 67.85056176, -11.61800896,   9.31404924]), array([ 71.22525967, -33.70897114,   3.3827934 ]), array([ 72.1307925 , -40.41432998,  -0.35676332]), array([ 70.25299038, -26.51109891,   6.09393669]), array([ 71.58980276, -46.77974056,  -4.61455165]), array([65.46302669, -3.94442881,  9.59261668]), array([63.01759311,  3.73255438,  9.08592548])]\n",
      "local variable 'edge_coords' referenced before assignment\n",
      "DOESNT WORK FOR DBS_IS04\n",
      "fluoro_segmentation.py successfully executed.\n",
      "1/1 [==============================] - 0s 212ms/step\n",
      "ct_segmentation.py successfully executed.\n"
     ]
    },
    {
     "name": "stderr",
     "output_type": "stream",
     "text": [
      "C:\\Users\\Micah Vinet\\OneDrive\\Documents\\BrainReg\\ct_segmentation.py:95: RuntimeWarning: invalid value encountered in true_divide\n",
      "  img = (img - np.min(img)) / (np.max(img) - np.min(img))\n"
     ]
    },
    {
     "name": "stdout",
     "output_type": "stream",
     "text": [
      "attempt to get argmin of an empty sequence\n",
      "DOESNT WORK FOR DBS_bG53\n",
      "fluoro_segmentation.py successfully executed.\n",
      "WARNING:tensorflow:5 out of the last 5 calls to <function Model.make_predict_function.<locals>.predict_function at 0x0000025E4B76B790> triggered tf.function retracing. Tracing is expensive and the excessive number of tracings could be due to (1) creating @tf.function repeatedly in a loop, (2) passing tensors with different shapes, (3) passing Python objects instead of tensors. For (1), please define your @tf.function outside of the loop. For (2), @tf.function has reduce_retracing=True option that can avoid unnecessary retracing. For (3), please refer to https://www.tensorflow.org/guide/function#controlling_retracing and https://www.tensorflow.org/api_docs/python/tf/function for  more details.\n",
      "1/1 [==============================] - 0s 224ms/step\n",
      "ct_segmentation.py successfully executed.\n",
      "attempt to get argmin of an empty sequence\n",
      "DOESNT WORK FOR DBS_IT01\n",
      "fluoro_segmentation.py successfully executed.\n",
      "WARNING:tensorflow:6 out of the last 6 calls to <function Model.make_predict_function.<locals>.predict_function at 0x0000025E4B82D550> triggered tf.function retracing. Tracing is expensive and the excessive number of tracings could be due to (1) creating @tf.function repeatedly in a loop, (2) passing tensors with different shapes, (3) passing Python objects instead of tensors. For (1), please define your @tf.function outside of the loop. For (2), @tf.function has reduce_retracing=True option that can avoid unnecessary retracing. For (3), please refer to https://www.tensorflow.org/guide/function#controlling_retracing and https://www.tensorflow.org/api_docs/python/tf/function for  more details.\n",
      "1/1 [==============================] - 0s 212ms/step\n",
      "ct_segmentation.py successfully executed.\n"
     ]
    },
    {
     "name": "stderr",
     "output_type": "stream",
     "text": [
      "C:\\Users\\Micah Vinet\\OneDrive\\Documents\\BrainReg\\ct_segmentation.py:95: RuntimeWarning: invalid value encountered in true_divide\n",
      "  img = (img - np.min(img)) / (np.max(img) - np.min(img))\n"
     ]
    },
    {
     "name": "stdout",
     "output_type": "stream",
     "text": [
      "fluoro_ct_alignment.py successfully executed.\n",
      "hull_projection.py executed succesfully\n",
      "[array([10.12745397, -7.1734297 , 41.91223174]), array([10.27289391,  0.57323423, 38.11780706]), array([ 10.10370424, -42.70293432,  41.60673769]), array([ 10.02363811, -15.9255566 ,  44.36809441]), array([ 10.22143604, -24.9656365 ,  45.1435648 ]), array([ 10.02904233, -33.99187362,  44.21275444]), array([10.17263452,  7.87044933, 32.74239089]), array([10.82793544, 14.10868031, 26.10261072])]\n"
     ]
    },
    {
     "name": "stderr",
     "output_type": "stream",
     "text": [
      "C:\\Users\\Micah Vinet\\OneDrive\\Documents\\BrainReg\\utils_l\\utils.py:239: RuntimeWarning: divide by zero encountered in true_divide\n",
      "  t = (-b - W@V)/(U@V)\n"
     ]
    },
    {
     "name": "stdout",
     "output_type": "stream",
     "text": [
      "local variable 'new_electrodes' referenced before assignment\n",
      "DOESNT WORK FOR DBS_bG28\n",
      "No such file or no access: 'data/DBS_bG06\\postop_ct.nii'\n",
      "DOESNT WORK FOR DBS_bG06\n",
      "No such file or no access: 'data/DBS_bG71\\preop_ct.nii'\n",
      "DOESNT WORK FOR DBS_bG71\n",
      "fluoro_segmentation.py successfully executed.\n",
      "1/1 [==============================] - 0s 210ms/step\n",
      "ct_segmentation.py successfully executed.\n"
     ]
    },
    {
     "name": "stderr",
     "output_type": "stream",
     "text": [
      "C:\\Users\\Micah Vinet\\OneDrive\\Documents\\BrainReg\\ct_segmentation.py:95: RuntimeWarning: invalid value encountered in true_divide\n",
      "  img = (img - np.min(img)) / (np.max(img) - np.min(img))\n"
     ]
    },
    {
     "name": "stdout",
     "output_type": "stream",
     "text": [
      "fluoro_ct_alignment.py successfully executed.\n",
      "hull_projection.py executed succesfully\n",
      "[array([ 51.22645021, -15.26742934,  33.95246172]), array([10.16783604, 45.12169588, 38.38588415]), array([10.28871526, 35.1928873 , 41.56367941]), array([14.23180726, 25.14382422, 42.79443464]), array([29.22952209, 14.68618611, 42.30337003]), array([40.54997021,  4.53736802, 40.26677669]), array([46.89583885, -5.51141256, 37.47282706]), array([ 56.09920909, -24.15289152,  28.20942577])]\n",
      "local variable 'edge_coords' referenced before assignment\n",
      "DOESNT WORK FOR DBS_IS02\n",
      "local variable 'edge_coords' referenced before assignment\n",
      "DOESNT WORK FOR DBS_bG65\n",
      "fluoro_segmentation.py successfully executed.\n",
      "1/1 [==============================] - 0s 218ms/step\n",
      "ct_segmentation.py successfully executed.\n"
     ]
    },
    {
     "name": "stderr",
     "output_type": "stream",
     "text": [
      "C:\\Users\\Micah Vinet\\OneDrive\\Documents\\BrainReg\\ct_segmentation.py:95: RuntimeWarning: invalid value encountered in true_divide\n",
      "  img = (img - np.min(img)) / (np.max(img) - np.min(img))\n"
     ]
    },
    {
     "name": "stdout",
     "output_type": "stream",
     "text": [
      "fluoro_ct_alignment.py successfully executed.\n"
     ]
    },
    {
     "name": "stderr",
     "output_type": "stream",
     "text": [
      "C:\\Users\\Micah Vinet\\OneDrive\\Documents\\BrainReg\\utils_l\\utils.py:239: RuntimeWarning: divide by zero encountered in true_divide\n",
      "  t = (-b - W@V)/(U@V)\n"
     ]
    },
    {
     "name": "stdout",
     "output_type": "stream",
     "text": [
      "hull_projection.py executed succesfully\n",
      "[array([54.75835256,  8.72200906, -9.45579929]), array([42.15228684, 23.61238069, -2.72915043]), array([50.03214818, 15.99969438, -5.95483677]), array([ 58.08301156,   1.7179827 , -13.62799043]), array([ 61.03853921,  -5.00015229, -18.634473  ]), array([ 62.88166388, -11.71772485, -23.81833447]), array([ 61.54346595, -18.12558964, -29.26245781]), array([ 57.07465096, -23.95823757, -35.39121549])]\n",
      "[Errno 2] No such file or directory: 'data/DBS_rT02\\\\electrode_locs.npy'\n",
      "DOESNT WORK FOR DBS_rT02\n",
      "local variable 'edge_coords' referenced before assignment\n",
      "DOESNT WORK FOR DBS_bG69\n",
      "local variable 'edge_coords' referenced before assignment\n",
      "DOESNT WORK FOR DBS_bG61\n"
     ]
    },
    {
     "name": "stderr",
     "output_type": "stream",
     "text": [
      "C:\\Users\\Micah Vinet\\OneDrive\\Documents\\BrainReg\\fluoro_segmentation.py:118: RuntimeWarning: Mean of empty slice.\n",
      "  left_predict_shade = left_predict_space.mean(axis=0).mean(axis=0)\n",
      "C:\\ProgramData\\Anaconda3\\lib\\site-packages\\numpy\\core\\_methods.py:181: RuntimeWarning: invalid value encountered in true_divide\n",
      "  ret = um.true_divide(\n",
      "C:\\Users\\Micah Vinet\\OneDrive\\Documents\\BrainReg\\fluoro_segmentation.py:198: RuntimeWarning: Mean of empty slice.\n",
      "  right_predict_shade = right_predict_space.mean(axis=0).mean(axis=0)\n"
     ]
    },
    {
     "name": "stdout",
     "output_type": "stream",
     "text": [
      "fluoro_segmentation.py successfully executed.\n",
      "1/1 [==============================] - 0s 224ms/step\n",
      "ct_segmentation.py successfully executed.\n",
      "fluoro_ct_alignment.py successfully executed.\n",
      "hull_projection.py executed succesfully\n",
      "[array([ 10.0077757 ,  -5.68552454, -90.56222547]), array([ 10.40161375,  99.80809368, -71.24857179]), array([  10.00128717, -111.19508135, -109.88164522]), array([  10.00257467, -216.72057246, -129.20683026]), array([  10.36950434, -322.26199359, -148.53777981]), array([  10.77048637, -427.81934043, -167.87449308]), array([  10.7261791 , -533.39260871, -187.21696929]), array([  13.00955607, -638.98179411, -206.56520765])]\n",
      "local variable 'new_electrodes' referenced before assignment\n",
      "DOESNT WORK FOR DBS_bS16\n",
      "OpenCV(4.6.0) d:\\a\\opencv-python\\opencv-python\\opencv\\modules\\imgproc\\src\\color.simd_helpers.hpp:92: error: (-2:Unspecified error) in function '__cdecl cv::impl::`anonymous-namespace'::CvtHelper<struct cv::impl::`anonymous namespace'::Set<3,4,-1>,struct cv::impl::A0xf2302844::Set<1,-1,-1>,struct cv::impl::A0xf2302844::Set<0,2,5>,2>::CvtHelper(const class cv::_InputArray &,const class cv::_OutputArray &,int)'\n",
      "> Invalid number of channels in input image:\n",
      ">     'VScn::contains(scn)'\n",
      "> where\n",
      ">     'scn' is 1\n",
      "\n",
      "DOESNT WORK FOR DBS_IS03\n",
      "[Errno 2] No such file or directory: 'data/DBS_rS02\\\\hull_rh.mat'\n",
      "DOESNT WORK FOR DBS_rS02\n",
      "fluoro_segmentation.py successfully executed.\n",
      "1/1 [==============================] - 0s 223ms/step\n",
      "ct_segmentation.py successfully executed.\n"
     ]
    },
    {
     "name": "stderr",
     "output_type": "stream",
     "text": [
      "C:\\Users\\Micah Vinet\\OneDrive\\Documents\\BrainReg\\ct_segmentation.py:95: RuntimeWarning: invalid value encountered in true_divide\n",
      "  img = (img - np.min(img)) / (np.max(img) - np.min(img))\n"
     ]
    },
    {
     "name": "stdout",
     "output_type": "stream",
     "text": [
      "fluoro_ct_alignment.py successfully executed.\n",
      "hull_projection.py executed succesfully\n",
      "[array([ 10.55302346,  95.94510437, -56.29491965]), array([ 10.63508198,  91.16437198, -51.20190077]), array([ 10.04285214,  66.76369771, -38.4948258 ]), array([ 10.5661968 ,  60.00121135, -37.51288349]), array([ 10.08286464,  85.82729964, -46.56085498]), array([ 10.03793833,  79.90811426, -42.93010544]), array([ 10.04947508,  73.4893768 , -40.21734271]), array([ 10.31262007,  99.8875001 , -62.13862931])]\n"
     ]
    },
    {
     "name": "stderr",
     "output_type": "stream",
     "text": [
      "C:\\Users\\Micah Vinet\\OneDrive\\Documents\\BrainReg\\utils_l\\utils.py:239: RuntimeWarning: divide by zero encountered in true_divide\n",
      "  t = (-b - W@V)/(U@V)\n"
     ]
    },
    {
     "name": "stdout",
     "output_type": "stream",
     "text": [
      "No such file or no access: 'data/DBS_bG74\\preop_ct.nii'\n",
      "DOESNT WORK FOR DBS_bG74\n",
      "local variable 'edge_coords' referenced before assignment\n",
      "DOESNT WORK FOR DBS_bG19\n",
      "No such file or no access: 'data/DBS_bG30\\postop_ct.nii'\n",
      "DOESNT WORK FOR DBS_bG30\n",
      "local variable 'edge_coords' referenced before assignment\n",
      "DOESNT WORK FOR DBS_bG57\n",
      "fluoro_segmentation.py successfully executed.\n",
      "1/1 [==============================] - 0s 230ms/step\n",
      "ct_segmentation.py successfully executed.\n"
     ]
    },
    {
     "name": "stderr",
     "output_type": "stream",
     "text": [
      "C:\\Users\\Micah Vinet\\OneDrive\\Documents\\BrainReg\\ct_segmentation.py:95: RuntimeWarning: invalid value encountered in true_divide\n",
      "  img = (img - np.min(img)) / (np.max(img) - np.min(img))\n"
     ]
    },
    {
     "name": "stdout",
     "output_type": "stream",
     "text": [
      "fluoro_ct_alignment.py successfully executed.\n",
      "hull_projection.py executed succesfully\n",
      "[array([52.27671883, 10.40013124,  7.88690356]), array([53.9031121 ,  4.67169731,  3.39698945]), array([ 51.14996659, -15.29734565, -27.32798146]), array([ 56.26051864, -12.11918357, -20.5390514 ]), array([ 56.67043157,  -8.95827206, -13.83592323]), array([56.0620966 , -4.98556417, -7.63522224]), array([55.13282551, -0.40320377, -1.83505872]), array([50.50409841, 16.30357169, 11.94042547])]\n",
      "local variable 'new_electrodes' referenced before assignment\n",
      "DOESNT WORK FOR DBS_bG18\n",
      "OpenCV(4.6.0) d:\\a\\opencv-python\\opencv-python\\opencv\\modules\\imgproc\\src\\color.simd_helpers.hpp:92: error: (-2:Unspecified error) in function '__cdecl cv::impl::`anonymous-namespace'::CvtHelper<struct cv::impl::`anonymous namespace'::Set<3,4,-1>,struct cv::impl::A0xf2302844::Set<1,-1,-1>,struct cv::impl::A0xf2302844::Set<0,2,5>,2>::CvtHelper(const class cv::_InputArray &,const class cv::_OutputArray &,int)'\n",
      "> Invalid number of channels in input image:\n",
      ">     'VScn::contains(scn)'\n",
      "> where\n",
      ">     'scn' is 1\n",
      "\n",
      "DOESNT WORK FOR DBS_bG20\n",
      "local variable 'edge_coords' referenced before assignment\n",
      "DOESNT WORK FOR DBS_IG01\n",
      "fluoro_segmentation.py successfully executed.\n",
      "1/1 [==============================] - 0s 231ms/step\n",
      "ct_segmentation.py successfully executed.\n"
     ]
    },
    {
     "name": "stderr",
     "output_type": "stream",
     "text": [
      "C:\\Users\\Micah Vinet\\OneDrive\\Documents\\BrainReg\\ct_segmentation.py:95: RuntimeWarning: invalid value encountered in true_divide\n",
      "  img = (img - np.min(img)) / (np.max(img) - np.min(img))\n"
     ]
    },
    {
     "name": "stdout",
     "output_type": "stream",
     "text": [
      "fluoro_ct_alignment.py successfully executed.\n",
      "hull_projection.py executed succesfully\n",
      "[array([57.5699853 ,  1.71784461, 33.64462966]), array([ 66.58999326, -29.1904615 ,  19.38466909]), array([59.53168661, -4.89181137, 32.27980353]), array([ 65.55708965, -23.77938493,  23.88013335]), array([ 64.35767761, -17.83045845,  27.63633004]), array([ 61.7904374 , -11.41686275,  30.28812826]), array([56.18962238,  8.6060655 , 33.71115104]), array([54.61011442, 15.45032396, 33.01410271])]\n",
      "No such file or no access: 'data/DBS_bS18\\preop_ct.nii'\n",
      "DOESNT WORK FOR DBS_bS18\n",
      "No such file or no access: 'data/DBS_bG72\\preop_ct.nii'\n",
      "DOESNT WORK FOR DBS_bG72\n",
      "[Errno 2] No such file or directory: 'data/DBS_rT01\\\\electrode_locs.npy'\n",
      "DOESNT WORK FOR DBS_rT01\n",
      "local variable 'new_electrodes' referenced before assignment\n",
      "DOESNT WORK FOR DBS_bT16\n",
      "local variable 'new_electrodes' referenced before assignment\n",
      "DOESNT WORK FOR DBS_bG76\n",
      "fluoro_segmentation.py successfully executed.\n",
      "1/1 [==============================] - 0s 223ms/step\n",
      "ct_segmentation.py successfully executed.\n"
     ]
    },
    {
     "name": "stderr",
     "output_type": "stream",
     "text": [
      "C:\\Users\\Micah Vinet\\OneDrive\\Documents\\BrainReg\\ct_segmentation.py:95: RuntimeWarning: invalid value encountered in true_divide\n",
      "  img = (img - np.min(img)) / (np.max(img) - np.min(img))\n"
     ]
    },
    {
     "name": "stdout",
     "output_type": "stream",
     "text": [
      "attempt to get argmin of an empty sequence\n",
      "DOESNT WORK FOR DBS_bG62\n",
      "OpenCV(4.6.0) d:\\a\\opencv-python\\opencv-python\\opencv\\modules\\imgproc\\src\\color.simd_helpers.hpp:92: error: (-2:Unspecified error) in function '__cdecl cv::impl::`anonymous-namespace'::CvtHelper<struct cv::impl::`anonymous namespace'::Set<3,4,-1>,struct cv::impl::A0xf2302844::Set<1,-1,-1>,struct cv::impl::A0xf2302844::Set<0,2,5>,2>::CvtHelper(const class cv::_InputArray &,const class cv::_OutputArray &,int)'\n",
      "> Invalid number of channels in input image:\n",
      ">     'VScn::contains(scn)'\n",
      "> where\n",
      ">     'scn' is 1\n",
      "\n",
      "DOESNT WORK FOR DBS_bG63\n",
      "Improper input: func input vector length N=2 must not exceed func output vector length M=1\n",
      "DOESNT WORK FOR DBS_bG21\n",
      "fluoro_segmentation.py successfully executed.\n",
      "1/1 [==============================] - 0s 218ms/step\n",
      "ct_segmentation.py successfully executed.\n"
     ]
    },
    {
     "name": "stderr",
     "output_type": "stream",
     "text": [
      "C:\\Users\\Micah Vinet\\OneDrive\\Documents\\BrainReg\\ct_segmentation.py:95: RuntimeWarning: invalid value encountered in true_divide\n",
      "  img = (img - np.min(img)) / (np.max(img) - np.min(img))\n"
     ]
    },
    {
     "name": "stdout",
     "output_type": "stream",
     "text": [
      "fluoro_ct_alignment.py successfully executed.\n",
      "hull_projection.py executed succesfully\n",
      "[array([ 59.44516038, -12.70533279,  20.80211074]), array([53.99828243,  3.82172804, 28.66264765]), array([56.14392362, -2.1157487 , 26.95327426]), array([57.95656067, -7.85546372, 24.14128457]), array([ 60.41011505, -17.26858476,  16.47354664]), array([ 60.96384293, -21.18010815,  11.45098559]), array([ 61.40156727, -24.3461672 ,   5.84457447]), array([52.03810827,  9.8458144 , 29.39209896])]\n"
     ]
    },
    {
     "name": "stderr",
     "output_type": "stream",
     "text": [
      "C:\\Users\\Micah Vinet\\OneDrive\\Documents\\BrainReg\\utils_l\\utils.py:239: RuntimeWarning: divide by zero encountered in true_divide\n",
      "  t = (-b - W@V)/(U@V)\n"
     ]
    },
    {
     "name": "stdout",
     "output_type": "stream",
     "text": [
      "No such file or no access: 'data/DBS_bG09\\postop_ct.nii'\n",
      "DOESNT WORK FOR DBS_bG09\n",
      "local variable 'new_electrodes' referenced before assignment\n",
      "DOESNT WORK FOR DBS_bG01\n",
      "local variable 'edge_coords' referenced before assignment\n",
      "DOESNT WORK FOR DBS_IT04\n",
      "local variable 'new_electrodes' referenced before assignment\n",
      "DOESNT WORK FOR DBS_bT05\n",
      "local variable 'edge_coords' referenced before assignment\n",
      "DOESNT WORK FOR DBS_bG70\n",
      "[Errno 2] No such file or directory: 'data/DBS_IT06\\\\electrode_locs.npy'\n",
      "DOESNT WORK FOR DBS_IT06\n",
      "fluoro_segmentation.py successfully executed.\n",
      "1/1 [==============================] - 0s 239ms/step\n",
      "ct_segmentation.py successfully executed.\n"
     ]
    },
    {
     "name": "stderr",
     "output_type": "stream",
     "text": [
      "C:\\Users\\Micah Vinet\\OneDrive\\Documents\\BrainReg\\ct_segmentation.py:95: RuntimeWarning: invalid value encountered in true_divide\n",
      "  img = (img - np.min(img)) / (np.max(img) - np.min(img))\n"
     ]
    },
    {
     "name": "stdout",
     "output_type": "stream",
     "text": [
      "fluoro_ct_alignment.py successfully executed.\n",
      "hull_projection.py executed succesfully\n",
      "[array([ 10.24534032, -19.6094177 ,  21.29868569]), array([ 10.02708277, -27.0737788 ,  19.22787876]), array([ 10.44049342, -12.04175263,  22.92424628]), array([10.0752742 , -4.39582087, 24.09918244]), array([10.45552617,  3.30308134, 24.81960694]), array([10.05400899, 11.02948254, 25.0831363 ]), array([10.1517207 , 18.75782025, 24.88889863]), array([10.42053366, 26.46252563, 24.23753657])]\n"
     ]
    },
    {
     "name": "stderr",
     "output_type": "stream",
     "text": [
      "C:\\Users\\Micah Vinet\\OneDrive\\Documents\\BrainReg\\utils_l\\utils.py:239: RuntimeWarning: divide by zero encountered in true_divide\n",
      "  t = (-b - W@V)/(U@V)\n"
     ]
    },
    {
     "name": "stdout",
     "output_type": "stream",
     "text": [
      "fluoro_segmentation.py successfully executed.\n",
      "1/1 [==============================] - 0s 219ms/step\n",
      "ct_segmentation.py successfully executed.\n"
     ]
    },
    {
     "name": "stderr",
     "output_type": "stream",
     "text": [
      "C:\\Users\\Micah Vinet\\OneDrive\\Documents\\BrainReg\\ct_segmentation.py:95: RuntimeWarning: invalid value encountered in true_divide\n",
      "  img = (img - np.min(img)) / (np.max(img) - np.min(img))\n",
      "C:\\Users\\Micah Vinet\\OneDrive\\Documents\\BrainReg\\fluoro_ct_alignment.py:148: VisibleDeprecationWarning: Creating an ndarray from ragged nested sequences (which is a list-or-tuple of lists-or-tuples-or ndarrays with different lengths or shapes) is deprecated. If you meant to do this, you must specify 'dtype=object' when creating the ndarray.\n",
      "  pins_ct = np.array(pins_ct)\n",
      "C:\\Users\\Micah Vinet\\OneDrive\\Documents\\BrainReg\\utils_l\\utils.py:239: RuntimeWarning: divide by zero encountered in true_divide\n",
      "  t = (-b - W@V)/(U@V)\n"
     ]
    },
    {
     "name": "stdout",
     "output_type": "stream",
     "text": [
      "fluoro_ct_alignment.py successfully executed.\n",
      "hull_projection.py executed succesfully\n",
      "[array([61.69951436,  9.48461029,  1.15833877]), array([63.45614251,  3.80417948, -4.35889664]), array([ 64.95538079,  -0.92893908, -11.15686683]), array([ 66.12032646,  -4.24848723, -18.8875342 ]), array([ 66.26776117,  -6.86683346, -26.6301393 ]), array([ 10.00930251,  -9.08669021, -34.5260128 ]), array([59.71795712, 15.52740749,  6.5490223 ]), array([57.11719283, 22.35069267, 10.86428675])]\n",
      "[Errno 2] No such file or directory: 'data/DBS_IT07\\\\electrode_locs.npy'\n",
      "DOESNT WORK FOR DBS_IT07\n",
      "No such file or no access: 'data/DBS_bG02\\postop_ct.nii'\n",
      "DOESNT WORK FOR DBS_bG02\n",
      "No such file or no access: 'data/DBS_bT08\\postop_ct.nii'\n",
      "DOESNT WORK FOR DBS_bT08\n",
      "fluoro_segmentation.py successfully executed.\n",
      "1/1 [==============================] - 0s 215ms/step\n",
      "ct_segmentation.py successfully executed.\n",
      "fluoro_ct_alignment.py successfully executed.\n",
      "hull_projection.py executed succesfully\n",
      "[array([ 10.51804894, -96.84897173, -66.59787337]), array([ 10.41939382, -96.79640345, -66.60435477]), array([ 10.35782341, -96.76288615, -66.60981897]), array([ 10.50085814, -96.84018333, -66.59825936]), array([ 10.46795773, -96.82265238, -66.60042084]), array([ 10.51956331, -96.84904415, -66.59924289]), array([ 10.50562483, -96.84051905, -66.60235462]), array([ 10.47625269, -96.82340815, -66.60720427])]\n",
      "operands could not be broadcast together with shapes (8,3) (6,3) \n",
      "DOESNT WORK FOR DBS_bG03\n",
      "local variable 'edge_coords' referenced before assignment\n",
      "DOESNT WORK FOR DBS_bG67\n",
      "No such file or no access: 'data/DBS_bG12\\postop_ct.nii'\n",
      "DOESNT WORK FOR DBS_bG12\n",
      "local variable 'edge_coords' referenced before assignment\n",
      "DOESNT WORK FOR DBS_bG22\n",
      "[Errno 2] No such file or directory: 'data/DBS_IT08\\\\electrode_locs.npy'\n",
      "DOESNT WORK FOR DBS_IT08\n",
      "fluoro_segmentation.py successfully executed.\n",
      "1/1 [==============================] - 0s 227ms/step\n",
      "ct_segmentation.py successfully executed.\n"
     ]
    },
    {
     "name": "stderr",
     "output_type": "stream",
     "text": [
      "C:\\Users\\Micah Vinet\\OneDrive\\Documents\\BrainReg\\ct_segmentation.py:95: RuntimeWarning: invalid value encountered in true_divide\n",
      "  img = (img - np.min(img)) / (np.max(img) - np.min(img))\n"
     ]
    },
    {
     "name": "stdout",
     "output_type": "stream",
     "text": [
      "fluoro_ct_alignment.py successfully executed.\n"
     ]
    },
    {
     "name": "stderr",
     "output_type": "stream",
     "text": [
      "C:\\Users\\Micah Vinet\\OneDrive\\Documents\\BrainReg\\utils_l\\utils.py:239: RuntimeWarning: divide by zero encountered in true_divide\n",
      "  t = (-b - W@V)/(U@V)\n"
     ]
    },
    {
     "name": "stdout",
     "output_type": "stream",
     "text": [
      "hull_projection.py executed succesfully\n",
      "[array([  14.09464976, -991.62414173,  -91.98020252]), array([  10.77865493, -596.29129558,   81.61613572]), array([  14.75565635, -917.15073373,  -44.08080705]), array([  10.26479976, -679.64172162,   62.18540801]), array([  15.04918909, -841.12209542,   -1.65023812]), array([  10.68677845, -761.52674731,   33.67984459]), array([   12.27559725, -1060.6641383 ,  -145.31265348]), array([  10.08130426, -511.70997098,   95.89464652])]\n",
      "No such file or no access: 'data/DBS_bG27\\postop_ct.nii'\n",
      "DOESNT WORK FOR DBS_bG27\n",
      "[Errno 2] No such file or directory: 'data/DBS_bT15\\\\hull_rh.mat'\n",
      "DOESNT WORK FOR DBS_bT15\n",
      "local variable 'edge_coords' referenced before assignment\n",
      "DOESNT WORK FOR DBS_IS06\n",
      "fluoro_segmentation.py successfully executed.\n",
      "1/1 [==============================] - 0s 226ms/step\n",
      "ct_segmentation.py successfully executed.\n"
     ]
    },
    {
     "name": "stderr",
     "output_type": "stream",
     "text": [
      "C:\\Users\\Micah Vinet\\OneDrive\\Documents\\BrainReg\\ct_segmentation.py:95: RuntimeWarning: invalid value encountered in true_divide\n",
      "  img = (img - np.min(img)) / (np.max(img) - np.min(img))\n"
     ]
    },
    {
     "name": "stdout",
     "output_type": "stream",
     "text": [
      "fluoro_ct_alignment.py successfully executed.\n",
      "hull_projection.py executed succesfully\n",
      "[array([31.88432718, 34.30973578, -9.18536167]), array([ 44.52692235,  27.34232433, -10.62558911]), array([ 52.09439614,  20.31997578, -12.47661766]), array([ 61.50550831,   6.93070636, -17.2463685 ]), array([10.06293123, 41.46438985, -8.7339901 ]), array([ 57.47219457,  13.54490651, -14.58891119]), array([11.19966245, 48.57277871, -8.41609804]), array([10.01307142, 55.68589116, -8.70455204])]\n",
      "[Errno 2] No such file or directory: 'data/DBS_bS17\\\\electrode_locs.npy'\n",
      "DOESNT WORK FOR DBS_bS17\n",
      "fluoro_segmentation.py successfully executed.\n",
      "1/1 [==============================] - 0s 211ms/step\n",
      "ct_segmentation.py successfully executed.\n"
     ]
    },
    {
     "name": "stderr",
     "output_type": "stream",
     "text": [
      "C:\\Users\\Micah Vinet\\OneDrive\\Documents\\BrainReg\\ct_segmentation.py:95: RuntimeWarning: invalid value encountered in true_divide\n",
      "  img = (img - np.min(img)) / (np.max(img) - np.min(img))\n"
     ]
    },
    {
     "name": "stdout",
     "output_type": "stream",
     "text": [
      "fluoro_ct_alignment.py successfully executed.\n",
      "hull_projection.py executed succesfully\n",
      "[array([ 10.57217151,  20.21853804, -35.02130625]), array([ 10.135474  ,  39.93301748, -30.11281605]), array([ 10.52661538,  26.6574123 , -32.44845901]), array([ 10.1221477 ,  33.30166062, -30.66265416]), array([ 10.47112048,  46.64719823, -30.49271996]), array([ 10.66109573,  14.37877852, -38.59606794]), array([ 10.70374146,   9.09199927, -42.9875381 ]), array([ 11.54013208,   4.48365286, -48.12626094])]\n"
     ]
    },
    {
     "name": "stderr",
     "output_type": "stream",
     "text": [
      "C:\\Users\\Micah Vinet\\OneDrive\\Documents\\BrainReg\\utils_l\\utils.py:239: RuntimeWarning: divide by zero encountered in true_divide\n",
      "  t = (-b - W@V)/(U@V)\n"
     ]
    },
    {
     "name": "stdout",
     "output_type": "stream",
     "text": [
      "Improper input: func input vector length N=2 must not exceed func output vector length M=1\n",
      "DOESNT WORK FOR DBS_bT19\n",
      "fluoro_segmentation.py successfully executed.\n",
      "1/1 [==============================] - 0s 227ms/step\n",
      "ct_segmentation.py successfully executed.\n"
     ]
    },
    {
     "name": "stderr",
     "output_type": "stream",
     "text": [
      "C:\\Users\\Micah Vinet\\OneDrive\\Documents\\BrainReg\\ct_segmentation.py:95: RuntimeWarning: invalid value encountered in true_divide\n",
      "  img = (img - np.min(img)) / (np.max(img) - np.min(img))\n"
     ]
    },
    {
     "name": "stdout",
     "output_type": "stream",
     "text": [
      "fluoro_ct_alignment.py successfully executed.\n",
      "hull_projection.py executed succesfully\n",
      "[array([11.78878956, 58.63500784, 34.868654  ]), array([20.74227121, 53.96303638, 35.63779879]), array([45.62534194, 35.40436286, 32.89528018]), array([49.1961884 , 31.24399742, 30.94846758]), array([28.39350281, 49.16929178, 35.94606542]), array([34.96041727, 44.45277127, 35.60038451]), array([40.48175597, 39.80976243, 34.50785392]), array([10.20695441, 63.128032  , 33.50109412])]\n",
      "fluoro_segmentation.py successfully executed.\n",
      "1/1 [==============================] - 0s 222ms/step\n",
      "ct_segmentation.py successfully executed.\n"
     ]
    },
    {
     "name": "stderr",
     "output_type": "stream",
     "text": [
      "C:\\Users\\Micah Vinet\\OneDrive\\Documents\\BrainReg\\ct_segmentation.py:95: RuntimeWarning: invalid value encountered in true_divide\n",
      "  img = (img - np.min(img)) / (np.max(img) - np.min(img))\n"
     ]
    },
    {
     "name": "stdout",
     "output_type": "stream",
     "text": [
      "fluoro_ct_alignment.py successfully executed.\n",
      "hull_projection.py executed succesfully\n",
      "[array([10.09723119, 74.07473191,  7.99127679]), array([10.18087196, 70.31244532,  9.64769956]), array([20.95182245, 53.81624915, 11.28989893]), array([31.20211334, 49.76188106, 10.52363727]), array([10.77685098, 66.32343326, 10.9377192 ]), array([11.24749536, 62.22505832, 11.65425657]), array([10.42432551, 57.98931315, 11.71898788]), array([10.25770368, 77.52493763,  5.86357311])]\n",
      "local variable 'edge_coords' referenced before assignment\n",
      "DOESNT WORK FOR DBS_bG26\n",
      "local variable 'new_electrodes' referenced before assignment\n",
      "DOESNT WORK FOR DBS_bG29\n",
      "fluoro_segmentation.py successfully executed.\n",
      "1/1 [==============================] - 0s 232ms/step\n",
      "ct_segmentation.py successfully executed.\n"
     ]
    },
    {
     "name": "stderr",
     "output_type": "stream",
     "text": [
      "C:\\Users\\Micah Vinet\\OneDrive\\Documents\\BrainReg\\ct_segmentation.py:95: RuntimeWarning: invalid value encountered in true_divide\n",
      "  img = (img - np.min(img)) / (np.max(img) - np.min(img))\n"
     ]
    },
    {
     "name": "stdout",
     "output_type": "stream",
     "text": [
      "fluoro_ct_alignment.py successfully executed.\n",
      "hull_projection.py executed succesfully\n",
      "[array([54.71806645, -1.50510508, 32.10338261]), array([ 58.93282929, -13.07075579,  24.0781463 ]), array([49.69069486, 11.62875135, 36.81375128]), array([57.13222578, -7.48160974, 28.4510292 ]), array([47.08107639, 18.33126843, 36.83470287]), array([51.87186728,  4.57083093, 35.88295712]), array([45.80496983, 24.72901852, 33.91551659]), array([45.2563783, 30.5051408, 30.0266449])]\n",
      "fluoro_segmentation.py successfully executed.\n",
      "1/1 [==============================] - 0s 242ms/step\n",
      "ct_segmentation.py successfully executed.\n",
      "fluoro_ct_alignment.py successfully executed.\n",
      "hull_projection.py executed succesfully\n",
      "[array([48.09973768, 26.6385969 , 35.18916673]), array([48.2546641 , 23.96884048, 36.61636295]), array([50.2101917 , 11.72878391, 38.58687037]), array([51.10001728,  8.60928567, 38.17882997]), array([48.46372605, 21.0938867 , 37.77394513]), array([48.88294436, 18.08224703, 38.49885236]), array([49.46681643, 14.90543121, 38.73256055]), array([48.0973379 , 29.02904757, 33.41607351])]\n"
     ]
    },
    {
     "name": "stderr",
     "output_type": "stream",
     "text": [
      "C:\\Users\\Micah Vinet\\OneDrive\\Documents\\BrainReg\\utils_l\\utils.py:239: RuntimeWarning: divide by zero encountered in true_divide\n",
      "  t = (-b - W@V)/(U@V)\n"
     ]
    },
    {
     "name": "stdout",
     "output_type": "stream",
     "text": [
      "No such file or no access: 'data/DBS_bS02\\preop_ct.nii'\n",
      "DOESNT WORK FOR DBS_bS02\n",
      "local variable 'new_electrodes' referenced before assignment\n",
      "DOESNT WORK FOR DBS_bT17\n",
      "fluoro_segmentation.py successfully executed.\n",
      "1/1 [==============================] - 0s 242ms/step\n",
      "ct_segmentation.py successfully executed.\n"
     ]
    },
    {
     "name": "stderr",
     "output_type": "stream",
     "text": [
      "C:\\Users\\Micah Vinet\\OneDrive\\Documents\\BrainReg\\ct_segmentation.py:95: RuntimeWarning: invalid value encountered in true_divide\n",
      "  img = (img - np.min(img)) / (np.max(img) - np.min(img))\n"
     ]
    },
    {
     "name": "stdout",
     "output_type": "stream",
     "text": [
      "fluoro_ct_alignment.py successfully executed.\n"
     ]
    },
    {
     "name": "stderr",
     "output_type": "stream",
     "text": [
      "C:\\Users\\Micah Vinet\\OneDrive\\Documents\\BrainReg\\utils_l\\utils.py:239: RuntimeWarning: divide by zero encountered in true_divide\n",
      "  t = (-b - W@V)/(U@V)\n"
     ]
    },
    {
     "name": "stdout",
     "output_type": "stream",
     "text": [
      "hull_projection.py executed succesfully\n",
      "[array([ 10.96020484,  21.78002896, -40.11299152]), array([ 10.0364937 ,  16.96593378, -43.72713524]), array([ 10.96398922,  26.80675198, -36.86046526]), array([ 10.20423699,  32.02324985, -33.9843434 ]), array([ 10.09402522,  37.4058068 , -31.49770168]), array([ 10.82141383,  42.92995209, -29.4118451 ]), array([ 10.5976392 ,  48.5705713 , -27.73625662]), array([ 10.05124411,  54.30202047, -26.47855394])]\n",
      "ACCURACY IS 101.52262245439528\n",
      "STD IS 76.16041103756724\n",
      "RAN ON FOR 20\n"
     ]
    }
   ],
   "source": [
    "acc = evaluation()"
   ]
  },
  {
   "cell_type": "code",
   "execution_count": 16,
   "id": "f84ce2a8",
   "metadata": {},
   "outputs": [
    {
     "data": {
      "text/plain": [
       "Text(0.5, 1.0, 'Euclidean Distance of Dataset')"
      ]
     },
     "execution_count": 16,
     "metadata": {},
     "output_type": "execute_result"
    },
    {
     "data": {
      "image/png": "[encoded data removed]",
      "text/plain": [
       "<Figure size 432x288 with 1 Axes>"
      ]
     },
     "metadata": {
      "needs_background": "light"
     },
     "output_type": "display_data"
    }
   ],
   "source": [
    "# Previous quarter Fluoro-CT alignment method\n",
    "acc1 = acc\n",
    "plt.figure()\n",
    "plt.hist(acc1, bins=10,range=(0,400),edgecolor = 'black')\n",
    "plt.xlabel('Euclidean Distance')\n",
    "plt.ylabel('Number of Patients')\n",
    "plt.title(\"Euclidean Distance of Dataset\")"
   ]
  },
  {
   "cell_type": "code",
   "execution_count": 4,
   "id": "27990722",
   "metadata": {},
   "outputs": [
    {
     "data": {
      "text/plain": [
       "Text(0.5, 1.0, 'Euclidean Distance of Dataset')"
      ]
     },
     "execution_count": 4,
     "metadata": {},
     "output_type": "execute_result"
    },
    {
     "data": {
      "image/png": "[encoded data removed]",
      "text/plain": [
       "<Figure size 432x288 with 1 Axes>"
      ]
     },
     "metadata": {
      "needs_background": "light"
     },
     "output_type": "display_data"
    }
   ],
   "source": [
    "# This quarter Fluoro-CT alignment method\n",
    "acc2 = acc\n",
    "plt.figure()\n",
    "plt.hist(acc2, bins=10, range=(0,200), edgecolor = 'black')\n",
    "plt.xlabel('Euclidean Distance')\n",
    "plt.ylabel('Number of Patients')\n",
    "plt.title(\"Euclidean Distance of Dataset\")"
   ]
  },
  {
   "cell_type": "code",
   "execution_count": null,
   "id": "4b8f7d30",
   "metadata": {},
   "outputs": [],
   "source": []
  }
 ],
 "metadata": {
  "kernelspec": {
   "display_name": "Python 3 (ipykernel)",
   "language": "python",
   "name": "python3"
  },
  "language_info": {
   "codemirror_mode": {
    "name": "ipython",
    "version": 3
   },
   "file_extension": ".py",
   "mimetype": "text/x-python",
   "name": "python",
   "nbconvert_exporter": "python",
   "pygments_lexer": "ipython3",
   "version": "3.9.12"
  }
 },
 "nbformat": 4,
 "nbformat_minor": 5
}
