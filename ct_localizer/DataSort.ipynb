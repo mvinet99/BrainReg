{
 "cells": [
  {
   "cell_type": "code",
   "execution_count": 2,
   "id": "d13c45e3",
   "metadata": {},
   "outputs": [],
   "source": [
    "import os\n",
    "import pandas as pd\n",
    "import numpy as np\n",
    "import re\n",
    "import scipy.io"
   ]
  },
  {
   "cell_type": "code",
   "execution_count": 3,
   "id": "3e030ae4",
   "metadata": {},
   "outputs": [],
   "source": [
    "root_dir = \"C:/Users/VukadinoviM/Documents/BrainReg/data\""
   ]
  },
  {
   "cell_type": "code",
   "execution_count": 26,
   "id": "f6486424",
   "metadata": {},
   "outputs": [],
   "source": [
    "cnt=0\n",
    "for file in os.listdir(root_dir):\n",
    "    for file_name in os.listdir(os.path.join(root_dir, file)):\n",
    "        if \"lead\" in file_name:\n",
    "            cnt+=1\n",
    "#            os.rename(os.path.join(root_dir, file, file_name),\n",
    "#                           os.path.join(root_dir, file, \"hull_rh.\"))\n",
    "            break"
   ]
  },
  {
   "cell_type": "code",
   "execution_count": 27,
   "id": "55ba0e9b",
   "metadata": {},
   "outputs": [
    {
     "data": {
      "text/plain": [
       "0"
      ]
     },
     "execution_count": 27,
     "metadata": {},
     "output_type": "execute_result"
    }
   ],
   "source": [
    "cnt"
   ]
  },
  {
   "cell_type": "markdown",
   "id": "65503d53",
   "metadata": {},
   "source": [
    "Saanity check"
   ]
  },
  {
   "cell_type": "code",
   "execution_count": 83,
   "id": "afeef774",
   "metadata": {},
   "outputs": [],
   "source": [
    "cnt=0\n",
    "b=None\n",
    "for file in os.listdir(root_dir):\n",
    "    if os.path.exists(os.path.join(root_dir, file, \"lead_coords.mat\")):\n",
    "            cnt+=1\n",
    "            a = scipy.io.loadmat(os.path.join(root_dir, file, \"lead_coords.mat\")) \n",
    "            np_ar = None\n",
    "            try:\n",
    "                np.save(os.path.join(root_dir, file, \"load_coords.npy\"),\n",
    "                        a['elecmatrix'])\n",
    "                \n",
    "            except:\n",
    "                np.save(os.path.join(root_dir, file, \"load_coords.npy\"), np.stack(a['CortElecLoc'][0]).reshape(8,3))"
   ]
  },
  {
   "cell_type": "code",
   "execution_count": 81,
   "id": "e4744254",
   "metadata": {},
   "outputs": [
    {
     "data": {
      "text/plain": [
       "array([array([[ 47.97600965, -31.71920633,  44.79766576]]),\n",
       "       array([[ 48.97600941, -40.71920635,  43.79766561]]),\n",
       "       array([[ 51.97600868, -48.7192064 ,  40.79766516]]),\n",
       "       array([[ 53.97600814, -57.71920643,  37.79766486]]),\n",
       "       array([[ 54.97600777, -65.71920644,  34.79766471]]),\n",
       "       array([[ 55.97600727, -73.71920646,  29.79766455]]),\n",
       "       array([[ 55.97600695, -81.71920646,  24.79766455]]),\n",
       "       array([[ 44.97601032, -21.71920628,  46.79766621]])], dtype=object)"
      ]
     },
     "execution_count": 81,
     "metadata": {},
     "output_type": "execute_result"
    }
   ],
   "source": [
    "a['CortElecLoc'][0]"
   ]
  },
  {
   "cell_type": "code",
   "execution_count": 80,
   "id": "e51599c2",
   "metadata": {},
   "outputs": [
    {
     "data": {
      "text/plain": [
       "array([[ 47.97600965, -31.71920633,  44.79766576],\n",
       "       [ 48.97600941, -40.71920635,  43.79766561],\n",
       "       [ 51.97600868, -48.7192064 ,  40.79766516],\n",
       "       [ 53.97600814, -57.71920643,  37.79766486],\n",
       "       [ 54.97600777, -65.71920644,  34.79766471],\n",
       "       [ 55.97600727, -73.71920646,  29.79766455],\n",
       "       [ 55.97600695, -81.71920646,  24.79766455],\n",
       "       [ 44.97601032, -21.71920628,  46.79766621]])"
      ]
     },
     "execution_count": 80,
     "metadata": {},
     "output_type": "execute_result"
    }
   ],
   "source": []
  },
  {
   "cell_type": "code",
   "execution_count": 147,
   "id": "b2b5447e",
   "metadata": {},
   "outputs": [],
   "source": [
    "pd.DataFrame.from_dict({\"idx\":ids, \"pin_locations\": pin_locations}).to_csv(\"pin_labels.csv\")"
   ]
  },
  {
   "cell_type": "code",
   "execution_count": 148,
   "id": "128e7151",
   "metadata": {},
   "outputs": [],
   "source": [
    "df = pd.read_csv(\"pin_labels.csv\")"
   ]
  },
  {
   "cell_type": "code",
   "execution_count": 165,
   "id": "4c69116d",
   "metadata": {},
   "outputs": [
    {
     "name": "stderr",
     "output_type": "stream",
     "text": [
      "<ipython-input-165-fd3eb360c135>:1: DeprecationWarning: The binary mode of fromstring is deprecated, as it behaves surprisingly on unicode inputs. Use frombuffer instead\n",
      "  np.fromstring(df['pin_locations'][0].split('\\n')[1])\n"
     ]
    },
    {
     "ename": "ValueError",
     "evalue": "string size must be a multiple of element size",
     "output_type": "error",
     "traceback": [
      "\u001b[1;31m---------------------------------------------------------------------------\u001b[0m",
      "\u001b[1;31mValueError\u001b[0m                                Traceback (most recent call last)",
      "\u001b[1;32m<ipython-input-165-fd3eb360c135>\u001b[0m in \u001b[0;36m<module>\u001b[1;34m\u001b[0m\n\u001b[1;32m----> 1\u001b[1;33m \u001b[0mnp\u001b[0m\u001b[1;33m.\u001b[0m\u001b[0mfromstring\u001b[0m\u001b[1;33m(\u001b[0m\u001b[0mdf\u001b[0m\u001b[1;33m[\u001b[0m\u001b[1;34m'pin_locations'\u001b[0m\u001b[1;33m]\u001b[0m\u001b[1;33m[\u001b[0m\u001b[1;36m0\u001b[0m\u001b[1;33m]\u001b[0m\u001b[1;33m.\u001b[0m\u001b[0msplit\u001b[0m\u001b[1;33m(\u001b[0m\u001b[1;34m'\\n'\u001b[0m\u001b[1;33m)\u001b[0m\u001b[1;33m[\u001b[0m\u001b[1;36m1\u001b[0m\u001b[1;33m]\u001b[0m\u001b[1;33m)\u001b[0m\u001b[1;33m\u001b[0m\u001b[1;33m\u001b[0m\u001b[0m\n\u001b[0m",
      "\u001b[1;31mValueError\u001b[0m: string size must be a multiple of element size"
     ]
    }
   ],
   "source": []
  },
  {
   "cell_type": "code",
   "execution_count": 161,
   "id": "e90cccfc",
   "metadata": {},
   "outputs": [
    {
     "data": {
      "text/plain": [
       "'[[-50.88806927 -79.15765357 -21.03157568]\\n [-35.05228251  54.95319629   1.91240382]\\n [ 31.89383894 -81.80937266 -19.48378015]\\n [ 46.40907854  49.41102052   0.47815299]]'"
      ]
     },
     "execution_count": 161,
     "metadata": {},
     "output_type": "execute_result"
    }
   ],
   "source": [
    "df['pin_locations'][0]"
   ]
  },
  {
   "cell_type": "code",
   "execution_count": 121,
   "id": "732a25cc",
   "metadata": {},
   "outputs": [
    {
     "ename": "ValueError",
     "evalue": "Mat 4 mopt wrong format, byteswapping problem?",
     "output_type": "error",
     "traceback": [
      "\u001b[1;31m---------------------------------------------------------------------------\u001b[0m",
      "\u001b[1;31mValueError\u001b[0m                                Traceback (most recent call last)",
      "\u001b[1;32m<ipython-input-121-711304eb5774>\u001b[0m in \u001b[0;36m<module>\u001b[1;34m\u001b[0m\n\u001b[1;32m----> 1\u001b[1;33m \u001b[0mscipy\u001b[0m\u001b[1;33m.\u001b[0m\u001b[0mio\u001b[0m\u001b[1;33m.\u001b[0m\u001b[0mloadmat\u001b[0m\u001b[1;33m(\u001b[0m\u001b[0mos\u001b[0m\u001b[1;33m.\u001b[0m\u001b[0mpath\u001b[0m\u001b[1;33m.\u001b[0m\u001b[0mjoin\u001b[0m\u001b[1;33m(\u001b[0m\u001b[0mroot_dir\u001b[0m\u001b[1;33m,\u001b[0m \u001b[1;34m\"DBS_bG72\"\u001b[0m\u001b[1;33m,\u001b[0m \u001b[1;34m\"pin_tips.mat\"\u001b[0m\u001b[1;33m)\u001b[0m\u001b[1;33m)\u001b[0m\u001b[1;33m\u001b[0m\u001b[1;33m\u001b[0m\u001b[0m\n\u001b[0m",
      "\u001b[1;32mC:\\tools\\miniconda3\\lib\\site-packages\\scipy\\io\\matlab\\mio.py\u001b[0m in \u001b[0;36mloadmat\u001b[1;34m(file_name, mdict, appendmat, **kwargs)\u001b[0m\n\u001b[0;32m    224\u001b[0m     \u001b[1;32mwith\u001b[0m \u001b[0m_open_file_context\u001b[0m\u001b[1;33m(\u001b[0m\u001b[0mfile_name\u001b[0m\u001b[1;33m,\u001b[0m \u001b[0mappendmat\u001b[0m\u001b[1;33m)\u001b[0m \u001b[1;32mas\u001b[0m \u001b[0mf\u001b[0m\u001b[1;33m:\u001b[0m\u001b[1;33m\u001b[0m\u001b[1;33m\u001b[0m\u001b[0m\n\u001b[0;32m    225\u001b[0m         \u001b[0mMR\u001b[0m\u001b[1;33m,\u001b[0m \u001b[0m_\u001b[0m \u001b[1;33m=\u001b[0m \u001b[0mmat_reader_factory\u001b[0m\u001b[1;33m(\u001b[0m\u001b[0mf\u001b[0m\u001b[1;33m,\u001b[0m \u001b[1;33m**\u001b[0m\u001b[0mkwargs\u001b[0m\u001b[1;33m)\u001b[0m\u001b[1;33m\u001b[0m\u001b[1;33m\u001b[0m\u001b[0m\n\u001b[1;32m--> 226\u001b[1;33m         \u001b[0mmatfile_dict\u001b[0m \u001b[1;33m=\u001b[0m \u001b[0mMR\u001b[0m\u001b[1;33m.\u001b[0m\u001b[0mget_variables\u001b[0m\u001b[1;33m(\u001b[0m\u001b[0mvariable_names\u001b[0m\u001b[1;33m)\u001b[0m\u001b[1;33m\u001b[0m\u001b[1;33m\u001b[0m\u001b[0m\n\u001b[0m\u001b[0;32m    227\u001b[0m \u001b[1;33m\u001b[0m\u001b[0m\n\u001b[0;32m    228\u001b[0m     \u001b[1;32mif\u001b[0m \u001b[0mmdict\u001b[0m \u001b[1;32mis\u001b[0m \u001b[1;32mnot\u001b[0m \u001b[1;32mNone\u001b[0m\u001b[1;33m:\u001b[0m\u001b[1;33m\u001b[0m\u001b[1;33m\u001b[0m\u001b[0m\n",
      "\u001b[1;32mC:\\tools\\miniconda3\\lib\\site-packages\\scipy\\io\\matlab\\mio4.py\u001b[0m in \u001b[0;36mget_variables\u001b[1;34m(self, variable_names)\u001b[0m\n\u001b[0;32m    389\u001b[0m         \u001b[0mmdict\u001b[0m \u001b[1;33m=\u001b[0m \u001b[1;33m{\u001b[0m\u001b[1;33m}\u001b[0m\u001b[1;33m\u001b[0m\u001b[1;33m\u001b[0m\u001b[0m\n\u001b[0;32m    390\u001b[0m         \u001b[1;32mwhile\u001b[0m \u001b[1;32mnot\u001b[0m \u001b[0mself\u001b[0m\u001b[1;33m.\u001b[0m\u001b[0mend_of_stream\u001b[0m\u001b[1;33m(\u001b[0m\u001b[1;33m)\u001b[0m\u001b[1;33m:\u001b[0m\u001b[1;33m\u001b[0m\u001b[1;33m\u001b[0m\u001b[0m\n\u001b[1;32m--> 391\u001b[1;33m             \u001b[0mhdr\u001b[0m\u001b[1;33m,\u001b[0m \u001b[0mnext_position\u001b[0m \u001b[1;33m=\u001b[0m \u001b[0mself\u001b[0m\u001b[1;33m.\u001b[0m\u001b[0mread_var_header\u001b[0m\u001b[1;33m(\u001b[0m\u001b[1;33m)\u001b[0m\u001b[1;33m\u001b[0m\u001b[1;33m\u001b[0m\u001b[0m\n\u001b[0m\u001b[0;32m    392\u001b[0m             \u001b[0mname\u001b[0m \u001b[1;33m=\u001b[0m \u001b[0masstr\u001b[0m\u001b[1;33m(\u001b[0m\u001b[0mhdr\u001b[0m\u001b[1;33m.\u001b[0m\u001b[0mname\u001b[0m\u001b[1;33m)\u001b[0m\u001b[1;33m\u001b[0m\u001b[1;33m\u001b[0m\u001b[0m\n\u001b[0;32m    393\u001b[0m             \u001b[1;32mif\u001b[0m \u001b[0mvariable_names\u001b[0m \u001b[1;32mis\u001b[0m \u001b[1;32mnot\u001b[0m \u001b[1;32mNone\u001b[0m \u001b[1;32mand\u001b[0m \u001b[0mname\u001b[0m \u001b[1;32mnot\u001b[0m \u001b[1;32min\u001b[0m \u001b[0mvariable_names\u001b[0m\u001b[1;33m:\u001b[0m\u001b[1;33m\u001b[0m\u001b[1;33m\u001b[0m\u001b[0m\n",
      "\u001b[1;32mC:\\tools\\miniconda3\\lib\\site-packages\\scipy\\io\\matlab\\mio4.py\u001b[0m in \u001b[0;36mread_var_header\u001b[1;34m(self)\u001b[0m\n\u001b[0;32m    345\u001b[0m            \u001b[0mposition\u001b[0m \u001b[1;32min\u001b[0m \u001b[0mstream\u001b[0m \u001b[0mof\u001b[0m \u001b[0mnext\u001b[0m \u001b[0mvariable\u001b[0m\u001b[1;33m\u001b[0m\u001b[1;33m\u001b[0m\u001b[0m\n\u001b[0;32m    346\u001b[0m         '''\n\u001b[1;32m--> 347\u001b[1;33m         \u001b[0mhdr\u001b[0m \u001b[1;33m=\u001b[0m \u001b[0mself\u001b[0m\u001b[1;33m.\u001b[0m\u001b[0m_matrix_reader\u001b[0m\u001b[1;33m.\u001b[0m\u001b[0mread_header\u001b[0m\u001b[1;33m(\u001b[0m\u001b[1;33m)\u001b[0m\u001b[1;33m\u001b[0m\u001b[1;33m\u001b[0m\u001b[0m\n\u001b[0m\u001b[0;32m    348\u001b[0m         \u001b[0mn\u001b[0m \u001b[1;33m=\u001b[0m \u001b[0mreduce\u001b[0m\u001b[1;33m(\u001b[0m\u001b[1;32mlambda\u001b[0m \u001b[0mx\u001b[0m\u001b[1;33m,\u001b[0m \u001b[0my\u001b[0m\u001b[1;33m:\u001b[0m \u001b[0mx\u001b[0m\u001b[1;33m*\u001b[0m\u001b[0my\u001b[0m\u001b[1;33m,\u001b[0m \u001b[0mhdr\u001b[0m\u001b[1;33m.\u001b[0m\u001b[0mdims\u001b[0m\u001b[1;33m,\u001b[0m \u001b[1;36m1\u001b[0m\u001b[1;33m)\u001b[0m  \u001b[1;31m# fast product\u001b[0m\u001b[1;33m\u001b[0m\u001b[1;33m\u001b[0m\u001b[0m\n\u001b[0;32m    349\u001b[0m         \u001b[0mremaining_bytes\u001b[0m \u001b[1;33m=\u001b[0m \u001b[0mhdr\u001b[0m\u001b[1;33m.\u001b[0m\u001b[0mdtype\u001b[0m\u001b[1;33m.\u001b[0m\u001b[0mitemsize\u001b[0m \u001b[1;33m*\u001b[0m \u001b[0mn\u001b[0m\u001b[1;33m\u001b[0m\u001b[1;33m\u001b[0m\u001b[0m\n",
      "\u001b[1;32mC:\\tools\\miniconda3\\lib\\site-packages\\scipy\\io\\matlab\\mio4.py\u001b[0m in \u001b[0;36mread_header\u001b[1;34m(self)\u001b[0m\n\u001b[0;32m    107\u001b[0m         \u001b[0mname\u001b[0m \u001b[1;33m=\u001b[0m \u001b[0mself\u001b[0m\u001b[1;33m.\u001b[0m\u001b[0mmat_stream\u001b[0m\u001b[1;33m.\u001b[0m\u001b[0mread\u001b[0m\u001b[1;33m(\u001b[0m\u001b[0mint\u001b[0m\u001b[1;33m(\u001b[0m\u001b[0mdata\u001b[0m\u001b[1;33m[\u001b[0m\u001b[1;34m'namlen'\u001b[0m\u001b[1;33m]\u001b[0m\u001b[1;33m)\u001b[0m\u001b[1;33m)\u001b[0m\u001b[1;33m.\u001b[0m\u001b[0mstrip\u001b[0m\u001b[1;33m(\u001b[0m\u001b[1;34mb'\\x00'\u001b[0m\u001b[1;33m)\u001b[0m\u001b[1;33m\u001b[0m\u001b[1;33m\u001b[0m\u001b[0m\n\u001b[0;32m    108\u001b[0m         \u001b[1;32mif\u001b[0m \u001b[0mdata\u001b[0m\u001b[1;33m[\u001b[0m\u001b[1;34m'mopt'\u001b[0m\u001b[1;33m]\u001b[0m \u001b[1;33m<\u001b[0m \u001b[1;36m0\u001b[0m \u001b[1;32mor\u001b[0m \u001b[0mdata\u001b[0m\u001b[1;33m[\u001b[0m\u001b[1;34m'mopt'\u001b[0m\u001b[1;33m]\u001b[0m \u001b[1;33m>\u001b[0m \u001b[1;36m5000\u001b[0m\u001b[1;33m:\u001b[0m\u001b[1;33m\u001b[0m\u001b[1;33m\u001b[0m\u001b[0m\n\u001b[1;32m--> 109\u001b[1;33m             \u001b[1;32mraise\u001b[0m \u001b[0mValueError\u001b[0m\u001b[1;33m(\u001b[0m\u001b[1;34m'Mat 4 mopt wrong format, byteswapping problem?'\u001b[0m\u001b[1;33m)\u001b[0m\u001b[1;33m\u001b[0m\u001b[1;33m\u001b[0m\u001b[0m\n\u001b[0m\u001b[0;32m    110\u001b[0m         \u001b[0mM\u001b[0m\u001b[1;33m,\u001b[0m \u001b[0mrest\u001b[0m \u001b[1;33m=\u001b[0m \u001b[0mdivmod\u001b[0m\u001b[1;33m(\u001b[0m\u001b[0mdata\u001b[0m\u001b[1;33m[\u001b[0m\u001b[1;34m'mopt'\u001b[0m\u001b[1;33m]\u001b[0m\u001b[1;33m,\u001b[0m \u001b[1;36m1000\u001b[0m\u001b[1;33m)\u001b[0m  \u001b[1;31m# order code\u001b[0m\u001b[1;33m\u001b[0m\u001b[1;33m\u001b[0m\u001b[0m\n\u001b[0;32m    111\u001b[0m         \u001b[1;32mif\u001b[0m \u001b[0mM\u001b[0m \u001b[1;32mnot\u001b[0m \u001b[1;32min\u001b[0m \u001b[1;33m(\u001b[0m\u001b[1;36m0\u001b[0m\u001b[1;33m,\u001b[0m \u001b[1;36m1\u001b[0m\u001b[1;33m)\u001b[0m\u001b[1;33m:\u001b[0m\u001b[1;33m\u001b[0m\u001b[1;33m\u001b[0m\u001b[0m\n",
      "\u001b[1;31mValueError\u001b[0m: Mat 4 mopt wrong format, byteswapping problem?"
     ]
    }
   ],
   "source": [
    "scipy.io.loadmat(os.path.join(root_dir, \"DBS_bG72\", \"pin_tips.mat\"))"
   ]
  },
  {
   "cell_type": "code",
   "execution_count": 30,
   "id": "5ae46d7d",
   "metadata": {},
   "outputs": [],
   "source": [
    "import shutil\n",
    "cnt=0\n",
    "\n",
    "for file in os.listdir(root_dir):\n",
    "    name_found=False\n",
    "    for path, subdirs, files in os.walk(os.path.join(root_dir,file)):\n",
    "        for name in files:\n",
    "            if \"lead\" in os.path.join(path, name):\n",
    "                cnt+=1\n",
    "                name_found=True\n",
    "                shutil.copyfile(os.path.join(path, name),\n",
    "                                os.path.join(root_dir, file,\"lead_coords.mat\"))\n",
    "                break\n",
    "        if name_found:\n",
    "            break"
   ]
  },
  {
   "cell_type": "code",
   "execution_count": 29,
   "id": "3b37396e",
   "metadata": {},
   "outputs": [
    {
     "data": {
      "text/plain": [
       "48"
      ]
     },
     "execution_count": 29,
     "metadata": {},
     "output_type": "execute_result"
    }
   ],
   "source": [
    "cnt"
   ]
  },
  {
   "cell_type": "code",
   "execution_count": 102,
   "id": "bb755aea",
   "metadata": {},
   "outputs": [
    {
     "data": {
      "text/plain": [
       "82"
      ]
     },
     "execution_count": 102,
     "metadata": {},
     "output_type": "execute_result"
    }
   ],
   "source": [
    "len(set(ss))"
   ]
  },
  {
   "cell_type": "code",
   "execution_count": 47,
   "id": "5a6ecb86",
   "metadata": {},
   "outputs": [],
   "source": [
    "labels = \"C:/Users/VukadinoviM/Documents/BrainReg/data/labels.csv\"\n",
    "df = pd.read_csv(labels)"
   ]
  },
  {
   "cell_type": "code",
   "execution_count": 59,
   "id": "6e5771e9",
   "metadata": {},
   "outputs": [
    {
     "name": "stdout",
     "output_type": "stream",
     "text": [
      "C:/Users/VukadinoviM/Documents/BrainReg/data\\DBS_bG17\\electrode_locations\n",
      "C:/Users/VukadinoviM/Documents/BrainReg/data\\DBS_bG27\\electrode_locations\n",
      "C:/Users/VukadinoviM/Documents/BrainReg/data\\DBS_bG29\\electrode_locations\n",
      "C:/Users/VukadinoviM/Documents/BrainReg/data\\DBS_bG38\\electrode_locations\n",
      "C:/Users/VukadinoviM/Documents/BrainReg/data\\DBS_bG68\\electrode_locations\n",
      "C:/Users/VukadinoviM/Documents/BrainReg/data\\DBS_bS05\\electrode_locations\n",
      "C:/Users/VukadinoviM/Documents/BrainReg/data\\DBS_bT01\\electrode_locations\n",
      "C:/Users/VukadinoviM/Documents/BrainReg/data\\DBS_bT05\\electrode_locations\n",
      "C:/Users/VukadinoviM/Documents/BrainReg/data\\DBS_bT07\\electrode_locations\n",
      "C:/Users/VukadinoviM/Documents/BrainReg/data\\DBS_bT08\\electrode_locations\n",
      "C:/Users/VukadinoviM/Documents/BrainReg/data\\DBS_IG01\\electrode_locations\n",
      "C:/Users/VukadinoviM/Documents/BrainReg/data\\DBS_IT01\\electrode_locations\n",
      "C:/Users/VukadinoviM/Documents/BrainReg/data\\DBS_IT02\\electrode_locations\n",
      "C:/Users/VukadinoviM/Documents/BrainReg/data\\DBS_IT03\\electrode_locations\n",
      "C:/Users/VukadinoviM/Documents/BrainReg/data\\DBS_IT04\\electrode_locations\n",
      "C:/Users/VukadinoviM/Documents/BrainReg/data\\DBS_IT06\\electrode_locations\n",
      "C:/Users/VukadinoviM/Documents/BrainReg/data\\DBS_IT07\\electrode_locations\n",
      "C:/Users/VukadinoviM/Documents/BrainReg/data\\DBS_IT08\\electrode_locations\n",
      "C:/Users/VukadinoviM/Documents/BrainReg/data\\DBS_IT09\\electrode_locations\n",
      "C:/Users/VukadinoviM/Documents/BrainReg/data\\DBS_rG01\\electrode_locations\n",
      "C:/Users/VukadinoviM/Documents/BrainReg/data\\DBS_rG02\\electrode_locations\n",
      "C:/Users/VukadinoviM/Documents/BrainReg/data\\DBS_rT01\\electrode_locations\n",
      "C:/Users/VukadinoviM/Documents/BrainReg/data\\DBS_rT02\\electrode_locations\n"
     ]
    }
   ],
   "source": [
    "for idx in df.idx:\n",
    "    a = os.path.join(os.path.join(root_dir,idx),\"electrode_locations\")\n",
    "    if os.path.exists(os.path.join(a,\"PinTips.mat\"))==False:\n",
    "        print(a)"
   ]
  },
  {
   "cell_type": "code",
   "execution_count": 38,
   "id": "592f9036",
   "metadata": {},
   "outputs": [],
   "source": [
    "p = []\n",
    "cnt=0\n",
    "for name in os.listdir(root_dir):\n",
    "    path=os.path.join(root_dir, name)\n",
    "    a = os.path.join(path, \"preop_ct.nii\")\n",
    "    b = os.path.join(path, \"electrode_locations\")\n",
    "    if os.path.exists(a) and os.path.exists(b):\n",
    "        p.append(name)\n",
    "    #if os.path.exists(os.path.join(path, \"rpreop_ct.nii\")):\n",
    "    #    p.append(name)"
   ]
  },
  {
   "cell_type": "code",
   "execution_count": 21,
   "id": "def15668",
   "metadata": {},
   "outputs": [
    {
     "name": "stdout",
     "output_type": "stream",
     "text": [
      "C:/Users/VukadinoviM/Documents/BrainReg/data\\DBS_bG01\\electrode_locations\n",
      "C:/Users/VukadinoviM/Documents/BrainReg/data\\DBS_bG02\\electrode_locations\n",
      "C:/Users/VukadinoviM/Documents/BrainReg/data\\DBS_bG02\\Electrode_Locations_Andrew\n",
      "C:/Users/VukadinoviM/Documents/BrainReg/data\\DBS_bG03\\electrode_locations\n",
      "C:/Users/VukadinoviM/Documents/BrainReg/data\\DBS_bG03\\Electrode_Locations_Andrew\n",
      "C:/Users/VukadinoviM/Documents/BrainReg/data\\DBS_bG03\\Electrode_Locations_Andrew_Redo\n",
      "C:/Users/VukadinoviM/Documents/BrainReg/data\\DBS_bG06\\electrode_locations\n",
      "C:/Users/VukadinoviM/Documents/BrainReg/data\\DBS_bG06\\Electrode_Locations_Andrew\n",
      "C:/Users/VukadinoviM/Documents/BrainReg/data\\DBS_bG06\\Electrode_Locations_Andrew_Redo\n",
      "C:/Users/VukadinoviM/Documents/BrainReg/data\\DBS_bG09\\electrode_locations\n",
      "C:/Users/VukadinoviM/Documents/BrainReg/data\\DBS_bG09\\Electrode_Locations_Andrew\n",
      "C:/Users/VukadinoviM/Documents/BrainReg/data\\DBS_bG10\\electrode_locations\n",
      "C:/Users/VukadinoviM/Documents/BrainReg/data\\DBS_bG10\\Electrode_Locations_Andrew\n",
      "C:/Users/VukadinoviM/Documents/BrainReg/data\\DBS_bG12\\electrode_locations\n",
      "C:/Users/VukadinoviM/Documents/BrainReg/data\\DBS_bG12\\Electrode_Locations_Andrew\n",
      "C:/Users/VukadinoviM/Documents/BrainReg/data\\DBS_bG12\\Electrode_Locations_Andrew_Redo\n",
      "C:/Users/VukadinoviM/Documents/BrainReg/data\\DBS_bG13\\electrode_locations\n",
      "C:/Users/VukadinoviM/Documents/BrainReg/data\\DBS_bG13\\Electrode_Locations_Andrew\n",
      "C:/Users/VukadinoviM/Documents/BrainReg/data\\DBS_bG17\\electrode_locations\n",
      "C:/Users/VukadinoviM/Documents/BrainReg/data\\DBS_bG17\\Electrode_Locations_Andrew\n",
      "C:/Users/VukadinoviM/Documents/BrainReg/data\\DBS_bG18\\electrode_locations\n",
      "C:/Users/VukadinoviM/Documents/BrainReg/data\\DBS_bG18\\Electrode_Locations_Andrew\n",
      "C:/Users/VukadinoviM/Documents/BrainReg/data\\DBS_bG19\\electrode_locations\n",
      "C:/Users/VukadinoviM/Documents/BrainReg/data\\DBS_bG19\\Electrode_Locations_Andrew\n",
      "C:/Users/VukadinoviM/Documents/BrainReg/data\\DBS_bG20\\electrode_locations\n",
      "C:/Users/VukadinoviM/Documents/BrainReg/data\\DBS_bG20\\Electrode_Locations_Andrew\n",
      "C:/Users/VukadinoviM/Documents/BrainReg/data\\DBS_bG21\\electrode_locations\n",
      "C:/Users/VukadinoviM/Documents/BrainReg/data\\DBS_bG21\\Electrode_Locations_Andrew\n",
      "C:/Users/VukadinoviM/Documents/BrainReg/data\\DBS_bG22\\electrode_locations\n",
      "C:/Users/VukadinoviM/Documents/BrainReg/data\\DBS_bG22\\Electrode_Locations_Andrew\n",
      "C:/Users/VukadinoviM/Documents/BrainReg/data\\DBS_bG25\\electrode_locations\n",
      "C:/Users/VukadinoviM/Documents/BrainReg/data\\DBS_bG25\\Electrode_Locations_Andrew\n",
      "C:/Users/VukadinoviM/Documents/BrainReg/data\\DBS_bG25\\Electrode_Locations_Andrew_Redo\n",
      "C:/Users/VukadinoviM/Documents/BrainReg/data\\DBS_bG26\\electrode_locations\n",
      "C:/Users/VukadinoviM/Documents/BrainReg/data\\DBS_bG26\\Electrode_Locations_Andrew\n",
      "C:/Users/VukadinoviM/Documents/BrainReg/data\\DBS_bG27\\electrode_locations\n",
      "C:/Users/VukadinoviM/Documents/BrainReg/data\\DBS_bG27\\Electrode_Locations_Andrew\n",
      "C:/Users/VukadinoviM/Documents/BrainReg/data\\DBS_bG28\\electrode_locations\n",
      "C:/Users/VukadinoviM/Documents/BrainReg/data\\DBS_bG28\\Electrode_Locations_Andrew\n",
      "C:/Users/VukadinoviM/Documents/BrainReg/data\\DBS_bG29\\electrode_locations\n",
      "C:/Users/VukadinoviM/Documents/BrainReg/data\\DBS_bG29\\Electrode_Locations_Andrew\n",
      "C:/Users/VukadinoviM/Documents/BrainReg/data\\DBS_bG29\\Electrode_Locations_Andrew_Redo\n",
      "C:/Users/VukadinoviM/Documents/BrainReg/data\\DBS_bG30\\electrode_locations\n",
      "C:/Users/VukadinoviM/Documents/BrainReg/data\\DBS_bG30\\Electrode_Locations_Andrew\n",
      "C:/Users/VukadinoviM/Documents/BrainReg/data\\DBS_bG38\\electrode_locations\n",
      "C:/Users/VukadinoviM/Documents/BrainReg/data\\DBS_bG38\\Electrode_Locations_Andrew\n",
      "C:/Users/VukadinoviM/Documents/BrainReg/data\\DBS_bG38\\Electrode_Locations_Andrew_Redo\n",
      "C:/Users/VukadinoviM/Documents/BrainReg/data\\DBS_bG53\\electrode_locations\n",
      "C:/Users/VukadinoviM/Documents/BrainReg/data\\DBS_bG54\\electrode_locations\n",
      "C:/Users/VukadinoviM/Documents/BrainReg/data\\DBS_bG56\\electrode_locations\n",
      "C:/Users/VukadinoviM/Documents/BrainReg/data\\DBS_bG57\\electrode_locations\n",
      "C:/Users/VukadinoviM/Documents/BrainReg/data\\DBS_bG59\\electrode_locations\n",
      "C:/Users/VukadinoviM/Documents/BrainReg/data\\DBS_bG59\\Electrode_Locations_JWC\n",
      "C:/Users/VukadinoviM/Documents/BrainReg/data\\DBS_bG61\\electrode_locations\n",
      "C:/Users/VukadinoviM/Documents/BrainReg/data\\DBS_bG61\\Electrode_Locations_JWC\n",
      "C:/Users/VukadinoviM/Documents/BrainReg/data\\DBS_bG62\\electrode_locations\n",
      "C:/Users/VukadinoviM/Documents/BrainReg/data\\DBS_bG62\\Electrode_Locations_JWC\n",
      "C:/Users/VukadinoviM/Documents/BrainReg/data\\DBS_bG63\\electrode_locations\n",
      "C:/Users/VukadinoviM/Documents/BrainReg/data\\DBS_bG64\\electrode_locations\n",
      "C:/Users/VukadinoviM/Documents/BrainReg/data\\DBS_bG65\\electrode_locations\n",
      "C:/Users/VukadinoviM/Documents/BrainReg/data\\DBS_bG66\\electrode_locations\n",
      "C:/Users/VukadinoviM/Documents/BrainReg/data\\DBS_bG66\\Electrode_Locations_JWC\n",
      "C:/Users/VukadinoviM/Documents/BrainReg/data\\DBS_bG67\\electrode_locations\n",
      "C:/Users/VukadinoviM/Documents/BrainReg/data\\DBS_bG67\\Electrode_Locations_JWC\n",
      "C:/Users/VukadinoviM/Documents/BrainReg/data\\DBS_bG68\\electrode_locations\n",
      "C:/Users/VukadinoviM/Documents/BrainReg/data\\DBS_bG68\\Electrode_Locations(1)\n",
      "C:/Users/VukadinoviM/Documents/BrainReg/data\\DBS_bG68\\Electrode_Locations_JWC\n",
      "C:/Users/VukadinoviM/Documents/BrainReg/data\\DBS_bG69\\electrode_locations\n",
      "C:/Users/VukadinoviM/Documents/BrainReg/data\\DBS_bG70\\electrode_locations\n",
      "C:/Users/VukadinoviM/Documents/BrainReg/data\\DBS_bG71\\electrode_locations\n",
      "C:/Users/VukadinoviM/Documents/BrainReg/data\\DBS_bG72\\electrode_locations\n",
      "C:/Users/VukadinoviM/Documents/BrainReg/data\\DBS_bG73\\electrode_locations\n",
      "C:/Users/VukadinoviM/Documents/BrainReg/data\\DBS_bG74\\electrode_locations\n",
      "C:/Users/VukadinoviM/Documents/BrainReg/data\\DBS_bG75\\electrode_locations\n",
      "C:/Users/VukadinoviM/Documents/BrainReg/data\\DBS_bG76\\electrode_locations\n",
      "C:/Users/VukadinoviM/Documents/BrainReg/data\\DBS_bS02\\electrode_locations\n",
      "C:/Users/VukadinoviM/Documents/BrainReg/data\\DBS_bS05\\electrode_locations\n",
      "C:/Users/VukadinoviM/Documents/BrainReg/data\\DBS_bS06\\electrode_locations\n",
      "C:/Users/VukadinoviM/Documents/BrainReg/data\\DBS_bS06\\Electrode_Locations_JWC\n",
      "C:/Users/VukadinoviM/Documents/BrainReg/data\\DBS_bS16\\electrode_locations\n",
      "C:/Users/VukadinoviM/Documents/BrainReg/data\\DBS_bS17\\electrode_locations\n",
      "C:/Users/VukadinoviM/Documents/BrainReg/data\\DBS_bS18\\electrode_locations\n",
      "C:/Users/VukadinoviM/Documents/BrainReg/data\\DBS_bS19\\electrode_locations\n",
      "C:/Users/VukadinoviM/Documents/BrainReg/data\\DBS_bS20\\electrode_locations\n",
      "C:/Users/VukadinoviM/Documents/BrainReg/data\\DBS_bT01\\electrode_locations\n",
      "C:/Users/VukadinoviM/Documents/BrainReg/data\\DBS_bT01\\Electrode_Locations_Andrew\n",
      "C:/Users/VukadinoviM/Documents/BrainReg/data\\DBS_bT01\\Electrode_Locations_Andrew_Redo\n",
      "C:/Users/VukadinoviM/Documents/BrainReg/data\\DBS_bT05\\electrode_locations\n",
      "C:/Users/VukadinoviM/Documents/BrainReg/data\\DBS_bT07\\electrode_locations\n",
      "C:/Users/VukadinoviM/Documents/BrainReg/data\\DBS_bT08\\electrode_locations\n",
      "C:/Users/VukadinoviM/Documents/BrainReg/data\\DBS_bT08\\Electrode_Locations_Andrew\n",
      "C:/Users/VukadinoviM/Documents/BrainReg/data\\DBS_bT08\\Electrode_Locations_Andrew_Redo\n",
      "C:/Users/VukadinoviM/Documents/BrainReg/data\\DBS_bT09\\electrode_locations\n",
      "C:/Users/VukadinoviM/Documents/BrainReg/data\\DBS_bT12\\electrode_locations\n",
      "C:/Users/VukadinoviM/Documents/BrainReg/data\\DBS_bT14\\electrode_locations\n",
      "C:/Users/VukadinoviM/Documents/BrainReg/data\\DBS_bT16\\electrode_locations\n",
      "C:/Users/VukadinoviM/Documents/BrainReg/data\\DBS_bT17\\electrode_locations\n",
      "C:/Users/VukadinoviM/Documents/BrainReg/data\\DBS_bT19\\electrode_locations\n",
      "C:/Users/VukadinoviM/Documents/BrainReg/data\\DBS_bT20\\electrode_locations\n",
      "C:/Users/VukadinoviM/Documents/BrainReg/data\\DBS_IG01\\electrode_locations\n",
      "C:/Users/VukadinoviM/Documents/BrainReg/data\\DBS_IS01\\electrode_locations\n",
      "C:/Users/VukadinoviM/Documents/BrainReg/data\\DBS_IS02\\electrode_locations\n",
      "C:/Users/VukadinoviM/Documents/BrainReg/data\\DBS_IS02\\Electrode_Locations_JWC\n",
      "C:/Users/VukadinoviM/Documents/BrainReg/data\\DBS_IS03\\electrode_locations\n",
      "C:/Users/VukadinoviM/Documents/BrainReg/data\\DBS_IS03\\Electrode_Locations_JWC\n",
      "C:/Users/VukadinoviM/Documents/BrainReg/data\\DBS_IS04\\electrode_locations\n",
      "C:/Users/VukadinoviM/Documents/BrainReg/data\\DBS_IS05\\electrode_locations\n",
      "C:/Users/VukadinoviM/Documents/BrainReg/data\\DBS_IS06\\electrode_locations\n",
      "C:/Users/VukadinoviM/Documents/BrainReg/data\\DBS_IT01\\electrode_locations\n",
      "C:/Users/VukadinoviM/Documents/BrainReg/data\\DBS_IT01\\Electrode_Locations_Andrew\n",
      "C:/Users/VukadinoviM/Documents/BrainReg/data\\DBS_IT02\\electrode_locations\n",
      "C:/Users/VukadinoviM/Documents/BrainReg/data\\DBS_IT02\\Electrode_Locations_Andrew\n",
      "C:/Users/VukadinoviM/Documents/BrainReg/data\\DBS_IT03\\electrode_locations\n",
      "C:/Users/VukadinoviM/Documents/BrainReg/data\\DBS_IT04\\electrode_locations\n",
      "C:/Users/VukadinoviM/Documents/BrainReg/data\\DBS_IT04\\Electrode_Locations_Andrew\n",
      "C:/Users/VukadinoviM/Documents/BrainReg/data\\DBS_IT04\\Electrode_Locations_Andrew_Redo\n",
      "C:/Users/VukadinoviM/Documents/BrainReg/data\\DBS_IT06\\electrode_locations\n",
      "C:/Users/VukadinoviM/Documents/BrainReg/data\\DBS_IT06\\Electrode_Locations_Andrew\n",
      "C:/Users/VukadinoviM/Documents/BrainReg/data\\DBS_IT06\\Electrode_Locations_Andrew_Redo\n",
      "C:/Users/VukadinoviM/Documents/BrainReg/data\\DBS_IT07\\electrode_locations\n",
      "C:/Users/VukadinoviM/Documents/BrainReg/data\\DBS_IT07\\Electrode_Locations_Andrew\n",
      "C:/Users/VukadinoviM/Documents/BrainReg/data\\DBS_IT08\\electrode_locations\n",
      "C:/Users/VukadinoviM/Documents/BrainReg/data\\DBS_IT08\\Electrode_Locations_Andrew\n",
      "C:/Users/VukadinoviM/Documents/BrainReg/data\\DBS_IT09\\electrode_locations\n",
      "C:/Users/VukadinoviM/Documents/BrainReg/data\\DBS_IT09\\Electrode_Locations_Andrew\n",
      "C:/Users/VukadinoviM/Documents/BrainReg/data\\DBS_IT13\\electrode_locations\n",
      "C:/Users/VukadinoviM/Documents/BrainReg/data\\DBS_IT14\\electrode_locations\n",
      "C:/Users/VukadinoviM/Documents/BrainReg/data\\DBS_rG01\\electrode_locations\n",
      "C:/Users/VukadinoviM/Documents/BrainReg/data\\DBS_rG01\\Electrode_Locations_Andrew\n",
      "C:/Users/VukadinoviM/Documents/BrainReg/data\\DBS_rG02\\electrode_locations\n",
      "C:/Users/VukadinoviM/Documents/BrainReg/data\\DBS_rS01\\electrode_locations\n",
      "C:/Users/VukadinoviM/Documents/BrainReg/data\\DBS_rT01\\electrode_locations\n",
      "C:/Users/VukadinoviM/Documents/BrainReg/data\\DBS_rT01\\Electrode_Locations_Andrew\n",
      "C:/Users/VukadinoviM/Documents/BrainReg/data\\DBS_rT02\\electrode_locations\n"
     ]
    }
   ],
   "source": [
    "p = []\n",
    "for name in os.listdir(root_dir):\n",
    "    path=os.path.join(root_dir, name)\n",
    "    for g in os.listdir(path):\n",
    "        if os.path.isdir(os.path.join(path,g)):\n",
    "            print (os.path.join(path,g))\n"
   ]
  },
  {
   "cell_type": "code",
   "execution_count": 23,
   "id": "03350fc2",
   "metadata": {},
   "outputs": [
    {
     "data": {
      "text/plain": [
       "'nii'"
      ]
     },
     "execution_count": 23,
     "metadata": {},
     "output_type": "execute_result"
    }
   ],
   "source": [
    "g.split(\".\")[1]"
   ]
  },
  {
   "cell_type": "markdown",
   "id": "a7171eb4",
   "metadata": {},
   "source": [
    "pre_opCT"
   ]
  }
 ],
 "metadata": {
  "kernelspec": {
   "display_name": "Python 3",
   "language": "python",
   "name": "python3"
  },
  "language_info": {
   "codemirror_mode": {
    "name": "ipython",
    "version": 3
   },
   "file_extension": ".py",
   "mimetype": "text/x-python",
   "name": "python",
   "nbconvert_exporter": "python",
   "pygments_lexer": "ipython3",
   "version": "3.8.10"
  }
 },
 "nbformat": 4,
 "nbformat_minor": 5
}
