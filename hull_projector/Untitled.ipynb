{
 "cells": [
  {
   "cell_type": "code",
   "execution_count": 1,
   "id": "c137b22e",
   "metadata": {},
   "outputs": [],
   "source": [
    "import os\n",
    "import numpy as np\n",
    "import scipy.io\n",
    "import nibabel as nib\n",
    "import sys\n",
    "sys.path.append(\"..\")\n",
    "from utils_l import naive_project\n",
    "from utils_l import math_project\n",
    "from utils_l import euclidean_distance_coords\n",
    "from mayavi import mlab"
   ]
  },
  {
   "cell_type": "code",
   "execution_count": 2,
   "id": "475cb822",
   "metadata": {},
   "outputs": [],
   "source": [
    "study_id = \"DBS_bT20\""
   ]
  },
  {
   "cell_type": "code",
   "execution_count": 3,
   "id": "57aa46b9",
   "metadata": {},
   "outputs": [],
   "source": [
    "prect = nib.load(os.path.join(\"../data\",\n",
    "                              study_id,\n",
    "                              \"preop_ct.nii\"))\n",
    "Tmatrix = np.transpose(prect.affine)"
   ]
  },
  {
   "cell_type": "code",
   "execution_count": 4,
   "id": "2e769b77",
   "metadata": {},
   "outputs": [
    {
     "data": {
      "text/plain": [
       "(4, 4)"
      ]
     },
     "execution_count": 4,
     "metadata": {},
     "output_type": "execute_result"
    }
   ],
   "source": [
    "np.linalg.inv(Tmatrix).shape"
   ]
  },
  {
   "cell_type": "code",
   "execution_count": 5,
   "id": "7837ddc8",
   "metadata": {},
   "outputs": [],
   "source": [
    "# this is how the ideal output from Micah's functon should look like\n",
    "ground_truth_coords = np.load(os.path.join(\"../data\",\n",
    "                                      study_id,\n",
    "                                      \"electrode_locs.npy\"))\n",
    "temp_coords = np.hstack( (ground_truth_coords, np.ones( (ground_truth_coords.shape[0],1))))\n",
    "aligned_coords= (temp_coords @ np.linalg.inv(Tmatrix))[:,0:2]"
   ]
  },
  {
   "cell_type": "code",
   "execution_count": 6,
   "id": "1651f72e",
   "metadata": {},
   "outputs": [],
   "source": [
    "hull = scipy.io.loadmat(os.path.join(\"../data\",\n",
    "                                     study_id,\n",
    "                                     \"hull_rh.mat\"))\n",
    "points_hull = np.array(hull['mask_indices'])"
   ]
  },
  {
   "cell_type": "code",
   "execution_count": 7,
   "id": "df184ab8",
   "metadata": {},
   "outputs": [],
   "source": [
    "coords = aligned_coords\n",
    "coords = np.hstack( (aligned_coords, np.zeros( (aligned_coords.shape[0],1))))\n",
    "coords = np.hstack( (coords, np.ones( (coords.shape[0],1))))\n",
    "coords = coords @ Tmatrix\n",
    "prediction = np.array(naive_project(coords[:,0:3],points_hull))"
   ]
  },
  {
   "cell_type": "code",
   "execution_count": 8,
   "id": "af8434e2",
   "metadata": {},
   "outputs": [
    {
     "name": "stdout",
     "output_type": "stream",
     "text": [
      "[[ 48 -73  21]\n",
      " [ 45 -68  28]\n",
      " [ 44 -62  34]\n",
      " [ 44 -55  40]\n",
      " [ 45 -47  44]\n",
      " [ 42 -39  47]\n",
      " [ 39 -31  50]\n",
      " [ 43 -21  51]]\n"
     ]
    }
   ],
   "source": [
    "print(prediction)"
   ]
  },
  {
   "cell_type": "code",
   "execution_count": 9,
   "id": "38f2c637",
   "metadata": {},
   "outputs": [
    {
     "name": "stderr",
     "output_type": "stream",
     "text": [
      "C:\\Users\\VukadinoviM\\Documents\\BrainReg\\hull_projector\\..\\utils_l\\utils.py:229: RuntimeWarning: divide by zero encountered in true_divide\n",
      "  t = (-b - W@V)/(U@V)\n"
     ]
    },
    {
     "data": {
      "text/plain": [
       "array([[ 49.98447447, -73.83932495,  21.71868932],\n",
       "       [ 47.38822299, -68.83932495,  28.71869308],\n",
       "       [ 46.38531003, -62.83932495,  34.71869433],\n",
       "       [ 45.83985548, -55.83932495,  40.71869433],\n",
       "       [ 46.3228032 , -47.83932495,  44.71869308],\n",
       "       [ 45.07279944, -39.83932495,  47.71869683],\n",
       "       [ 43.46953617, -31.83932495,  50.71870059],\n",
       "       [ 45.0103007 , -21.83932495,  51.71869558]])"
      ]
     },
     "execution_count": 9,
     "metadata": {},
     "output_type": "execute_result"
    }
   ],
   "source": [
    "coords = aligned_coords\n",
    "coords = np.hstack( (aligned_coords, np.zeros( (aligned_coords.shape[0],1))))\n",
    "coords = np.hstack( (coords, np.ones( (coords.shape[0],1))))\n",
    "coords = coords @ Tmatrix\n",
    "prediction2 = np.array(math_project(coords[:,0:3],points_hull))\n",
    "prediction2"
   ]
  },
  {
   "cell_type": "code",
   "execution_count": 10,
   "id": "e366f03b",
   "metadata": {},
   "outputs": [
    {
     "data": {
      "text/plain": [
       "(8, 3)"
      ]
     },
     "execution_count": 10,
     "metadata": {},
     "output_type": "execute_result"
    }
   ],
   "source": [
    "ground_truth_coords.shape"
   ]
  },
  {
   "cell_type": "code",
   "execution_count": 11,
   "id": "d862ab1c",
   "metadata": {},
   "outputs": [
    {
     "data": {
      "text/plain": [
       "8"
      ]
     },
     "execution_count": 11,
     "metadata": {},
     "output_type": "execute_result"
    }
   ],
   "source": [
    "len(prediction2)"
   ]
  },
  {
   "cell_type": "code",
   "execution_count": 14,
   "id": "b6477a1c",
   "metadata": {},
   "outputs": [
    {
     "data": {
      "text/plain": [
       "1.5490386167171142"
      ]
     },
     "execution_count": 14,
     "metadata": {},
     "output_type": "execute_result"
    }
   ],
   "source": [
    "euclidean_distance_coords(ground_truth_coords, prediction2)"
   ]
  },
  {
   "cell_type": "code",
   "execution_count": 15,
   "id": "8faa2072",
   "metadata": {},
   "outputs": [
    {
     "data": {
      "text/plain": [
       "array([[ 48.88512421, -73.83932495,  21.71887207],\n",
       "       [ 45.88512421, -68.83932495,  28.71887207],\n",
       "       [ 44.88512421, -62.83932495,  34.71887207],\n",
       "       [ 44.88512421, -55.83932495,  40.71887207],\n",
       "       [ 45.88512421, -47.83932495,  44.71887207],\n",
       "       [ 42.88512421, -39.83932495,  47.71887207],\n",
       "       [ 39.88512421, -31.83932495,  50.71887207],\n",
       "       [ 43.88512421, -21.83932495,  51.71887207]])"
      ]
     },
     "execution_count": 15,
     "metadata": {},
     "output_type": "execute_result"
    }
   ],
   "source": [
    "ground_truth_coords"
   ]
  },
  {
   "cell_type": "code",
   "execution_count": 16,
   "id": "578b63b6",
   "metadata": {},
   "outputs": [
    {
     "data": {
      "text/plain": [
       "array([[ 49.98447447, -73.83932495,  21.71868932],\n",
       "       [ 47.38822299, -68.83932495,  28.71869308],\n",
       "       [ 46.38531003, -62.83932495,  34.71869433],\n",
       "       [ 45.83985548, -55.83932495,  40.71869433],\n",
       "       [ 46.3228032 , -47.83932495,  44.71869308],\n",
       "       [ 45.07279944, -39.83932495,  47.71869683],\n",
       "       [ 43.46953617, -31.83932495,  50.71870059],\n",
       "       [ 45.0103007 , -21.83932495,  51.71869558]])"
      ]
     },
     "execution_count": 16,
     "metadata": {},
     "output_type": "execute_result"
    }
   ],
   "source": [
    "prediction2"
   ]
  },
  {
   "cell_type": "code",
   "execution_count": 16,
   "id": "61fcdc75",
   "metadata": {},
   "outputs": [
    {
     "data": {
      "text/plain": [
       "0.0"
      ]
     },
     "execution_count": 16,
     "metadata": {},
     "output_type": "execute_result"
    }
   ],
   "source": [
    "np.mean(np.sqrt(np.sum( (prediction2 -prediction2)**2, axis=1)))"
   ]
  },
  {
   "cell_type": "code",
   "execution_count": 14,
   "id": "c38e5e0e",
   "metadata": {},
   "outputs": [],
   "source": [
    "# mlab.init_notebook()\n",
    "# fig = mlab.figure(bgcolor=(1, 1, 1), size=(500, 500))\n",
    "# mlab.points3d(points_hull[:,0],points_hull[:,1], points_hull[:,2], color = (0.2,1,.2), scale_factor=10)\n",
    "# mlab.points3d(prediction[:,0],prediction[:,1],prediction[:,2], color = (1,0,0), scale_factor=20)\n",
    "# mlab.points3d(vec[0],vec[1],vec[2], color = (0,0,1), scale_factor=20)\n",
    "\n",
    "#mlab.points3d(label_ex[:,0],label_ex[:,1],label_ex[:,2], color = (1,0,0), scale_factor=10)"
   ]
  }
 ],
 "metadata": {
  "kernelspec": {
   "display_name": "Python 3",
   "language": "python",
   "name": "python3"
  },
  "language_info": {
   "codemirror_mode": {
    "name": "ipython",
    "version": 3
   },
   "file_extension": ".py",
   "mimetype": "text/x-python",
   "name": "python",
   "nbconvert_exporter": "python",
   "pygments_lexer": "ipython3",
   "version": "3.8.10"
  }
 },
 "nbformat": 4,
 "nbformat_minor": 5
}
