{
 "cells": [
  {
   "cell_type": "code",
   "execution_count": 1,
   "id": "c137b22e",
   "metadata": {},
   "outputs": [],
   "source": [
    "import os\n",
    "import numpy as np\n",
    "import scipy.io\n",
    "import nibabel as nib\n",
    "import sys\n",
    "sys.path.append(\"..\")\n",
    "from utils_l import naive_project\n",
    "from utils_l import math_project\n",
    "from utils_l import euclidean_distance_coords\n",
    "from mayavi import mlab\n",
    "from tqdm import tqdm\n",
    "import pandas as pd"
   ]
  },
  {
   "cell_type": "code",
   "execution_count": 2,
   "id": "475cb822",
   "metadata": {},
   "outputs": [],
   "source": [
    "study_id = \"DBS_bT20\""
   ]
  },
  {
   "cell_type": "code",
   "execution_count": 3,
   "id": "c785c08d",
   "metadata": {},
   "outputs": [],
   "source": [
    "prect = nib.load(os.path.join(\"../data\",\n",
    "                              study_id,\n",
    "                              \"preop_ct.nii\"))\n",
    "Tmatrix = np.transpose(prect.affine)"
   ]
  },
  {
   "cell_type": "code",
   "execution_count": 5,
   "id": "7837ddc8",
   "metadata": {},
   "outputs": [],
   "source": [
    "# this is how the ideal output from Micah's functon should look like\n",
    "ground_truth_coords = np.load(os.path.join(\"../data\",\n",
    "                                      study_id,\n",
    "                                      \"electrode_locs.npy\"))\n",
    "temp_coords = np.hstack( (ground_truth_coords, np.ones( (ground_truth_coords.shape[0],1))))\n",
    "aligned_coords= (temp_coords @ np.linalg.inv(Tmatrix))[:,0:2]"
   ]
  },
  {
   "cell_type": "code",
   "execution_count": 6,
   "id": "1651f72e",
   "metadata": {},
   "outputs": [],
   "source": [
    "hull = scipy.io.loadmat(os.path.join(\"../data\",\n",
    "                                     study_id,\n",
    "                                     \"hull_rh.mat\"))\n",
    "points_hull = np.array(hull['mask_indices'])"
   ]
  },
  {
   "cell_type": "code",
   "execution_count": 7,
   "id": "df184ab8",
   "metadata": {},
   "outputs": [],
   "source": [
    "coords = aligned_coords\n",
    "coords = np.hstack( (aligned_coords, np.zeros( (aligned_coords.shape[0],1))))\n",
    "coords = np.hstack( (coords, np.ones( (coords.shape[0],1))))\n",
    "coords = coords @ Tmatrix\n",
    "prediction = np.array(naive_project(coords[:,0:3],points_hull))"
   ]
  },
  {
   "cell_type": "code",
   "execution_count": 9,
   "id": "38f2c637",
   "metadata": {},
   "outputs": [
    {
     "name": "stderr",
     "output_type": "stream",
     "text": [
      "C:\\Users\\VukadinoviM\\Documents\\BrainReg\\hull_projector\\..\\utils_l\\utils.py:229: RuntimeWarning: divide by zero encountered in true_divide\n",
      "  t = (-b - W@V)/(U@V)\n"
     ]
    },
    {
     "data": {
      "text/plain": [
       "array([[ 49.98447447, -73.83932495,  21.71868932],\n",
       "       [ 47.38822299, -68.83932495,  28.71869308],\n",
       "       [ 46.38531003, -62.83932495,  34.71869433],\n",
       "       [ 45.83985548, -55.83932495,  40.71869433],\n",
       "       [ 46.3228032 , -47.83932495,  44.71869308],\n",
       "       [ 45.07279944, -39.83932495,  47.71869683],\n",
       "       [ 43.46953617, -31.83932495,  50.71870059],\n",
       "       [ 45.0103007 , -21.83932495,  51.71869558]])"
      ]
     },
     "execution_count": 9,
     "metadata": {},
     "output_type": "execute_result"
    }
   ],
   "source": [
    "coords = aligned_coords\n",
    "coords = np.hstack( (aligned_coords, np.zeros( (aligned_coords.shape[0],1))))\n",
    "coords = np.hstack( (coords, np.ones( (coords.shape[0],1))))\n",
    "coords = coords @ Tmatrix\n",
    "prediction2 = np.array(math_project(coords[:,0:3],points_hull))\n",
    "prediction2"
   ]
  },
  {
   "cell_type": "code",
   "execution_count": 2,
   "id": "2019addd",
   "metadata": {},
   "outputs": [],
   "source": [
    "m1 = []\n",
    "m2 = []"
   ]
  },
  {
   "cell_type": "code",
   "execution_count": 3,
   "id": "0884503e",
   "metadata": {},
   "outputs": [],
   "source": [
    "df = pd.read_csv(\"../split.csv\")\n",
    "df = df[df['split']=='test']"
   ]
  },
  {
   "cell_type": "code",
   "execution_count": null,
   "id": "70fd8275",
   "metadata": {},
   "outputs": [
    {
     "name": "stderr",
     "output_type": "stream",
     "text": [
      "  0%|                                                                                                                                                                                                                                                    | 0/18 [00:00<?, ?it/s]C:\\Users\\VukadinoviM\\Documents\\BrainReg\\hull_projector\\..\\utils_l\\utils.py:228: RuntimeWarning: divide by zero encountered in true_divide\n",
      "  t = (-b - W@V)/(U@V)\n",
      " 78%|██████████████████████████████████████████████████████████████████████████████████████████████████████████████████████████████████████████████████████████████████████████████████████▊                                                    | 14/18 [02:32<01:00, 15.10s/it]"
     ]
    }
   ],
   "source": [
    "for study_id in tqdm(df.ids):\n",
    "    try:\n",
    "        prect = nib.load(os.path.join(\"../data\",\n",
    "                                      study_id,\n",
    "                                      \"preop_ct.nii\"))\n",
    "        Tmatrix = np.transpose(prect.affine)\n",
    "\n",
    "        ground_truth_coords = np.load(os.path.join(\"../data\",\n",
    "                                              study_id,\n",
    "                                              \"electrode_locs.npy\"))\n",
    "        temp_coords = np.hstack( (ground_truth_coords, np.ones( (ground_truth_coords.shape[0],1))))\n",
    "        aligned_coords= (temp_coords @ np.linalg.inv(Tmatrix))[:,0:2]\n",
    "\n",
    "        hull = scipy.io.loadmat(os.path.join(\"../data\",\n",
    "                                             study_id,\n",
    "                                             \"hull_rh.mat\"))\n",
    "        points_hull = np.array(hull['mask_indices'])\n",
    "\n",
    "        coords = aligned_coords\n",
    "        coords = np.hstack( (aligned_coords, np.zeros( (aligned_coords.shape[0],1))))\n",
    "        coords = np.hstack( (coords, np.ones( (coords.shape[0],1))))\n",
    "        coords = coords @ Tmatrix\n",
    "        prediction = np.array(naive_project(coords[:,0:3],points_hull))\n",
    "\n",
    "        coords = aligned_coords\n",
    "        coords = np.hstack( (aligned_coords, np.zeros( (aligned_coords.shape[0],1))))\n",
    "        coords = np.hstack( (coords, np.ones( (coords.shape[0],1))))\n",
    "        coords = coords @ Tmatrix\n",
    "        prediction2 = np.array(math_project(coords[:,0:3],points_hull))\n",
    "        prediction2\n",
    "\n",
    "        m1.append(euclidean_distance_coords(ground_truth_coords, prediction))\n",
    "        m2.append(euclidean_distance_coords(ground_truth_coords, prediction2))\n",
    "    except:\n",
    "        pass"
   ]
  },
  {
   "cell_type": "code",
   "execution_count": null,
   "id": "6e2eabcc",
   "metadata": {},
   "outputs": [],
   "source": [
    "m1"
   ]
  },
  {
   "cell_type": "code",
   "execution_count": null,
   "id": "03f286e6",
   "metadata": {},
   "outputs": [],
   "source": [
    "m2"
   ]
  },
  {
   "cell_type": "code",
   "execution_count": 14,
   "id": "c38e5e0e",
   "metadata": {},
   "outputs": [],
   "source": [
    "# mlab.init_notebook()\n",
    "# fig = mlab.figure(bgcolor=(1, 1, 1), size=(500, 500))\n",
    "# mlab.points3d(points_hull[:,0],points_hull[:,1], points_hull[:,2], color = (0.2,1,.2), scale_factor=10)\n",
    "# mlab.points3d(prediction[:,0],prediction[:,1],prediction[:,2], color = (1,0,0), scale_factor=20)\n",
    "# mlab.points3d(vec[0],vec[1],vec[2], color = (0,0,1), scale_factor=20)\n",
    "\n",
    "#mlab.points3d(label_ex[:,0],label_ex[:,1],label_ex[:,2], color = (1,0,0), scale_factor=10)"
   ]
  }
 ],
 "metadata": {
  "kernelspec": {
   "display_name": "Python 3",
   "language": "python",
   "name": "python3"
  },
  "language_info": {
   "codemirror_mode": {
    "name": "ipython",
    "version": 3
   },
   "file_extension": ".py",
   "mimetype": "text/x-python",
   "name": "python",
   "nbconvert_exporter": "python",
   "pygments_lexer": "ipython3",
   "version": "3.8.10"
  }
 },
 "nbformat": 4,
 "nbformat_minor": 5
}
